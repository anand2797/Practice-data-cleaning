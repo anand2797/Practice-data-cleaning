{
 "cells": [
  {
   "cell_type": "markdown",
   "id": "075a3908",
   "metadata": {},
   "source": [
    "# Kidney Diseases data\n",
    "\n",
    "## I am trying to clean this dataset and transform by encoding and scaling ,  please take a look and give me advice to me to improve myself to data analysis.\n",
    "\n",
    "### 1) Data Summary :\n",
    "   - There are 400 rows in dataset, which are having information of patients of kidney diseas to tell us type of kidney disease.\n",
    "   - I am trying to clean this dataset, because there are many missing values are present in dataset\n",
    "   - In this dataset, we have 400 rows and 26 columns (features)\n",
    "   - Our target feature is 'classification' which is having two types of kidney disease 'ckd' means 'Chronic Kidney Disease' and 'notckd' means 'Not Chronic Kidney Disease.\n",
    "   \n",
    "### 2. Write Column descriptions:\n",
    "- `id`: Unique identifier for each patient (e.g. 0,1,2,3,...n etc.)\n",
    "- `age`: Age of the patient in years (e.g. 35, 42, 67, etc.)\n",
    "- `bp`: Blood pressure of the patient in mm/Hg (e.g. 120,80, 140, etc.)\n",
    "- `sg`: Specific gravity of the patient's urine (e.g. 1.010, 1.020, etc.)\n",
    "- `al`: Amount of albumin present in the patient's urine (e.g. trace, 1+, 2+, etc.)\n",
    "- `su`: Amount of sugar present in the patient's urine (e.g. trace, 1+, 2+, etc.)\n",
    "- `rbc`: Presence of red blood cells in the patient's urine (e.g. normal, abnormal)\n",
    "- `pc`: Presence of pus cells in the patient's urine (e.g. normal, abnormal)\n",
    "- `pcc`: Presence of bacteria in the patient's urine (e.g. present, absent)\n",
    "    - `Pcc` and `ba` both refer to the presence of bacteria in the patient's urine. \n",
    "    - `Pcc` stands for \"pyuria or leukocyte esterase test results\", which is a measure of the presence of white blood cells in the urine, and can indicate an infection in the urinary tract\n",
    "- `ba`: Presence of bacteria in the patient's urine (e.g. present, absent)\n",
    "    - `Ba` stands for \"bacteria\", and simply indicates whether bacteria were found in the urine or not.\n",
    "    - Both `pcc` and `ba` are important parameters for diagnosing and monitoring urinary tract infections, which can affect the kidneys and lead to kidney damage if left untreated.\n",
    "- `bgr`: Blood glucose level of the patient in mg/dL (e.g. 120, 200, etc.)\n",
    "- `bu`: Blood urea level of the patient in mg/dL (e.g. 20, 30, etc.)\n",
    "- `sc`: Serum creatinine level of the patient in mg/dL (e.g. 0.8, 1.2, etc.)\n",
    "- `sod`: Sodium level in the patient's blood in mEq/L (e.g. 135, 140, etc.)\n",
    "- `pot`: Potassium level in the patient's blood in mEq/L (e.g. 3.5, 4.0, etc.)\n",
    "- `hemo`: Hemoglobin level in the patient's blood in g/dL (e.g. 10, 12, etc.)\n",
    "- `pcv`: Packed cell volume (PCV) in the patient's blood (e.g. 35, 40, etc.)\n",
    "- `wc`: White blood cell (WBC) count in the patient's blood (e.g. 7000, 8000, etc.)\n",
    "- `rc`: Red blood cell (RBC) count in the patient's blood (e.g. 4.5, 5.0, etc.)\n",
    "- `htn`: Presence of hypertension (e.g. yes, no)\n",
    "- `dm`: Presence of diabetes mellitus (e.g. yes, no)\n",
    "- `cad`: Presence of coronary artery disease (e.g. yes, no)\n",
    "- `appet`: Appetite of the patient (e.g. good, poor)\n",
    "- `pe`: Presence of pedal edema (e.g. yes, no)\n",
    "- `ane`: Presence of anemia (e.g. yes, no)\n",
    "- `classification`: Diagnosis of kidney disease (e.g. ckd as chronic kidney disease, notckd as not chronic kidney disease , etc.)"
   ]
  },
  {
   "cell_type": "markdown",
   "id": "3b1c4303",
   "metadata": {},
   "source": [
    "# Issues with dataset\n",
    "### After manual and programmatic analysis I have some issues with dataset, so I am defining here that issues\n",
    "1. Dirty data: \n",
    "  - A. Completeness : missing data\n",
    "     - There is lots of data missing in our dataset\n",
    "      - `age` has 9 missing values.\n",
    "      - `bp` column has 12 missing values\n",
    "      - `sg` has 47 missing values\n",
    "      - `al` column has 46 missing values.\n",
    "      - `su` has 49 \n",
    "      - `rbc` has 152\n",
    "      - `pc` has 65\n",
    "      - `pcc` has 4\n",
    "      - `ba` has 4 \n",
    "      - `bgr` has 44\n",
    "      - `bu` has 19\n",
    "      - `sc` has 17\n",
    "      - `sod` has 87\n",
    "      - `pot` has 88\n",
    "      - `hemo` has 52\n",
    "      - `pcv` has 70\n",
    "      - `wc` has 105\n",
    "      - `rc` has 130\n",
    "      - `htn` has 2\n",
    "      - `dm` has 2\n",
    "      - `cad` has 2\n",
    "      - `appet` has 1 missing value\n",
    "      - `pe` also has 1 \n",
    "      - `ane` also has 1 missing value\n",
    " - B. validity :\n",
    "  \n",
    " - C. Accuracy :\n",
    "        \n",
    "      - data type of column `pcv`,`wc` and `rc` should be numeric, but we have these columns  as 'object'\n",
    "      \n",
    " - D. Consistensy : both valid and accurate but written differently -> no and \\tno, yes and \\tyes \n",
    "      - In column `dm` and `cad` there are some values are '\\tno' and '\\tyes', we have to change them to normal 'no' and 'yes'.\n",
    "      - In our target column 'classification' there are  values like 'yes' and 'yes\\t', e have to change them to 'yes'.\n",
    "     \n",
    "      \n",
    "     "
   ]
  },
  {
   "cell_type": "code",
   "execution_count": 1,
   "id": "51a31dc7",
   "metadata": {},
   "outputs": [],
   "source": [
    "import pandas as pd\n",
    "import numpy as np\n",
    "import matplotlib.pyplot as plt\n",
    "import seaborn as sns"
   ]
  },
  {
   "cell_type": "code",
   "execution_count": 2,
   "id": "eaf00cac",
   "metadata": {},
   "outputs": [],
   "source": [
    "data = pd.read_csv('kidney_disease.csv')"
   ]
  },
  {
   "cell_type": "code",
   "execution_count": 3,
   "id": "3f1e8b99",
   "metadata": {},
   "outputs": [],
   "source": [
    "# make copy of df1\n",
    "df = data.copy()"
   ]
  },
  {
   "cell_type": "code",
   "execution_count": 4,
   "id": "7c7cdc43",
   "metadata": {},
   "outputs": [
    {
     "data": {
      "text/html": [
       "<div>\n",
       "<style scoped>\n",
       "    .dataframe tbody tr th:only-of-type {\n",
       "        vertical-align: middle;\n",
       "    }\n",
       "\n",
       "    .dataframe tbody tr th {\n",
       "        vertical-align: top;\n",
       "    }\n",
       "\n",
       "    .dataframe thead th {\n",
       "        text-align: right;\n",
       "    }\n",
       "</style>\n",
       "<table border=\"1\" class=\"dataframe\">\n",
       "  <thead>\n",
       "    <tr style=\"text-align: right;\">\n",
       "      <th></th>\n",
       "      <th>id</th>\n",
       "      <th>age</th>\n",
       "      <th>bp</th>\n",
       "      <th>sg</th>\n",
       "      <th>al</th>\n",
       "      <th>su</th>\n",
       "      <th>rbc</th>\n",
       "      <th>pc</th>\n",
       "      <th>pcc</th>\n",
       "      <th>ba</th>\n",
       "      <th>...</th>\n",
       "      <th>pcv</th>\n",
       "      <th>wc</th>\n",
       "      <th>rc</th>\n",
       "      <th>htn</th>\n",
       "      <th>dm</th>\n",
       "      <th>cad</th>\n",
       "      <th>appet</th>\n",
       "      <th>pe</th>\n",
       "      <th>ane</th>\n",
       "      <th>classification</th>\n",
       "    </tr>\n",
       "  </thead>\n",
       "  <tbody>\n",
       "    <tr>\n",
       "      <th>0</th>\n",
       "      <td>0</td>\n",
       "      <td>48.0</td>\n",
       "      <td>80.0</td>\n",
       "      <td>1.020</td>\n",
       "      <td>1.0</td>\n",
       "      <td>0.0</td>\n",
       "      <td>NaN</td>\n",
       "      <td>normal</td>\n",
       "      <td>notpresent</td>\n",
       "      <td>notpresent</td>\n",
       "      <td>...</td>\n",
       "      <td>44</td>\n",
       "      <td>7800</td>\n",
       "      <td>5.2</td>\n",
       "      <td>yes</td>\n",
       "      <td>yes</td>\n",
       "      <td>no</td>\n",
       "      <td>good</td>\n",
       "      <td>no</td>\n",
       "      <td>no</td>\n",
       "      <td>ckd</td>\n",
       "    </tr>\n",
       "    <tr>\n",
       "      <th>1</th>\n",
       "      <td>1</td>\n",
       "      <td>7.0</td>\n",
       "      <td>50.0</td>\n",
       "      <td>1.020</td>\n",
       "      <td>4.0</td>\n",
       "      <td>0.0</td>\n",
       "      <td>NaN</td>\n",
       "      <td>normal</td>\n",
       "      <td>notpresent</td>\n",
       "      <td>notpresent</td>\n",
       "      <td>...</td>\n",
       "      <td>38</td>\n",
       "      <td>6000</td>\n",
       "      <td>NaN</td>\n",
       "      <td>no</td>\n",
       "      <td>no</td>\n",
       "      <td>no</td>\n",
       "      <td>good</td>\n",
       "      <td>no</td>\n",
       "      <td>no</td>\n",
       "      <td>ckd</td>\n",
       "    </tr>\n",
       "    <tr>\n",
       "      <th>2</th>\n",
       "      <td>2</td>\n",
       "      <td>62.0</td>\n",
       "      <td>80.0</td>\n",
       "      <td>1.010</td>\n",
       "      <td>2.0</td>\n",
       "      <td>3.0</td>\n",
       "      <td>normal</td>\n",
       "      <td>normal</td>\n",
       "      <td>notpresent</td>\n",
       "      <td>notpresent</td>\n",
       "      <td>...</td>\n",
       "      <td>31</td>\n",
       "      <td>7500</td>\n",
       "      <td>NaN</td>\n",
       "      <td>no</td>\n",
       "      <td>yes</td>\n",
       "      <td>no</td>\n",
       "      <td>poor</td>\n",
       "      <td>no</td>\n",
       "      <td>yes</td>\n",
       "      <td>ckd</td>\n",
       "    </tr>\n",
       "    <tr>\n",
       "      <th>3</th>\n",
       "      <td>3</td>\n",
       "      <td>48.0</td>\n",
       "      <td>70.0</td>\n",
       "      <td>1.005</td>\n",
       "      <td>4.0</td>\n",
       "      <td>0.0</td>\n",
       "      <td>normal</td>\n",
       "      <td>abnormal</td>\n",
       "      <td>present</td>\n",
       "      <td>notpresent</td>\n",
       "      <td>...</td>\n",
       "      <td>32</td>\n",
       "      <td>6700</td>\n",
       "      <td>3.9</td>\n",
       "      <td>yes</td>\n",
       "      <td>no</td>\n",
       "      <td>no</td>\n",
       "      <td>poor</td>\n",
       "      <td>yes</td>\n",
       "      <td>yes</td>\n",
       "      <td>ckd</td>\n",
       "    </tr>\n",
       "    <tr>\n",
       "      <th>4</th>\n",
       "      <td>4</td>\n",
       "      <td>51.0</td>\n",
       "      <td>80.0</td>\n",
       "      <td>1.010</td>\n",
       "      <td>2.0</td>\n",
       "      <td>0.0</td>\n",
       "      <td>normal</td>\n",
       "      <td>normal</td>\n",
       "      <td>notpresent</td>\n",
       "      <td>notpresent</td>\n",
       "      <td>...</td>\n",
       "      <td>35</td>\n",
       "      <td>7300</td>\n",
       "      <td>4.6</td>\n",
       "      <td>no</td>\n",
       "      <td>no</td>\n",
       "      <td>no</td>\n",
       "      <td>good</td>\n",
       "      <td>no</td>\n",
       "      <td>no</td>\n",
       "      <td>ckd</td>\n",
       "    </tr>\n",
       "  </tbody>\n",
       "</table>\n",
       "<p>5 rows × 26 columns</p>\n",
       "</div>"
      ],
      "text/plain": [
       "   id   age    bp     sg   al   su     rbc        pc         pcc          ba  \\\n",
       "0   0  48.0  80.0  1.020  1.0  0.0     NaN    normal  notpresent  notpresent   \n",
       "1   1   7.0  50.0  1.020  4.0  0.0     NaN    normal  notpresent  notpresent   \n",
       "2   2  62.0  80.0  1.010  2.0  3.0  normal    normal  notpresent  notpresent   \n",
       "3   3  48.0  70.0  1.005  4.0  0.0  normal  abnormal     present  notpresent   \n",
       "4   4  51.0  80.0  1.010  2.0  0.0  normal    normal  notpresent  notpresent   \n",
       "\n",
       "   ...  pcv    wc   rc  htn   dm  cad appet   pe  ane classification  \n",
       "0  ...   44  7800  5.2  yes  yes   no  good   no   no            ckd  \n",
       "1  ...   38  6000  NaN   no   no   no  good   no   no            ckd  \n",
       "2  ...   31  7500  NaN   no  yes   no  poor   no  yes            ckd  \n",
       "3  ...   32  6700  3.9  yes   no   no  poor  yes  yes            ckd  \n",
       "4  ...   35  7300  4.6   no   no   no  good   no   no            ckd  \n",
       "\n",
       "[5 rows x 26 columns]"
      ]
     },
     "execution_count": 4,
     "metadata": {},
     "output_type": "execute_result"
    }
   ],
   "source": [
    "df.head()"
   ]
  },
  {
   "cell_type": "markdown",
   "id": "8a5e49b5",
   "metadata": {},
   "source": [
    "# manual analysis in excel"
   ]
  },
  {
   "cell_type": "code",
   "execution_count": 5,
   "id": "229cddc8",
   "metadata": {},
   "outputs": [],
   "source": [
    "# make excel file for this dataset by writing data in excel sheet\n",
    "df.to_excel('kidney.xlsx')"
   ]
  },
  {
   "cell_type": "code",
   "execution_count": null,
   "id": "2d1f1f4a",
   "metadata": {},
   "outputs": [],
   "source": []
  },
  {
   "cell_type": "markdown",
   "id": "12295192",
   "metadata": {},
   "source": [
    "# Programatically analysis"
   ]
  },
  {
   "cell_type": "code",
   "execution_count": 6,
   "id": "0e166154",
   "metadata": {},
   "outputs": [
    {
     "data": {
      "text/html": [
       "<div>\n",
       "<style scoped>\n",
       "    .dataframe tbody tr th:only-of-type {\n",
       "        vertical-align: middle;\n",
       "    }\n",
       "\n",
       "    .dataframe tbody tr th {\n",
       "        vertical-align: top;\n",
       "    }\n",
       "\n",
       "    .dataframe thead th {\n",
       "        text-align: right;\n",
       "    }\n",
       "</style>\n",
       "<table border=\"1\" class=\"dataframe\">\n",
       "  <thead>\n",
       "    <tr style=\"text-align: right;\">\n",
       "      <th></th>\n",
       "      <th>id</th>\n",
       "      <th>age</th>\n",
       "      <th>bp</th>\n",
       "      <th>sg</th>\n",
       "      <th>al</th>\n",
       "      <th>su</th>\n",
       "      <th>rbc</th>\n",
       "      <th>pc</th>\n",
       "      <th>pcc</th>\n",
       "      <th>ba</th>\n",
       "      <th>...</th>\n",
       "      <th>pcv</th>\n",
       "      <th>wc</th>\n",
       "      <th>rc</th>\n",
       "      <th>htn</th>\n",
       "      <th>dm</th>\n",
       "      <th>cad</th>\n",
       "      <th>appet</th>\n",
       "      <th>pe</th>\n",
       "      <th>ane</th>\n",
       "      <th>classification</th>\n",
       "    </tr>\n",
       "  </thead>\n",
       "  <tbody>\n",
       "    <tr>\n",
       "      <th>0</th>\n",
       "      <td>0</td>\n",
       "      <td>48.0</td>\n",
       "      <td>80.0</td>\n",
       "      <td>1.020</td>\n",
       "      <td>1.0</td>\n",
       "      <td>0.0</td>\n",
       "      <td>NaN</td>\n",
       "      <td>normal</td>\n",
       "      <td>notpresent</td>\n",
       "      <td>notpresent</td>\n",
       "      <td>...</td>\n",
       "      <td>44</td>\n",
       "      <td>7800</td>\n",
       "      <td>5.2</td>\n",
       "      <td>yes</td>\n",
       "      <td>yes</td>\n",
       "      <td>no</td>\n",
       "      <td>good</td>\n",
       "      <td>no</td>\n",
       "      <td>no</td>\n",
       "      <td>ckd</td>\n",
       "    </tr>\n",
       "    <tr>\n",
       "      <th>1</th>\n",
       "      <td>1</td>\n",
       "      <td>7.0</td>\n",
       "      <td>50.0</td>\n",
       "      <td>1.020</td>\n",
       "      <td>4.0</td>\n",
       "      <td>0.0</td>\n",
       "      <td>NaN</td>\n",
       "      <td>normal</td>\n",
       "      <td>notpresent</td>\n",
       "      <td>notpresent</td>\n",
       "      <td>...</td>\n",
       "      <td>38</td>\n",
       "      <td>6000</td>\n",
       "      <td>NaN</td>\n",
       "      <td>no</td>\n",
       "      <td>no</td>\n",
       "      <td>no</td>\n",
       "      <td>good</td>\n",
       "      <td>no</td>\n",
       "      <td>no</td>\n",
       "      <td>ckd</td>\n",
       "    </tr>\n",
       "    <tr>\n",
       "      <th>2</th>\n",
       "      <td>2</td>\n",
       "      <td>62.0</td>\n",
       "      <td>80.0</td>\n",
       "      <td>1.010</td>\n",
       "      <td>2.0</td>\n",
       "      <td>3.0</td>\n",
       "      <td>normal</td>\n",
       "      <td>normal</td>\n",
       "      <td>notpresent</td>\n",
       "      <td>notpresent</td>\n",
       "      <td>...</td>\n",
       "      <td>31</td>\n",
       "      <td>7500</td>\n",
       "      <td>NaN</td>\n",
       "      <td>no</td>\n",
       "      <td>yes</td>\n",
       "      <td>no</td>\n",
       "      <td>poor</td>\n",
       "      <td>no</td>\n",
       "      <td>yes</td>\n",
       "      <td>ckd</td>\n",
       "    </tr>\n",
       "    <tr>\n",
       "      <th>3</th>\n",
       "      <td>3</td>\n",
       "      <td>48.0</td>\n",
       "      <td>70.0</td>\n",
       "      <td>1.005</td>\n",
       "      <td>4.0</td>\n",
       "      <td>0.0</td>\n",
       "      <td>normal</td>\n",
       "      <td>abnormal</td>\n",
       "      <td>present</td>\n",
       "      <td>notpresent</td>\n",
       "      <td>...</td>\n",
       "      <td>32</td>\n",
       "      <td>6700</td>\n",
       "      <td>3.9</td>\n",
       "      <td>yes</td>\n",
       "      <td>no</td>\n",
       "      <td>no</td>\n",
       "      <td>poor</td>\n",
       "      <td>yes</td>\n",
       "      <td>yes</td>\n",
       "      <td>ckd</td>\n",
       "    </tr>\n",
       "    <tr>\n",
       "      <th>4</th>\n",
       "      <td>4</td>\n",
       "      <td>51.0</td>\n",
       "      <td>80.0</td>\n",
       "      <td>1.010</td>\n",
       "      <td>2.0</td>\n",
       "      <td>0.0</td>\n",
       "      <td>normal</td>\n",
       "      <td>normal</td>\n",
       "      <td>notpresent</td>\n",
       "      <td>notpresent</td>\n",
       "      <td>...</td>\n",
       "      <td>35</td>\n",
       "      <td>7300</td>\n",
       "      <td>4.6</td>\n",
       "      <td>no</td>\n",
       "      <td>no</td>\n",
       "      <td>no</td>\n",
       "      <td>good</td>\n",
       "      <td>no</td>\n",
       "      <td>no</td>\n",
       "      <td>ckd</td>\n",
       "    </tr>\n",
       "  </tbody>\n",
       "</table>\n",
       "<p>5 rows × 26 columns</p>\n",
       "</div>"
      ],
      "text/plain": [
       "   id   age    bp     sg   al   su     rbc        pc         pcc          ba  \\\n",
       "0   0  48.0  80.0  1.020  1.0  0.0     NaN    normal  notpresent  notpresent   \n",
       "1   1   7.0  50.0  1.020  4.0  0.0     NaN    normal  notpresent  notpresent   \n",
       "2   2  62.0  80.0  1.010  2.0  3.0  normal    normal  notpresent  notpresent   \n",
       "3   3  48.0  70.0  1.005  4.0  0.0  normal  abnormal     present  notpresent   \n",
       "4   4  51.0  80.0  1.010  2.0  0.0  normal    normal  notpresent  notpresent   \n",
       "\n",
       "   ...  pcv    wc   rc  htn   dm  cad appet   pe  ane classification  \n",
       "0  ...   44  7800  5.2  yes  yes   no  good   no   no            ckd  \n",
       "1  ...   38  6000  NaN   no   no   no  good   no   no            ckd  \n",
       "2  ...   31  7500  NaN   no  yes   no  poor   no  yes            ckd  \n",
       "3  ...   32  6700  3.9  yes   no   no  poor  yes  yes            ckd  \n",
       "4  ...   35  7300  4.6   no   no   no  good   no   no            ckd  \n",
       "\n",
       "[5 rows x 26 columns]"
      ]
     },
     "execution_count": 6,
     "metadata": {},
     "output_type": "execute_result"
    }
   ],
   "source": [
    "df.head()"
   ]
  },
  {
   "cell_type": "code",
   "execution_count": 7,
   "id": "908ac968",
   "metadata": {},
   "outputs": [
    {
     "data": {
      "text/plain": [
       "(400, 26)"
      ]
     },
     "execution_count": 7,
     "metadata": {},
     "output_type": "execute_result"
    }
   ],
   "source": [
    "df.shape"
   ]
  },
  {
   "cell_type": "code",
   "execution_count": 8,
   "id": "4cd92883",
   "metadata": {},
   "outputs": [
    {
     "name": "stdout",
     "output_type": "stream",
     "text": [
      "<class 'pandas.core.frame.DataFrame'>\n",
      "RangeIndex: 400 entries, 0 to 399\n",
      "Data columns (total 26 columns):\n",
      " #   Column          Non-Null Count  Dtype  \n",
      "---  ------          --------------  -----  \n",
      " 0   id              400 non-null    int64  \n",
      " 1   age             391 non-null    float64\n",
      " 2   bp              388 non-null    float64\n",
      " 3   sg              353 non-null    float64\n",
      " 4   al              354 non-null    float64\n",
      " 5   su              351 non-null    float64\n",
      " 6   rbc             248 non-null    object \n",
      " 7   pc              335 non-null    object \n",
      " 8   pcc             396 non-null    object \n",
      " 9   ba              396 non-null    object \n",
      " 10  bgr             356 non-null    float64\n",
      " 11  bu              381 non-null    float64\n",
      " 12  sc              383 non-null    float64\n",
      " 13  sod             313 non-null    float64\n",
      " 14  pot             312 non-null    float64\n",
      " 15  hemo            348 non-null    float64\n",
      " 16  pcv             330 non-null    object \n",
      " 17  wc              295 non-null    object \n",
      " 18  rc              270 non-null    object \n",
      " 19  htn             398 non-null    object \n",
      " 20  dm              398 non-null    object \n",
      " 21  cad             398 non-null    object \n",
      " 22  appet           399 non-null    object \n",
      " 23  pe              399 non-null    object \n",
      " 24  ane             399 non-null    object \n",
      " 25  classification  400 non-null    object \n",
      "dtypes: float64(11), int64(1), object(14)\n",
      "memory usage: 81.4+ KB\n"
     ]
    }
   ],
   "source": [
    "df.info()"
   ]
  },
  {
   "cell_type": "code",
   "execution_count": 9,
   "id": "6157a61a",
   "metadata": {},
   "outputs": [
    {
     "data": {
      "text/plain": [
       "0"
      ]
     },
     "execution_count": 9,
     "metadata": {},
     "output_type": "execute_result"
    }
   ],
   "source": [
    "# checking weather  'id' has duplicate values or not :\n",
    "df['id'].duplicated().sum()"
   ]
  },
  {
   "cell_type": "code",
   "execution_count": 10,
   "id": "15586d7b",
   "metadata": {},
   "outputs": [
    {
     "data": {
      "text/plain": [
       "0"
      ]
     },
     "execution_count": 10,
     "metadata": {},
     "output_type": "execute_result"
    }
   ],
   "source": [
    "df.drop('id', axis=1).duplicated().sum()"
   ]
  },
  {
   "cell_type": "code",
   "execution_count": 11,
   "id": "5a876ed1",
   "metadata": {
    "scrolled": true
   },
   "outputs": [
    {
     "name": "stdout",
     "output_type": "stream",
     "text": [
      " Total Missing values in age : 9\n",
      "------\n",
      " Total Missing values in bp : 12\n",
      "------\n",
      " Total Missing values in sg : 47\n",
      "------\n",
      " Total Missing values in al : 46\n",
      "------\n",
      " Total Missing values in su : 49\n",
      "------\n",
      " Total Missing values in rbc : 152\n",
      "------\n",
      " Total Missing values in pc : 65\n",
      "------\n",
      " Total Missing values in pcc : 4\n",
      "------\n",
      " Total Missing values in ba : 4\n",
      "------\n",
      " Total Missing values in bgr : 44\n",
      "------\n",
      " Total Missing values in bu : 19\n",
      "------\n",
      " Total Missing values in sc : 17\n",
      "------\n",
      " Total Missing values in sod : 87\n",
      "------\n",
      " Total Missing values in pot : 88\n",
      "------\n",
      " Total Missing values in hemo : 52\n",
      "------\n",
      " Total Missing values in pcv : 70\n",
      "------\n",
      " Total Missing values in wc : 105\n",
      "------\n",
      " Total Missing values in rc : 130\n",
      "------\n",
      " Total Missing values in htn : 2\n",
      "------\n",
      " Total Missing values in dm : 2\n",
      "------\n",
      " Total Missing values in cad : 2\n",
      "------\n",
      " Total Missing values in appet : 1\n",
      "------\n",
      " Total Missing values in pe : 1\n",
      "------\n",
      " Total Missing values in ane : 1\n",
      "------\n",
      " Total Missing values in classification : 0\n",
      "------\n"
     ]
    }
   ],
   "source": [
    "# checking missing data in our dataset\n",
    "for i in df.columns[1:]:\n",
    "    a = 1\n",
    "    \n",
    "    print(f\" Total Missing values in { i } : {df[i].isnull().sum()}\")\n",
    "    a+=1\n",
    "    print('------')"
   ]
  },
  {
   "cell_type": "code",
   "execution_count": 12,
   "id": "b0920709",
   "metadata": {},
   "outputs": [
    {
     "data": {
      "text/plain": [
       "id                  0\n",
       "age                 9\n",
       "bp                 12\n",
       "sg                 47\n",
       "al                 46\n",
       "su                 49\n",
       "rbc               152\n",
       "pc                 65\n",
       "pcc                 4\n",
       "ba                  4\n",
       "bgr                44\n",
       "bu                 19\n",
       "sc                 17\n",
       "sod                87\n",
       "pot                88\n",
       "hemo               52\n",
       "pcv                70\n",
       "wc                105\n",
       "rc                130\n",
       "htn                 2\n",
       "dm                  2\n",
       "cad                 2\n",
       "appet               1\n",
       "pe                  1\n",
       "ane                 1\n",
       "classification      0\n",
       "dtype: int64"
      ]
     },
     "execution_count": 12,
     "metadata": {},
     "output_type": "execute_result"
    }
   ],
   "source": [
    "df.isnull().sum()"
   ]
  },
  {
   "cell_type": "code",
   "execution_count": 13,
   "id": "d508c274",
   "metadata": {},
   "outputs": [
    {
     "data": {
      "text/html": [
       "<div>\n",
       "<style scoped>\n",
       "    .dataframe tbody tr th:only-of-type {\n",
       "        vertical-align: middle;\n",
       "    }\n",
       "\n",
       "    .dataframe tbody tr th {\n",
       "        vertical-align: top;\n",
       "    }\n",
       "\n",
       "    .dataframe thead th {\n",
       "        text-align: right;\n",
       "    }\n",
       "</style>\n",
       "<table border=\"1\" class=\"dataframe\">\n",
       "  <thead>\n",
       "    <tr style=\"text-align: right;\">\n",
       "      <th></th>\n",
       "      <th>id</th>\n",
       "      <th>age</th>\n",
       "      <th>bp</th>\n",
       "      <th>sg</th>\n",
       "      <th>al</th>\n",
       "      <th>su</th>\n",
       "      <th>bgr</th>\n",
       "      <th>bu</th>\n",
       "      <th>sc</th>\n",
       "      <th>sod</th>\n",
       "      <th>pot</th>\n",
       "      <th>hemo</th>\n",
       "    </tr>\n",
       "  </thead>\n",
       "  <tbody>\n",
       "    <tr>\n",
       "      <th>count</th>\n",
       "      <td>400.000000</td>\n",
       "      <td>391.000000</td>\n",
       "      <td>388.000000</td>\n",
       "      <td>353.000000</td>\n",
       "      <td>354.000000</td>\n",
       "      <td>351.000000</td>\n",
       "      <td>356.000000</td>\n",
       "      <td>381.000000</td>\n",
       "      <td>383.000000</td>\n",
       "      <td>313.000000</td>\n",
       "      <td>312.000000</td>\n",
       "      <td>348.000000</td>\n",
       "    </tr>\n",
       "    <tr>\n",
       "      <th>mean</th>\n",
       "      <td>199.500000</td>\n",
       "      <td>51.483376</td>\n",
       "      <td>76.469072</td>\n",
       "      <td>1.017408</td>\n",
       "      <td>1.016949</td>\n",
       "      <td>0.450142</td>\n",
       "      <td>148.036517</td>\n",
       "      <td>57.425722</td>\n",
       "      <td>3.072454</td>\n",
       "      <td>137.528754</td>\n",
       "      <td>4.627244</td>\n",
       "      <td>12.526437</td>\n",
       "    </tr>\n",
       "    <tr>\n",
       "      <th>std</th>\n",
       "      <td>115.614301</td>\n",
       "      <td>17.169714</td>\n",
       "      <td>13.683637</td>\n",
       "      <td>0.005717</td>\n",
       "      <td>1.352679</td>\n",
       "      <td>1.099191</td>\n",
       "      <td>79.281714</td>\n",
       "      <td>50.503006</td>\n",
       "      <td>5.741126</td>\n",
       "      <td>10.408752</td>\n",
       "      <td>3.193904</td>\n",
       "      <td>2.912587</td>\n",
       "    </tr>\n",
       "    <tr>\n",
       "      <th>min</th>\n",
       "      <td>0.000000</td>\n",
       "      <td>2.000000</td>\n",
       "      <td>50.000000</td>\n",
       "      <td>1.005000</td>\n",
       "      <td>0.000000</td>\n",
       "      <td>0.000000</td>\n",
       "      <td>22.000000</td>\n",
       "      <td>1.500000</td>\n",
       "      <td>0.400000</td>\n",
       "      <td>4.500000</td>\n",
       "      <td>2.500000</td>\n",
       "      <td>3.100000</td>\n",
       "    </tr>\n",
       "    <tr>\n",
       "      <th>25%</th>\n",
       "      <td>99.750000</td>\n",
       "      <td>42.000000</td>\n",
       "      <td>70.000000</td>\n",
       "      <td>1.010000</td>\n",
       "      <td>0.000000</td>\n",
       "      <td>0.000000</td>\n",
       "      <td>99.000000</td>\n",
       "      <td>27.000000</td>\n",
       "      <td>0.900000</td>\n",
       "      <td>135.000000</td>\n",
       "      <td>3.800000</td>\n",
       "      <td>10.300000</td>\n",
       "    </tr>\n",
       "    <tr>\n",
       "      <th>50%</th>\n",
       "      <td>199.500000</td>\n",
       "      <td>55.000000</td>\n",
       "      <td>80.000000</td>\n",
       "      <td>1.020000</td>\n",
       "      <td>0.000000</td>\n",
       "      <td>0.000000</td>\n",
       "      <td>121.000000</td>\n",
       "      <td>42.000000</td>\n",
       "      <td>1.300000</td>\n",
       "      <td>138.000000</td>\n",
       "      <td>4.400000</td>\n",
       "      <td>12.650000</td>\n",
       "    </tr>\n",
       "    <tr>\n",
       "      <th>75%</th>\n",
       "      <td>299.250000</td>\n",
       "      <td>64.500000</td>\n",
       "      <td>80.000000</td>\n",
       "      <td>1.020000</td>\n",
       "      <td>2.000000</td>\n",
       "      <td>0.000000</td>\n",
       "      <td>163.000000</td>\n",
       "      <td>66.000000</td>\n",
       "      <td>2.800000</td>\n",
       "      <td>142.000000</td>\n",
       "      <td>4.900000</td>\n",
       "      <td>15.000000</td>\n",
       "    </tr>\n",
       "    <tr>\n",
       "      <th>max</th>\n",
       "      <td>399.000000</td>\n",
       "      <td>90.000000</td>\n",
       "      <td>180.000000</td>\n",
       "      <td>1.025000</td>\n",
       "      <td>5.000000</td>\n",
       "      <td>5.000000</td>\n",
       "      <td>490.000000</td>\n",
       "      <td>391.000000</td>\n",
       "      <td>76.000000</td>\n",
       "      <td>163.000000</td>\n",
       "      <td>47.000000</td>\n",
       "      <td>17.800000</td>\n",
       "    </tr>\n",
       "  </tbody>\n",
       "</table>\n",
       "</div>"
      ],
      "text/plain": [
       "               id         age          bp          sg          al          su  \\\n",
       "count  400.000000  391.000000  388.000000  353.000000  354.000000  351.000000   \n",
       "mean   199.500000   51.483376   76.469072    1.017408    1.016949    0.450142   \n",
       "std    115.614301   17.169714   13.683637    0.005717    1.352679    1.099191   \n",
       "min      0.000000    2.000000   50.000000    1.005000    0.000000    0.000000   \n",
       "25%     99.750000   42.000000   70.000000    1.010000    0.000000    0.000000   \n",
       "50%    199.500000   55.000000   80.000000    1.020000    0.000000    0.000000   \n",
       "75%    299.250000   64.500000   80.000000    1.020000    2.000000    0.000000   \n",
       "max    399.000000   90.000000  180.000000    1.025000    5.000000    5.000000   \n",
       "\n",
       "              bgr          bu          sc         sod         pot        hemo  \n",
       "count  356.000000  381.000000  383.000000  313.000000  312.000000  348.000000  \n",
       "mean   148.036517   57.425722    3.072454  137.528754    4.627244   12.526437  \n",
       "std     79.281714   50.503006    5.741126   10.408752    3.193904    2.912587  \n",
       "min     22.000000    1.500000    0.400000    4.500000    2.500000    3.100000  \n",
       "25%     99.000000   27.000000    0.900000  135.000000    3.800000   10.300000  \n",
       "50%    121.000000   42.000000    1.300000  138.000000    4.400000   12.650000  \n",
       "75%    163.000000   66.000000    2.800000  142.000000    4.900000   15.000000  \n",
       "max    490.000000  391.000000   76.000000  163.000000   47.000000   17.800000  "
      ]
     },
     "execution_count": 13,
     "metadata": {},
     "output_type": "execute_result"
    }
   ],
   "source": [
    "df.describe()"
   ]
  },
  {
   "cell_type": "markdown",
   "id": "5ba23711",
   "metadata": {},
   "source": [
    "# Cleaning mising values.."
   ]
  },
  {
   "cell_type": "code",
   "execution_count": 14,
   "id": "965f2ef2",
   "metadata": {},
   "outputs": [
    {
     "name": "stdout",
     "output_type": "stream",
     "text": [
      "<class 'pandas.core.frame.DataFrame'>\n",
      "RangeIndex: 400 entries, 0 to 399\n",
      "Data columns (total 26 columns):\n",
      " #   Column          Non-Null Count  Dtype  \n",
      "---  ------          --------------  -----  \n",
      " 0   id              400 non-null    int64  \n",
      " 1   age             391 non-null    float64\n",
      " 2   bp              388 non-null    float64\n",
      " 3   sg              353 non-null    float64\n",
      " 4   al              354 non-null    float64\n",
      " 5   su              351 non-null    float64\n",
      " 6   rbc             248 non-null    object \n",
      " 7   pc              335 non-null    object \n",
      " 8   pcc             396 non-null    object \n",
      " 9   ba              396 non-null    object \n",
      " 10  bgr             356 non-null    float64\n",
      " 11  bu              381 non-null    float64\n",
      " 12  sc              383 non-null    float64\n",
      " 13  sod             313 non-null    float64\n",
      " 14  pot             312 non-null    float64\n",
      " 15  hemo            348 non-null    float64\n",
      " 16  pcv             330 non-null    object \n",
      " 17  wc              295 non-null    object \n",
      " 18  rc              270 non-null    object \n",
      " 19  htn             398 non-null    object \n",
      " 20  dm              398 non-null    object \n",
      " 21  cad             398 non-null    object \n",
      " 22  appet           399 non-null    object \n",
      " 23  pe              399 non-null    object \n",
      " 24  ane             399 non-null    object \n",
      " 25  classification  400 non-null    object \n",
      "dtypes: float64(11), int64(1), object(14)\n",
      "memory usage: 81.4+ KB\n"
     ]
    }
   ],
   "source": [
    "df.info()"
   ]
  },
  {
   "cell_type": "markdown",
   "id": "5765023b",
   "metadata": {},
   "source": [
    "### 1) column age \n",
    "  - we will replace missing values of 'age' column by mean or median of 'age' column "
   ]
  },
  {
   "cell_type": "code",
   "execution_count": 15,
   "id": "96e88bbb",
   "metadata": {},
   "outputs": [
    {
     "data": {
      "text/plain": [
       "51.48337595907928"
      ]
     },
     "execution_count": 15,
     "metadata": {},
     "output_type": "execute_result"
    }
   ],
   "source": [
    "df['age'].mean()"
   ]
  },
  {
   "cell_type": "code",
   "execution_count": 16,
   "id": "38a5b16a",
   "metadata": {},
   "outputs": [
    {
     "data": {
      "text/plain": [
       "55.0"
      ]
     },
     "execution_count": 16,
     "metadata": {},
     "output_type": "execute_result"
    }
   ],
   "source": [
    "df['age'].median()"
   ]
  },
  {
   "cell_type": "code",
   "execution_count": 17,
   "id": "b8aa89c8",
   "metadata": {},
   "outputs": [
    {
     "data": {
      "text/plain": [
       "(12, 26)"
      ]
     },
     "execution_count": 17,
     "metadata": {},
     "output_type": "execute_result"
    }
   ],
   "source": [
    "df[df['age']==55].shape"
   ]
  },
  {
   "cell_type": "code",
   "execution_count": 18,
   "id": "d3db6625",
   "metadata": {},
   "outputs": [
    {
     "data": {
      "text/plain": [
       "0"
      ]
     },
     "execution_count": 18,
     "metadata": {},
     "output_type": "execute_result"
    }
   ],
   "source": [
    "# fill null values by mean\n",
    "df['age'].fillna(df['age'].mean(), inplace=True)\n",
    "df['age'].isnull().sum()"
   ]
  },
  {
   "cell_type": "markdown",
   "id": "61b88bf2",
   "metadata": {},
   "source": [
    "### 2) column 'bp' missing values"
   ]
  },
  {
   "cell_type": "code",
   "execution_count": 19,
   "id": "06145c53",
   "metadata": {},
   "outputs": [
    {
     "data": {
      "text/plain": [
       "76.46907216494846"
      ]
     },
     "execution_count": 19,
     "metadata": {},
     "output_type": "execute_result"
    }
   ],
   "source": [
    "df['bp'].mean()"
   ]
  },
  {
   "cell_type": "code",
   "execution_count": 20,
   "id": "6d37a100",
   "metadata": {},
   "outputs": [
    {
     "data": {
      "text/plain": [
       "116"
      ]
     },
     "execution_count": 20,
     "metadata": {},
     "output_type": "execute_result"
    }
   ],
   "source": [
    "len(df[df['bp']==80])"
   ]
  },
  {
   "cell_type": "code",
   "execution_count": 21,
   "id": "5b4722c7",
   "metadata": {},
   "outputs": [
    {
     "data": {
      "text/plain": [
       "0"
      ]
     },
     "execution_count": 21,
     "metadata": {},
     "output_type": "execute_result"
    }
   ],
   "source": [
    "# we know 'bp' has 12 missing values.\n",
    "# we fill them by median\n",
    "df['bp'].fillna(df['bp'].median(), inplace=True)\n",
    "df['bp'].isnull().sum()"
   ]
  },
  {
   "cell_type": "markdown",
   "id": "befa2c15",
   "metadata": {},
   "source": [
    "### 3) column 'sg' missing values \n",
    " - we will fill missing values in 'sg' by mean or median"
   ]
  },
  {
   "cell_type": "code",
   "execution_count": 22,
   "id": "3eaeecc7",
   "metadata": {},
   "outputs": [
    {
     "name": "stdout",
     "output_type": "stream",
     "text": [
      "mean of sg :  1.0174079320113256\n",
      "median of sg :  1.02\n"
     ]
    }
   ],
   "source": [
    "print('mean of sg : ',df['sg'].mean())\n",
    "print('median of sg : ', df['sg'].median())"
   ]
  },
  {
   "cell_type": "code",
   "execution_count": 23,
   "id": "64c8f4f5",
   "metadata": {},
   "outputs": [
    {
     "data": {
      "text/plain": [
       "106"
      ]
     },
     "execution_count": 23,
     "metadata": {},
     "output_type": "execute_result"
    }
   ],
   "source": [
    "len(df[df['sg']==1.02])"
   ]
  },
  {
   "cell_type": "code",
   "execution_count": 24,
   "id": "ab13d2bf",
   "metadata": {},
   "outputs": [
    {
     "data": {
      "text/plain": [
       "0"
      ]
     },
     "execution_count": 24,
     "metadata": {},
     "output_type": "execute_result"
    }
   ],
   "source": [
    "# we fill missing values by mean\n",
    "df['sg'].fillna(df['sg'].mean(), inplace=True)\n",
    "df['sg'].isnull().sum()"
   ]
  },
  {
   "cell_type": "markdown",
   "id": "18a0033a",
   "metadata": {},
   "source": [
    "### 4) column 'al'  missing values"
   ]
  },
  {
   "cell_type": "code",
   "execution_count": 25,
   "id": "0c9ce1ff",
   "metadata": {},
   "outputs": [
    {
     "data": {
      "text/plain": [
       "46"
      ]
     },
     "execution_count": 25,
     "metadata": {},
     "output_type": "execute_result"
    }
   ],
   "source": [
    "df['al'].isnull().sum()"
   ]
  },
  {
   "cell_type": "code",
   "execution_count": 26,
   "id": "8f53835a",
   "metadata": {},
   "outputs": [
    {
     "name": "stdout",
     "output_type": "stream",
     "text": [
      "mean of al :  1.0169491525423728\n",
      "median of al :  0.0\n"
     ]
    }
   ],
   "source": [
    "print('mean of al : ',df['al'].mean())\n",
    "print('median of al : ',df['al'].median())"
   ]
  },
  {
   "cell_type": "code",
   "execution_count": 27,
   "id": "bb6a8807",
   "metadata": {},
   "outputs": [
    {
     "data": {
      "text/plain": [
       "0.0    199\n",
       "1.0     44\n",
       "2.0     43\n",
       "3.0     43\n",
       "4.0     24\n",
       "5.0      1\n",
       "Name: al, dtype: int64"
      ]
     },
     "execution_count": 27,
     "metadata": {},
     "output_type": "execute_result"
    }
   ],
   "source": [
    "df['al'].value_counts()"
   ]
  },
  {
   "cell_type": "code",
   "execution_count": 28,
   "id": "fb3ae91c",
   "metadata": {},
   "outputs": [
    {
     "data": {
      "text/plain": [
       "0"
      ]
     },
     "execution_count": 28,
     "metadata": {},
     "output_type": "execute_result"
    }
   ],
   "source": [
    "# fill null values by median\n",
    "df['al'].fillna(df['al'].median(), inplace=True)\n",
    "\n",
    "# check null values in 'al'\n",
    "df['al'].isnull().sum()"
   ]
  },
  {
   "cell_type": "markdown",
   "id": "d339ca87",
   "metadata": {},
   "source": [
    "### 5) missing values in 'su' column\n"
   ]
  },
  {
   "cell_type": "code",
   "execution_count": 29,
   "id": "323cf872",
   "metadata": {},
   "outputs": [
    {
     "data": {
      "text/plain": [
       "0.0    290\n",
       "2.0     18\n",
       "3.0     14\n",
       "4.0     13\n",
       "1.0     13\n",
       "5.0      3\n",
       "Name: su, dtype: int64"
      ]
     },
     "execution_count": 29,
     "metadata": {},
     "output_type": "execute_result"
    }
   ],
   "source": [
    "df['su'].value_counts()"
   ]
  },
  {
   "cell_type": "code",
   "execution_count": 30,
   "id": "78dde925",
   "metadata": {},
   "outputs": [
    {
     "data": {
      "text/plain": [
       "49"
      ]
     },
     "execution_count": 30,
     "metadata": {},
     "output_type": "execute_result"
    }
   ],
   "source": [
    "df['su'].isnull().sum()"
   ]
  },
  {
   "cell_type": "code",
   "execution_count": 31,
   "id": "a913d8d8",
   "metadata": {},
   "outputs": [
    {
     "data": {
      "text/plain": [
       "0"
      ]
     },
     "execution_count": 31,
     "metadata": {},
     "output_type": "execute_result"
    }
   ],
   "source": [
    "# filling missing values in 'su' by median\n",
    "df['su'].fillna(df['su'].median(), inplace=True)\n",
    "\n",
    "# check\n",
    "df['su'].isnull().sum()"
   ]
  },
  {
   "cell_type": "markdown",
   "id": "a9b23594",
   "metadata": {},
   "source": [
    "### 6) missing values in 'rbc' column"
   ]
  },
  {
   "cell_type": "code",
   "execution_count": 32,
   "id": "01474136",
   "metadata": {},
   "outputs": [
    {
     "data": {
      "text/plain": [
       "152"
      ]
     },
     "execution_count": 32,
     "metadata": {},
     "output_type": "execute_result"
    }
   ],
   "source": [
    "df['rbc'].isnull().sum()"
   ]
  },
  {
   "cell_type": "code",
   "execution_count": 33,
   "id": "ef8fb381",
   "metadata": {
    "scrolled": false
   },
   "outputs": [
    {
     "data": {
      "text/plain": [
       "normal      201\n",
       "abnormal     47\n",
       "Name: rbc, dtype: int64"
      ]
     },
     "execution_count": 33,
     "metadata": {},
     "output_type": "execute_result"
    }
   ],
   "source": [
    "df['rbc'].value_counts()"
   ]
  },
  {
   "cell_type": "code",
   "execution_count": 34,
   "id": "e5bc06a9",
   "metadata": {},
   "outputs": [
    {
     "data": {
      "text/plain": [
       "'normal'"
      ]
     },
     "execution_count": 34,
     "metadata": {},
     "output_type": "execute_result"
    }
   ],
   "source": [
    "df['rbc'].mode()[0]"
   ]
  },
  {
   "cell_type": "code",
   "execution_count": 35,
   "id": "62c94b49",
   "metadata": {},
   "outputs": [
    {
     "data": {
      "text/plain": [
       "0"
      ]
     },
     "execution_count": 35,
     "metadata": {},
     "output_type": "execute_result"
    }
   ],
   "source": [
    "# replace na values by 'normal' which  mode of rbc\n",
    "df['rbc'].fillna(df['rbc'].mode()[0], inplace=True)\n",
    "\n",
    "# check \n",
    "df['rbc'].isnull().sum()"
   ]
  },
  {
   "cell_type": "markdown",
   "id": "68bf1065",
   "metadata": {},
   "source": [
    "### 7) 'pc' column missing values.\n"
   ]
  },
  {
   "cell_type": "code",
   "execution_count": 36,
   "id": "88e987c6",
   "metadata": {},
   "outputs": [
    {
     "data": {
      "text/plain": [
       "65"
      ]
     },
     "execution_count": 36,
     "metadata": {},
     "output_type": "execute_result"
    }
   ],
   "source": [
    "df['pc'].isnull().sum()"
   ]
  },
  {
   "cell_type": "code",
   "execution_count": 37,
   "id": "ee670be0",
   "metadata": {
    "scrolled": true
   },
   "outputs": [
    {
     "data": {
      "text/plain": [
       "normal      259\n",
       "abnormal     76\n",
       "Name: pc, dtype: int64"
      ]
     },
     "execution_count": 37,
     "metadata": {},
     "output_type": "execute_result"
    }
   ],
   "source": [
    "df['pc'].value_counts()"
   ]
  },
  {
   "cell_type": "code",
   "execution_count": 38,
   "id": "7c3e5e89",
   "metadata": {},
   "outputs": [
    {
     "data": {
      "text/plain": [
       "'normal'"
      ]
     },
     "execution_count": 38,
     "metadata": {},
     "output_type": "execute_result"
    }
   ],
   "source": [
    "df['pc'].mode()[0]"
   ]
  },
  {
   "cell_type": "code",
   "execution_count": 39,
   "id": "fd6ce9fd",
   "metadata": {},
   "outputs": [
    {
     "data": {
      "text/plain": [
       "0"
      ]
     },
     "execution_count": 39,
     "metadata": {},
     "output_type": "execute_result"
    }
   ],
   "source": [
    "# null values replaced by mode \n",
    "df['pc'].fillna(df['pc'].mode()[0] , inplace=True)\n",
    "\n",
    "# check \n",
    "df['pc'].isnull().sum()"
   ]
  },
  {
   "cell_type": "markdown",
   "id": "a0ce9bad",
   "metadata": {},
   "source": [
    "### 8) column 'pcc' missing values\n"
   ]
  },
  {
   "cell_type": "code",
   "execution_count": 40,
   "id": "7a708b3e",
   "metadata": {},
   "outputs": [
    {
     "data": {
      "text/plain": [
       "4"
      ]
     },
     "execution_count": 40,
     "metadata": {},
     "output_type": "execute_result"
    }
   ],
   "source": [
    "df['pcc'].isnull().sum()"
   ]
  },
  {
   "cell_type": "code",
   "execution_count": 41,
   "id": "f505a053",
   "metadata": {
    "scrolled": true
   },
   "outputs": [
    {
     "data": {
      "text/plain": [
       "notpresent    354\n",
       "present        42\n",
       "Name: pcc, dtype: int64"
      ]
     },
     "execution_count": 41,
     "metadata": {},
     "output_type": "execute_result"
    }
   ],
   "source": [
    "df['pcc'].value_counts()"
   ]
  },
  {
   "cell_type": "code",
   "execution_count": 42,
   "id": "dad3c6ca",
   "metadata": {},
   "outputs": [
    {
     "data": {
      "text/plain": [
       "'notpresent'"
      ]
     },
     "execution_count": 42,
     "metadata": {},
     "output_type": "execute_result"
    }
   ],
   "source": [
    "df['pcc'].mode()[0]"
   ]
  },
  {
   "cell_type": "code",
   "execution_count": 43,
   "id": "0552d215",
   "metadata": {},
   "outputs": [
    {
     "data": {
      "text/plain": [
       "0"
      ]
     },
     "execution_count": 43,
     "metadata": {},
     "output_type": "execute_result"
    }
   ],
   "source": [
    "# filling missing values in column 'pcc' by 'notpresent' which is mode \n",
    "df['pcc'].fillna(df['pcc'].mode()[0] ,inplace = True)\n",
    "\n",
    "#check\n",
    "df['pcc'].isnull().sum()"
   ]
  },
  {
   "cell_type": "markdown",
   "id": "014b7322",
   "metadata": {},
   "source": [
    "### 9) column 'ba' missing values\n"
   ]
  },
  {
   "cell_type": "code",
   "execution_count": 44,
   "id": "8f749998",
   "metadata": {},
   "outputs": [
    {
     "data": {
      "text/plain": [
       "4"
      ]
     },
     "execution_count": 44,
     "metadata": {},
     "output_type": "execute_result"
    }
   ],
   "source": [
    "df['ba'].isnull().sum()"
   ]
  },
  {
   "cell_type": "code",
   "execution_count": 45,
   "id": "470cd33a",
   "metadata": {
    "scrolled": true
   },
   "outputs": [
    {
     "data": {
      "text/plain": [
       "notpresent    374\n",
       "present        22\n",
       "Name: ba, dtype: int64"
      ]
     },
     "execution_count": 45,
     "metadata": {},
     "output_type": "execute_result"
    }
   ],
   "source": [
    "df['ba'].value_counts()"
   ]
  },
  {
   "cell_type": "code",
   "execution_count": 46,
   "id": "7b443ea7",
   "metadata": {},
   "outputs": [
    {
     "data": {
      "text/plain": [
       "'notpresent'"
      ]
     },
     "execution_count": 46,
     "metadata": {},
     "output_type": "execute_result"
    }
   ],
   "source": [
    "df['ba'].mode()[0]"
   ]
  },
  {
   "cell_type": "code",
   "execution_count": 47,
   "id": "94a2a48a",
   "metadata": {},
   "outputs": [
    {
     "data": {
      "text/plain": [
       "0"
      ]
     },
     "execution_count": 47,
     "metadata": {},
     "output_type": "execute_result"
    }
   ],
   "source": [
    "# filling missing values in column 'ba' by 'notpresent' which mode of ba\n",
    "df['ba'].fillna(df['ba'].mode()[0],inplace = True)\n",
    "\n",
    "#check\n",
    "df['ba'].isnull().sum()"
   ]
  },
  {
   "cell_type": "markdown",
   "id": "c1d3baac",
   "metadata": {},
   "source": [
    "### 10) 'bgr' column missing values"
   ]
  },
  {
   "cell_type": "code",
   "execution_count": 48,
   "id": "6115f0b4",
   "metadata": {},
   "outputs": [
    {
     "data": {
      "text/plain": [
       "44"
      ]
     },
     "execution_count": 48,
     "metadata": {},
     "output_type": "execute_result"
    }
   ],
   "source": [
    "df['bgr'].isnull().sum()"
   ]
  },
  {
   "cell_type": "code",
   "execution_count": 49,
   "id": "4ad79b78",
   "metadata": {},
   "outputs": [
    {
     "data": {
      "text/plain": [
       "148.0365168539326"
      ]
     },
     "execution_count": 49,
     "metadata": {},
     "output_type": "execute_result"
    }
   ],
   "source": [
    "df['bgr'].mean()"
   ]
  },
  {
   "cell_type": "code",
   "execution_count": 50,
   "id": "a87a1d21",
   "metadata": {},
   "outputs": [
    {
     "data": {
      "text/plain": [
       "121.0"
      ]
     },
     "execution_count": 50,
     "metadata": {},
     "output_type": "execute_result"
    }
   ],
   "source": [
    "df['bgr'].median()"
   ]
  },
  {
   "cell_type": "code",
   "execution_count": 51,
   "id": "34c2b2e0",
   "metadata": {},
   "outputs": [
    {
     "data": {
      "text/html": [
       "<div>\n",
       "<style scoped>\n",
       "    .dataframe tbody tr th:only-of-type {\n",
       "        vertical-align: middle;\n",
       "    }\n",
       "\n",
       "    .dataframe tbody tr th {\n",
       "        vertical-align: top;\n",
       "    }\n",
       "\n",
       "    .dataframe thead th {\n",
       "        text-align: right;\n",
       "    }\n",
       "</style>\n",
       "<table border=\"1\" class=\"dataframe\">\n",
       "  <thead>\n",
       "    <tr style=\"text-align: right;\">\n",
       "      <th></th>\n",
       "      <th>id</th>\n",
       "      <th>age</th>\n",
       "      <th>bp</th>\n",
       "      <th>sg</th>\n",
       "      <th>al</th>\n",
       "      <th>su</th>\n",
       "      <th>bgr</th>\n",
       "      <th>bu</th>\n",
       "      <th>sc</th>\n",
       "      <th>sod</th>\n",
       "      <th>pot</th>\n",
       "      <th>hemo</th>\n",
       "    </tr>\n",
       "  </thead>\n",
       "  <tbody>\n",
       "    <tr>\n",
       "      <th>count</th>\n",
       "      <td>400.000000</td>\n",
       "      <td>400.000000</td>\n",
       "      <td>400.000000</td>\n",
       "      <td>400.000000</td>\n",
       "      <td>400.00000</td>\n",
       "      <td>400.000000</td>\n",
       "      <td>356.000000</td>\n",
       "      <td>381.000000</td>\n",
       "      <td>383.000000</td>\n",
       "      <td>313.000000</td>\n",
       "      <td>312.000000</td>\n",
       "      <td>348.000000</td>\n",
       "    </tr>\n",
       "    <tr>\n",
       "      <th>mean</th>\n",
       "      <td>199.500000</td>\n",
       "      <td>51.483376</td>\n",
       "      <td>76.575000</td>\n",
       "      <td>1.017408</td>\n",
       "      <td>0.90000</td>\n",
       "      <td>0.395000</td>\n",
       "      <td>148.036517</td>\n",
       "      <td>57.425722</td>\n",
       "      <td>3.072454</td>\n",
       "      <td>137.528754</td>\n",
       "      <td>4.627244</td>\n",
       "      <td>12.526437</td>\n",
       "    </tr>\n",
       "    <tr>\n",
       "      <th>std</th>\n",
       "      <td>115.614301</td>\n",
       "      <td>16.974966</td>\n",
       "      <td>13.489785</td>\n",
       "      <td>0.005369</td>\n",
       "      <td>1.31313</td>\n",
       "      <td>1.040038</td>\n",
       "      <td>79.281714</td>\n",
       "      <td>50.503006</td>\n",
       "      <td>5.741126</td>\n",
       "      <td>10.408752</td>\n",
       "      <td>3.193904</td>\n",
       "      <td>2.912587</td>\n",
       "    </tr>\n",
       "    <tr>\n",
       "      <th>min</th>\n",
       "      <td>0.000000</td>\n",
       "      <td>2.000000</td>\n",
       "      <td>50.000000</td>\n",
       "      <td>1.005000</td>\n",
       "      <td>0.00000</td>\n",
       "      <td>0.000000</td>\n",
       "      <td>22.000000</td>\n",
       "      <td>1.500000</td>\n",
       "      <td>0.400000</td>\n",
       "      <td>4.500000</td>\n",
       "      <td>2.500000</td>\n",
       "      <td>3.100000</td>\n",
       "    </tr>\n",
       "    <tr>\n",
       "      <th>25%</th>\n",
       "      <td>99.750000</td>\n",
       "      <td>42.000000</td>\n",
       "      <td>70.000000</td>\n",
       "      <td>1.015000</td>\n",
       "      <td>0.00000</td>\n",
       "      <td>0.000000</td>\n",
       "      <td>99.000000</td>\n",
       "      <td>27.000000</td>\n",
       "      <td>0.900000</td>\n",
       "      <td>135.000000</td>\n",
       "      <td>3.800000</td>\n",
       "      <td>10.300000</td>\n",
       "    </tr>\n",
       "    <tr>\n",
       "      <th>50%</th>\n",
       "      <td>199.500000</td>\n",
       "      <td>54.000000</td>\n",
       "      <td>80.000000</td>\n",
       "      <td>1.017408</td>\n",
       "      <td>0.00000</td>\n",
       "      <td>0.000000</td>\n",
       "      <td>121.000000</td>\n",
       "      <td>42.000000</td>\n",
       "      <td>1.300000</td>\n",
       "      <td>138.000000</td>\n",
       "      <td>4.400000</td>\n",
       "      <td>12.650000</td>\n",
       "    </tr>\n",
       "    <tr>\n",
       "      <th>75%</th>\n",
       "      <td>299.250000</td>\n",
       "      <td>64.000000</td>\n",
       "      <td>80.000000</td>\n",
       "      <td>1.020000</td>\n",
       "      <td>2.00000</td>\n",
       "      <td>0.000000</td>\n",
       "      <td>163.000000</td>\n",
       "      <td>66.000000</td>\n",
       "      <td>2.800000</td>\n",
       "      <td>142.000000</td>\n",
       "      <td>4.900000</td>\n",
       "      <td>15.000000</td>\n",
       "    </tr>\n",
       "    <tr>\n",
       "      <th>max</th>\n",
       "      <td>399.000000</td>\n",
       "      <td>90.000000</td>\n",
       "      <td>180.000000</td>\n",
       "      <td>1.025000</td>\n",
       "      <td>5.00000</td>\n",
       "      <td>5.000000</td>\n",
       "      <td>490.000000</td>\n",
       "      <td>391.000000</td>\n",
       "      <td>76.000000</td>\n",
       "      <td>163.000000</td>\n",
       "      <td>47.000000</td>\n",
       "      <td>17.800000</td>\n",
       "    </tr>\n",
       "  </tbody>\n",
       "</table>\n",
       "</div>"
      ],
      "text/plain": [
       "               id         age          bp          sg         al          su  \\\n",
       "count  400.000000  400.000000  400.000000  400.000000  400.00000  400.000000   \n",
       "mean   199.500000   51.483376   76.575000    1.017408    0.90000    0.395000   \n",
       "std    115.614301   16.974966   13.489785    0.005369    1.31313    1.040038   \n",
       "min      0.000000    2.000000   50.000000    1.005000    0.00000    0.000000   \n",
       "25%     99.750000   42.000000   70.000000    1.015000    0.00000    0.000000   \n",
       "50%    199.500000   54.000000   80.000000    1.017408    0.00000    0.000000   \n",
       "75%    299.250000   64.000000   80.000000    1.020000    2.00000    0.000000   \n",
       "max    399.000000   90.000000  180.000000    1.025000    5.00000    5.000000   \n",
       "\n",
       "              bgr          bu          sc         sod         pot        hemo  \n",
       "count  356.000000  381.000000  383.000000  313.000000  312.000000  348.000000  \n",
       "mean   148.036517   57.425722    3.072454  137.528754    4.627244   12.526437  \n",
       "std     79.281714   50.503006    5.741126   10.408752    3.193904    2.912587  \n",
       "min     22.000000    1.500000    0.400000    4.500000    2.500000    3.100000  \n",
       "25%     99.000000   27.000000    0.900000  135.000000    3.800000   10.300000  \n",
       "50%    121.000000   42.000000    1.300000  138.000000    4.400000   12.650000  \n",
       "75%    163.000000   66.000000    2.800000  142.000000    4.900000   15.000000  \n",
       "max    490.000000  391.000000   76.000000  163.000000   47.000000   17.800000  "
      ]
     },
     "execution_count": 51,
     "metadata": {},
     "output_type": "execute_result"
    }
   ],
   "source": [
    "df.describe()"
   ]
  },
  {
   "cell_type": "code",
   "execution_count": 52,
   "id": "c9fa771f",
   "metadata": {},
   "outputs": [
    {
     "data": {
      "text/plain": [
       "4"
      ]
     },
     "execution_count": 52,
     "metadata": {},
     "output_type": "execute_result"
    }
   ],
   "source": [
    "len(df[df['bgr']==df['bgr'].median()])"
   ]
  },
  {
   "cell_type": "code",
   "execution_count": 53,
   "id": "36f4df27",
   "metadata": {},
   "outputs": [
    {
     "data": {
      "text/plain": [
       "0"
      ]
     },
     "execution_count": 53,
     "metadata": {},
     "output_type": "execute_result"
    }
   ],
   "source": [
    "# replace missing values in bgr by median\n",
    "df['bgr'].fillna(df['bgr'].median(), inplace=True)\n",
    "\n",
    "# check\n",
    "df['bgr'].isnull().sum()"
   ]
  },
  {
   "cell_type": "markdown",
   "id": "5a3f1ff7",
   "metadata": {},
   "source": [
    "### 11) column 'bu' missing values\n"
   ]
  },
  {
   "cell_type": "code",
   "execution_count": 54,
   "id": "d78e995e",
   "metadata": {},
   "outputs": [
    {
     "data": {
      "text/plain": [
       "19"
      ]
     },
     "execution_count": 54,
     "metadata": {},
     "output_type": "execute_result"
    }
   ],
   "source": [
    "df['bu'].isnull().sum()"
   ]
  },
  {
   "cell_type": "code",
   "execution_count": 55,
   "id": "d892c82d",
   "metadata": {},
   "outputs": [
    {
     "data": {
      "text/plain": [
       "0"
      ]
     },
     "execution_count": 55,
     "metadata": {},
     "output_type": "execute_result"
    }
   ],
   "source": [
    "# fillin missing values by mean\n",
    "df['bu'].fillna(df['bu'].mean(), inplace=True)\n",
    "\n",
    "#check\n",
    "df['bu'].isnull().sum()"
   ]
  },
  {
   "cell_type": "markdown",
   "id": "6852595c",
   "metadata": {},
   "source": [
    "### 12) column 'sc' null values"
   ]
  },
  {
   "cell_type": "code",
   "execution_count": 56,
   "id": "24353529",
   "metadata": {},
   "outputs": [
    {
     "data": {
      "text/plain": [
       "17"
      ]
     },
     "execution_count": 56,
     "metadata": {},
     "output_type": "execute_result"
    }
   ],
   "source": [
    "df['sc'].isnull().sum()"
   ]
  },
  {
   "cell_type": "code",
   "execution_count": 57,
   "id": "d2cde87c",
   "metadata": {},
   "outputs": [
    {
     "data": {
      "text/plain": [
       "0"
      ]
     },
     "execution_count": 57,
     "metadata": {},
     "output_type": "execute_result"
    }
   ],
   "source": [
    "# fill null values by mean\n",
    "df['sc'].fillna(df['sc'].mean(),inplace=True)\n",
    "\n",
    "# check\n",
    "df['su'].isnull().sum()"
   ]
  },
  {
   "cell_type": "markdown",
   "id": "168106fd",
   "metadata": {},
   "source": [
    "### 13) 'sod' column missing values"
   ]
  },
  {
   "cell_type": "code",
   "execution_count": 58,
   "id": "10bbb1c0",
   "metadata": {},
   "outputs": [
    {
     "data": {
      "text/plain": [
       "87"
      ]
     },
     "execution_count": 58,
     "metadata": {},
     "output_type": "execute_result"
    }
   ],
   "source": [
    "df['sod'].isnull().sum()"
   ]
  },
  {
   "cell_type": "code",
   "execution_count": 59,
   "id": "07bb0ba4",
   "metadata": {},
   "outputs": [
    {
     "data": {
      "text/plain": [
       "count    313.000000\n",
       "mean     137.528754\n",
       "std       10.408752\n",
       "min        4.500000\n",
       "25%      135.000000\n",
       "50%      138.000000\n",
       "75%      142.000000\n",
       "max      163.000000\n",
       "Name: sod, dtype: float64"
      ]
     },
     "execution_count": 59,
     "metadata": {},
     "output_type": "execute_result"
    }
   ],
   "source": [
    "df['sod'].describe()"
   ]
  },
  {
   "cell_type": "code",
   "execution_count": 60,
   "id": "20b580c9",
   "metadata": {},
   "outputs": [
    {
     "data": {
      "text/plain": [
       "0"
      ]
     },
     "execution_count": 60,
     "metadata": {},
     "output_type": "execute_result"
    }
   ],
   "source": [
    "# fill na by mean\n",
    "df['sod'].fillna(df['sod'].mean(), inplace=True)\n",
    "# check\n",
    "df['sod'].isnull().sum()"
   ]
  },
  {
   "cell_type": "markdown",
   "id": "0eb6706f",
   "metadata": {},
   "source": [
    "### 14) 'pot' column missing values"
   ]
  },
  {
   "cell_type": "code",
   "execution_count": 61,
   "id": "48819e55",
   "metadata": {},
   "outputs": [
    {
     "data": {
      "text/plain": [
       "count    312.000000\n",
       "mean       4.627244\n",
       "std        3.193904\n",
       "min        2.500000\n",
       "25%        3.800000\n",
       "50%        4.400000\n",
       "75%        4.900000\n",
       "max       47.000000\n",
       "Name: pot, dtype: float64"
      ]
     },
     "execution_count": 61,
     "metadata": {},
     "output_type": "execute_result"
    }
   ],
   "source": [
    "df['pot'].describe()"
   ]
  },
  {
   "cell_type": "code",
   "execution_count": 62,
   "id": "7087fc9f",
   "metadata": {},
   "outputs": [
    {
     "data": {
      "text/plain": [
       "0"
      ]
     },
     "execution_count": 62,
     "metadata": {},
     "output_type": "execute_result"
    }
   ],
   "source": [
    "# fill null values by mean\n",
    "df['pot'].fillna(df['pot'].mean(), inplace=True)\n",
    "\n",
    "# check\n",
    "df['pot'].isnull().sum()"
   ]
  },
  {
   "cell_type": "markdown",
   "id": "2fd44e32",
   "metadata": {},
   "source": [
    "### 15) 'hemo' column missing values"
   ]
  },
  {
   "cell_type": "code",
   "execution_count": 63,
   "id": "e9255458",
   "metadata": {},
   "outputs": [
    {
     "data": {
      "text/plain": [
       "0"
      ]
     },
     "execution_count": 63,
     "metadata": {},
     "output_type": "execute_result"
    }
   ],
   "source": [
    "# fill na by mean\n",
    "df['hemo'].fillna(df['hemo'].mean(), inplace=True)\n",
    "\n",
    "# check\n",
    "df['hemo'].isnull().sum()"
   ]
  },
  {
   "cell_type": "markdown",
   "id": "ebcb62ba",
   "metadata": {},
   "source": [
    "### 16) 'pcv' column missing values\n",
    "  - first we have to change its  datatype as float"
   ]
  },
  {
   "cell_type": "code",
   "execution_count": 64,
   "id": "adc66aef",
   "metadata": {
    "scrolled": true
   },
   "outputs": [
    {
     "data": {
      "text/plain": [
       "dtype('O')"
      ]
     },
     "execution_count": 64,
     "metadata": {},
     "output_type": "execute_result"
    }
   ],
   "source": [
    "df['pcv'].dtype"
   ]
  },
  {
   "cell_type": "code",
   "execution_count": 65,
   "id": "48a0856c",
   "metadata": {},
   "outputs": [
    {
     "data": {
      "text/plain": [
       "dtype('float64')"
      ]
     },
     "execution_count": 65,
     "metadata": {},
     "output_type": "execute_result"
    }
   ],
   "source": [
    "# Convert 'pcv' column to numeric data type\n",
    "df['pcv'] = pd.to_numeric(df['pcv'], errors='coerce')\n",
    "\n",
    "#check\n",
    "df['pcv'].dtype"
   ]
  },
  {
   "cell_type": "code",
   "execution_count": 66,
   "id": "3d9ddfaa",
   "metadata": {},
   "outputs": [
    {
     "data": {
      "text/plain": [
       "71"
      ]
     },
     "execution_count": 66,
     "metadata": {},
     "output_type": "execute_result"
    }
   ],
   "source": [
    "# missing values in pcv\n",
    "df['pcv'].isnull().sum()"
   ]
  },
  {
   "cell_type": "code",
   "execution_count": 67,
   "id": "f419bdb9",
   "metadata": {},
   "outputs": [
    {
     "data": {
      "text/plain": [
       "count    329.000000\n",
       "mean      38.884498\n",
       "std        8.990105\n",
       "min        9.000000\n",
       "25%       32.000000\n",
       "50%       40.000000\n",
       "75%       45.000000\n",
       "max       54.000000\n",
       "Name: pcv, dtype: float64"
      ]
     },
     "execution_count": 67,
     "metadata": {},
     "output_type": "execute_result"
    }
   ],
   "source": [
    "df['pcv'].describe()"
   ]
  },
  {
   "cell_type": "code",
   "execution_count": 68,
   "id": "34573a52",
   "metadata": {},
   "outputs": [
    {
     "data": {
      "text/plain": [
       "0"
      ]
     },
     "execution_count": 68,
     "metadata": {},
     "output_type": "execute_result"
    }
   ],
   "source": [
    "# fillling null values in 'pcv' by mean\n",
    "df['pcv'].fillna(df['pcv'].mean(), inplace=True)\n",
    "\n",
    "# check\n",
    "df['pcv'].isnull().sum()"
   ]
  },
  {
   "cell_type": "markdown",
   "id": "9f296add",
   "metadata": {},
   "source": [
    "### 17) 'wc' missing values\n",
    " - if its datatype is 'object' then we have to convert it first and then we can change missing values."
   ]
  },
  {
   "cell_type": "code",
   "execution_count": 69,
   "id": "460a15ae",
   "metadata": {},
   "outputs": [
    {
     "data": {
      "text/plain": [
       "dtype('O')"
      ]
     },
     "execution_count": 69,
     "metadata": {},
     "output_type": "execute_result"
    }
   ],
   "source": [
    "df['wc'].dtype"
   ]
  },
  {
   "cell_type": "code",
   "execution_count": 70,
   "id": "56f817a6",
   "metadata": {},
   "outputs": [
    {
     "data": {
      "text/plain": [
       "dtype('float64')"
      ]
     },
     "execution_count": 70,
     "metadata": {},
     "output_type": "execute_result"
    }
   ],
   "source": [
    "# convert 'wc' column datatype to numeric data type\n",
    "df['wc'] = pd.to_numeric(df['wc'], errors='coerce')\n",
    "\n",
    "# check datatype of 'wc'\n",
    "df['wc'].dtype"
   ]
  },
  {
   "cell_type": "code",
   "execution_count": 71,
   "id": "14d765a6",
   "metadata": {},
   "outputs": [
    {
     "data": {
      "text/plain": [
       "count      294.000000\n",
       "mean      8406.122449\n",
       "std       2944.474190\n",
       "min       2200.000000\n",
       "25%       6500.000000\n",
       "50%       8000.000000\n",
       "75%       9800.000000\n",
       "max      26400.000000\n",
       "Name: wc, dtype: float64"
      ]
     },
     "execution_count": 71,
     "metadata": {},
     "output_type": "execute_result"
    }
   ],
   "source": [
    "df['wc'].describe()"
   ]
  },
  {
   "cell_type": "code",
   "execution_count": 72,
   "id": "89cbf316",
   "metadata": {},
   "outputs": [
    {
     "data": {
      "text/plain": [
       "0"
      ]
     },
     "execution_count": 72,
     "metadata": {},
     "output_type": "execute_result"
    }
   ],
   "source": [
    "# replace null values by mean of wc\n",
    "df['wc'].fillna(df['wc'].mean(), inplace=True)\n",
    "\n",
    "# check null value count\n",
    "df['wc'].isnull().sum()"
   ]
  },
  {
   "cell_type": "markdown",
   "id": "8cb6f107",
   "metadata": {},
   "source": [
    "### 18) column 'rc' missing values\n",
    " - check datatype and if datatype is 'object' then first change it to numeric and replace null values by mean of median"
   ]
  },
  {
   "cell_type": "code",
   "execution_count": 73,
   "id": "669a7437",
   "metadata": {},
   "outputs": [
    {
     "data": {
      "text/plain": [
       "dtype('O')"
      ]
     },
     "execution_count": 73,
     "metadata": {},
     "output_type": "execute_result"
    }
   ],
   "source": [
    "df['rc'].dtype"
   ]
  },
  {
   "cell_type": "code",
   "execution_count": 74,
   "id": "ccdfbdbc",
   "metadata": {},
   "outputs": [
    {
     "data": {
      "text/plain": [
       "dtype('float64')"
      ]
     },
     "execution_count": 74,
     "metadata": {},
     "output_type": "execute_result"
    }
   ],
   "source": [
    "# change 'rc' to numeric data type\n",
    "df['rc'] = pd.to_numeric(df['rc'], errors= 'coerce')\n",
    "\n",
    "# check datatype of rc\n",
    "df['rc'].dtype"
   ]
  },
  {
   "cell_type": "code",
   "execution_count": 75,
   "id": "bb3fd68f",
   "metadata": {},
   "outputs": [
    {
     "data": {
      "text/plain": [
       "count    269.000000\n",
       "mean       4.707435\n",
       "std        1.025323\n",
       "min        2.100000\n",
       "25%        3.900000\n",
       "50%        4.800000\n",
       "75%        5.400000\n",
       "max        8.000000\n",
       "Name: rc, dtype: float64"
      ]
     },
     "execution_count": 75,
     "metadata": {},
     "output_type": "execute_result"
    }
   ],
   "source": [
    "df['rc'].describe()"
   ]
  },
  {
   "cell_type": "code",
   "execution_count": 76,
   "id": "0d6ea843",
   "metadata": {},
   "outputs": [
    {
     "data": {
      "text/plain": [
       "0"
      ]
     },
     "execution_count": 76,
     "metadata": {},
     "output_type": "execute_result"
    }
   ],
   "source": [
    "# fill na by mean\n",
    "df['rc'].fillna(df['rc'].mean(), inplace=True)\n",
    "\n",
    "# check for null values\n",
    "df['rc'].isnull().sum()"
   ]
  },
  {
   "cell_type": "markdown",
   "id": "a7201af8",
   "metadata": {},
   "source": [
    "## column 'htn', 'dm' and 'cad' have  only 2 missing values "
   ]
  },
  {
   "cell_type": "code",
   "execution_count": 77,
   "id": "635e7acb",
   "metadata": {},
   "outputs": [
    {
     "data": {
      "text/plain": [
       "htn    2\n",
       "dm     2\n",
       "cad    2\n",
       "dtype: int64"
      ]
     },
     "execution_count": 77,
     "metadata": {},
     "output_type": "execute_result"
    }
   ],
   "source": [
    "df[['htn','dm','cad']].isnull().sum()"
   ]
  },
  {
   "cell_type": "markdown",
   "id": "6f29dad4",
   "metadata": {},
   "source": [
    "### 19) missing values in column 'htn'"
   ]
  },
  {
   "cell_type": "code",
   "execution_count": 78,
   "id": "1011bb85",
   "metadata": {
    "scrolled": true
   },
   "outputs": [
    {
     "data": {
      "text/plain": [
       "'no'"
      ]
     },
     "execution_count": 78,
     "metadata": {},
     "output_type": "execute_result"
    }
   ],
   "source": [
    "# column 'htn' , missing value filled by mode of 'htn'\n",
    "df['htn'].mode()[0]"
   ]
  },
  {
   "cell_type": "code",
   "execution_count": 79,
   "id": "a1f4e656",
   "metadata": {},
   "outputs": [
    {
     "data": {
      "text/plain": [
       "0"
      ]
     },
     "execution_count": 79,
     "metadata": {},
     "output_type": "execute_result"
    }
   ],
   "source": [
    "df['htn'].fillna(df['htn'].mode()[0] ,inplace=True)\n",
    "# check for null values in htn\n",
    "df['htn'].isnull().sum()"
   ]
  },
  {
   "cell_type": "markdown",
   "id": "9224f7e3",
   "metadata": {},
   "source": [
    "### 20) now in column 'dm' we have to do  corrections in values "
   ]
  },
  {
   "cell_type": "code",
   "execution_count": 80,
   "id": "039c7ed2",
   "metadata": {
    "scrolled": true
   },
   "outputs": [
    {
     "data": {
      "text/plain": [
       "no       258\n",
       "yes      134\n",
       "\\tno       3\n",
       "\\tyes      2\n",
       " yes       1\n",
       "Name: dm, dtype: int64"
      ]
     },
     "execution_count": 80,
     "metadata": {},
     "output_type": "execute_result"
    }
   ],
   "source": [
    "df['dm'].value_counts()"
   ]
  },
  {
   "cell_type": "code",
   "execution_count": 81,
   "id": "08020c0e",
   "metadata": {},
   "outputs": [
    {
     "data": {
      "text/plain": [
       "no     261\n",
       "yes    137\n",
       "Name: dm, dtype: int64"
      ]
     },
     "execution_count": 81,
     "metadata": {},
     "output_type": "execute_result"
    }
   ],
   "source": [
    "# we replace \\tno ==> no and \\tyes ==> yes\n",
    "\n",
    "df['dm'] = df['dm'].replace('\\tno' , 'no')\n",
    "df['dm'] = df['dm'].replace(['\\tyes',' yes'] , 'yes')\n",
    "\n",
    "df['dm'].value_counts()"
   ]
  },
  {
   "cell_type": "code",
   "execution_count": 82,
   "id": "5184c379",
   "metadata": {},
   "outputs": [
    {
     "data": {
      "text/plain": [
       "0"
      ]
     },
     "execution_count": 82,
     "metadata": {},
     "output_type": "execute_result"
    }
   ],
   "source": [
    "# fill null values in 'dm' by mode value of 'dm'\n",
    "df['dm'].fillna(df['dm'].mode()[0], inplace=True)\n",
    "\n",
    "# check\n",
    "df['dm'].isnull().sum()"
   ]
  },
  {
   "cell_type": "markdown",
   "id": "b3ddbae7",
   "metadata": {},
   "source": [
    "### 21) now in column 'cad' we have to do  corrections in values "
   ]
  },
  {
   "cell_type": "code",
   "execution_count": 83,
   "id": "21e263ce",
   "metadata": {},
   "outputs": [
    {
     "data": {
      "text/plain": [
       "no      362\n",
       "yes      34\n",
       "\\tno      2\n",
       "Name: cad, dtype: int64"
      ]
     },
     "execution_count": 83,
     "metadata": {},
     "output_type": "execute_result"
    }
   ],
   "source": [
    "df['cad'].value_counts()"
   ]
  },
  {
   "cell_type": "code",
   "execution_count": 84,
   "id": "d65d8e5f",
   "metadata": {},
   "outputs": [
    {
     "data": {
      "text/plain": [
       "no     364\n",
       "yes     34\n",
       "Name: cad, dtype: int64"
      ]
     },
     "execution_count": 84,
     "metadata": {},
     "output_type": "execute_result"
    }
   ],
   "source": [
    "# we replace '\\tno' by 'no'\n",
    "df['cad'] = df['cad'].replace('\\tno', 'no')\n",
    "# check\n",
    "df['cad'].value_counts()"
   ]
  },
  {
   "cell_type": "code",
   "execution_count": 85,
   "id": "65230f7a",
   "metadata": {},
   "outputs": [
    {
     "data": {
      "text/plain": [
       "0"
      ]
     },
     "execution_count": 85,
     "metadata": {},
     "output_type": "execute_result"
    }
   ],
   "source": [
    "## nul values replace by mode of 'cad'\n",
    "df['cad'].fillna(df['cad'].mode()[0], inplace=True)\n",
    "# check null values in cad\n",
    "df['cad'].isnull().sum()"
   ]
  },
  {
   "cell_type": "markdown",
   "id": "6658dd0a",
   "metadata": {},
   "source": [
    "### 22) 'appet' column missing values\n"
   ]
  },
  {
   "cell_type": "code",
   "execution_count": 86,
   "id": "d332d86a",
   "metadata": {},
   "outputs": [
    {
     "data": {
      "text/plain": [
       "1"
      ]
     },
     "execution_count": 86,
     "metadata": {},
     "output_type": "execute_result"
    }
   ],
   "source": [
    "df['appet'].isnull().sum()"
   ]
  },
  {
   "cell_type": "code",
   "execution_count": 87,
   "id": "f9367f71",
   "metadata": {},
   "outputs": [
    {
     "data": {
      "text/plain": [
       "0"
      ]
     },
     "execution_count": 87,
     "metadata": {},
     "output_type": "execute_result"
    }
   ],
   "source": [
    "# fill na value in 'appet' bu mode of 'appet'\n",
    "\n",
    "df['appet'].fillna(df['appet'].mode()[0], inplace=True)\n",
    "#check\n",
    "df['appet'].isnull().sum()"
   ]
  },
  {
   "cell_type": "markdown",
   "id": "43701323",
   "metadata": {},
   "source": [
    "### 23) column 'pe' missing values"
   ]
  },
  {
   "cell_type": "code",
   "execution_count": 88,
   "id": "ff41a853",
   "metadata": {},
   "outputs": [
    {
     "data": {
      "text/plain": [
       "0"
      ]
     },
     "execution_count": 88,
     "metadata": {},
     "output_type": "execute_result"
    }
   ],
   "source": [
    "# fill null value by mode\n",
    "df['pe'].fillna(df['pe'].mode()[0], inplace=True)\n",
    "\n",
    "# check\n",
    "df['pe'].isnull().sum()"
   ]
  },
  {
   "cell_type": "markdown",
   "id": "76804496",
   "metadata": {},
   "source": [
    "### 24) column 'ane' missing values"
   ]
  },
  {
   "cell_type": "code",
   "execution_count": 89,
   "id": "daae0225",
   "metadata": {},
   "outputs": [
    {
     "data": {
      "text/plain": [
       "1"
      ]
     },
     "execution_count": 89,
     "metadata": {},
     "output_type": "execute_result"
    }
   ],
   "source": [
    "df['ane'].isnull().sum()"
   ]
  },
  {
   "cell_type": "code",
   "execution_count": 90,
   "id": "c3663306",
   "metadata": {},
   "outputs": [
    {
     "data": {
      "text/plain": [
       "0"
      ]
     },
     "execution_count": 90,
     "metadata": {},
     "output_type": "execute_result"
    }
   ],
   "source": [
    "# fill missing values by mode\n",
    "df['ane'].fillna(df['ane'].mode()[0], inplace=True)\n",
    "# check\n",
    "df['ane'].isnull().sum()"
   ]
  },
  {
   "cell_type": "markdown",
   "id": "10601a05",
   "metadata": {},
   "source": [
    "### 25) column 'classification' we have some issues"
   ]
  },
  {
   "cell_type": "code",
   "execution_count": 91,
   "id": "fe26b10b",
   "metadata": {
    "scrolled": true
   },
   "outputs": [
    {
     "data": {
      "text/plain": [
       "ckd       248\n",
       "notckd    150\n",
       "ckd\\t       2\n",
       "Name: classification, dtype: int64"
      ]
     },
     "execution_count": 91,
     "metadata": {},
     "output_type": "execute_result"
    }
   ],
   "source": [
    "df['classification'].value_counts()"
   ]
  },
  {
   "cell_type": "code",
   "execution_count": 92,
   "id": "6731c18c",
   "metadata": {},
   "outputs": [
    {
     "data": {
      "text/plain": [
       "ckd       250\n",
       "notckd    150\n",
       "Name: classification, dtype: int64"
      ]
     },
     "execution_count": 92,
     "metadata": {},
     "output_type": "execute_result"
    }
   ],
   "source": [
    "# replace 'ckd\\t' by 'ckd'\n",
    "df['classification'] = df['classification'].replace('ckd\\t', 'ckd')\n",
    "# check\n",
    "df['classification'].value_counts()"
   ]
  },
  {
   "cell_type": "markdown",
   "id": "5cae39db",
   "metadata": {},
   "source": [
    "#  lets check our data having null values or not "
   ]
  },
  {
   "cell_type": "code",
   "execution_count": 93,
   "id": "6ec1531e",
   "metadata": {},
   "outputs": [
    {
     "data": {
      "text/plain": [
       "id                0\n",
       "age               0\n",
       "bp                0\n",
       "sg                0\n",
       "al                0\n",
       "su                0\n",
       "rbc               0\n",
       "pc                0\n",
       "pcc               0\n",
       "ba                0\n",
       "bgr               0\n",
       "bu                0\n",
       "sc                0\n",
       "sod               0\n",
       "pot               0\n",
       "hemo              0\n",
       "pcv               0\n",
       "wc                0\n",
       "rc                0\n",
       "htn               0\n",
       "dm                0\n",
       "cad               0\n",
       "appet             0\n",
       "pe                0\n",
       "ane               0\n",
       "classification    0\n",
       "dtype: int64"
      ]
     },
     "execution_count": 93,
     "metadata": {},
     "output_type": "execute_result"
    }
   ],
   "source": [
    "df.isnull().sum()"
   ]
  },
  {
   "cell_type": "code",
   "execution_count": 94,
   "id": "08ac0b1a",
   "metadata": {
    "scrolled": true
   },
   "outputs": [
    {
     "name": "stdout",
     "output_type": "stream",
     "text": [
      "<class 'pandas.core.frame.DataFrame'>\n",
      "RangeIndex: 400 entries, 0 to 399\n",
      "Data columns (total 26 columns):\n",
      " #   Column          Non-Null Count  Dtype  \n",
      "---  ------          --------------  -----  \n",
      " 0   id              400 non-null    int64  \n",
      " 1   age             400 non-null    float64\n",
      " 2   bp              400 non-null    float64\n",
      " 3   sg              400 non-null    float64\n",
      " 4   al              400 non-null    float64\n",
      " 5   su              400 non-null    float64\n",
      " 6   rbc             400 non-null    object \n",
      " 7   pc              400 non-null    object \n",
      " 8   pcc             400 non-null    object \n",
      " 9   ba              400 non-null    object \n",
      " 10  bgr             400 non-null    float64\n",
      " 11  bu              400 non-null    float64\n",
      " 12  sc              400 non-null    float64\n",
      " 13  sod             400 non-null    float64\n",
      " 14  pot             400 non-null    float64\n",
      " 15  hemo            400 non-null    float64\n",
      " 16  pcv             400 non-null    float64\n",
      " 17  wc              400 non-null    float64\n",
      " 18  rc              400 non-null    float64\n",
      " 19  htn             400 non-null    object \n",
      " 20  dm              400 non-null    object \n",
      " 21  cad             400 non-null    object \n",
      " 22  appet           400 non-null    object \n",
      " 23  pe              400 non-null    object \n",
      " 24  ane             400 non-null    object \n",
      " 25  classification  400 non-null    object \n",
      "dtypes: float64(14), int64(1), object(11)\n",
      "memory usage: 81.4+ KB\n"
     ]
    }
   ],
   "source": [
    "df.info()"
   ]
  },
  {
   "cell_type": "code",
   "execution_count": 95,
   "id": "d397bba2",
   "metadata": {},
   "outputs": [],
   "source": [
    "# create a csv file to store cleaned data \n",
    "df.to_csv('kidney_disease_cleaned_data.csv')"
   ]
  },
  {
   "cell_type": "code",
   "execution_count": 96,
   "id": "a186322f",
   "metadata": {},
   "outputs": [
    {
     "data": {
      "text/html": [
       "<div>\n",
       "<style scoped>\n",
       "    .dataframe tbody tr th:only-of-type {\n",
       "        vertical-align: middle;\n",
       "    }\n",
       "\n",
       "    .dataframe tbody tr th {\n",
       "        vertical-align: top;\n",
       "    }\n",
       "\n",
       "    .dataframe thead th {\n",
       "        text-align: right;\n",
       "    }\n",
       "</style>\n",
       "<table border=\"1\" class=\"dataframe\">\n",
       "  <thead>\n",
       "    <tr style=\"text-align: right;\">\n",
       "      <th></th>\n",
       "      <th>id</th>\n",
       "      <th>age</th>\n",
       "      <th>bp</th>\n",
       "      <th>sg</th>\n",
       "      <th>al</th>\n",
       "      <th>su</th>\n",
       "      <th>bgr</th>\n",
       "      <th>bu</th>\n",
       "      <th>sc</th>\n",
       "      <th>sod</th>\n",
       "      <th>pot</th>\n",
       "      <th>hemo</th>\n",
       "      <th>pcv</th>\n",
       "      <th>wc</th>\n",
       "      <th>rc</th>\n",
       "    </tr>\n",
       "  </thead>\n",
       "  <tbody>\n",
       "    <tr>\n",
       "      <th>count</th>\n",
       "      <td>400.000000</td>\n",
       "      <td>400.000000</td>\n",
       "      <td>400.000000</td>\n",
       "      <td>400.000000</td>\n",
       "      <td>400.00000</td>\n",
       "      <td>400.000000</td>\n",
       "      <td>400.000000</td>\n",
       "      <td>400.000000</td>\n",
       "      <td>400.000000</td>\n",
       "      <td>400.000000</td>\n",
       "      <td>400.000000</td>\n",
       "      <td>400.000000</td>\n",
       "      <td>400.000000</td>\n",
       "      <td>400.000000</td>\n",
       "      <td>400.000000</td>\n",
       "    </tr>\n",
       "    <tr>\n",
       "      <th>mean</th>\n",
       "      <td>199.500000</td>\n",
       "      <td>51.483376</td>\n",
       "      <td>76.575000</td>\n",
       "      <td>1.017408</td>\n",
       "      <td>0.90000</td>\n",
       "      <td>0.395000</td>\n",
       "      <td>145.062500</td>\n",
       "      <td>57.425722</td>\n",
       "      <td>3.072454</td>\n",
       "      <td>137.528754</td>\n",
       "      <td>4.627244</td>\n",
       "      <td>12.526437</td>\n",
       "      <td>38.884498</td>\n",
       "      <td>8406.122449</td>\n",
       "      <td>4.707435</td>\n",
       "    </tr>\n",
       "    <tr>\n",
       "      <th>std</th>\n",
       "      <td>115.614301</td>\n",
       "      <td>16.974966</td>\n",
       "      <td>13.489785</td>\n",
       "      <td>0.005369</td>\n",
       "      <td>1.31313</td>\n",
       "      <td>1.040038</td>\n",
       "      <td>75.260774</td>\n",
       "      <td>49.285887</td>\n",
       "      <td>5.617490</td>\n",
       "      <td>9.204273</td>\n",
       "      <td>2.819783</td>\n",
       "      <td>2.716171</td>\n",
       "      <td>8.151081</td>\n",
       "      <td>2523.219976</td>\n",
       "      <td>0.840314</td>\n",
       "    </tr>\n",
       "    <tr>\n",
       "      <th>min</th>\n",
       "      <td>0.000000</td>\n",
       "      <td>2.000000</td>\n",
       "      <td>50.000000</td>\n",
       "      <td>1.005000</td>\n",
       "      <td>0.00000</td>\n",
       "      <td>0.000000</td>\n",
       "      <td>22.000000</td>\n",
       "      <td>1.500000</td>\n",
       "      <td>0.400000</td>\n",
       "      <td>4.500000</td>\n",
       "      <td>2.500000</td>\n",
       "      <td>3.100000</td>\n",
       "      <td>9.000000</td>\n",
       "      <td>2200.000000</td>\n",
       "      <td>2.100000</td>\n",
       "    </tr>\n",
       "    <tr>\n",
       "      <th>25%</th>\n",
       "      <td>99.750000</td>\n",
       "      <td>42.000000</td>\n",
       "      <td>70.000000</td>\n",
       "      <td>1.015000</td>\n",
       "      <td>0.00000</td>\n",
       "      <td>0.000000</td>\n",
       "      <td>101.000000</td>\n",
       "      <td>27.000000</td>\n",
       "      <td>0.900000</td>\n",
       "      <td>135.000000</td>\n",
       "      <td>4.000000</td>\n",
       "      <td>10.875000</td>\n",
       "      <td>34.000000</td>\n",
       "      <td>6975.000000</td>\n",
       "      <td>4.500000</td>\n",
       "    </tr>\n",
       "    <tr>\n",
       "      <th>50%</th>\n",
       "      <td>199.500000</td>\n",
       "      <td>54.000000</td>\n",
       "      <td>80.000000</td>\n",
       "      <td>1.017408</td>\n",
       "      <td>0.00000</td>\n",
       "      <td>0.000000</td>\n",
       "      <td>121.000000</td>\n",
       "      <td>44.000000</td>\n",
       "      <td>1.400000</td>\n",
       "      <td>137.528754</td>\n",
       "      <td>4.627244</td>\n",
       "      <td>12.526437</td>\n",
       "      <td>38.884498</td>\n",
       "      <td>8406.122449</td>\n",
       "      <td>4.707435</td>\n",
       "    </tr>\n",
       "    <tr>\n",
       "      <th>75%</th>\n",
       "      <td>299.250000</td>\n",
       "      <td>64.000000</td>\n",
       "      <td>80.000000</td>\n",
       "      <td>1.020000</td>\n",
       "      <td>2.00000</td>\n",
       "      <td>0.000000</td>\n",
       "      <td>150.000000</td>\n",
       "      <td>61.750000</td>\n",
       "      <td>3.072454</td>\n",
       "      <td>141.000000</td>\n",
       "      <td>4.800000</td>\n",
       "      <td>14.625000</td>\n",
       "      <td>44.000000</td>\n",
       "      <td>9400.000000</td>\n",
       "      <td>5.100000</td>\n",
       "    </tr>\n",
       "    <tr>\n",
       "      <th>max</th>\n",
       "      <td>399.000000</td>\n",
       "      <td>90.000000</td>\n",
       "      <td>180.000000</td>\n",
       "      <td>1.025000</td>\n",
       "      <td>5.00000</td>\n",
       "      <td>5.000000</td>\n",
       "      <td>490.000000</td>\n",
       "      <td>391.000000</td>\n",
       "      <td>76.000000</td>\n",
       "      <td>163.000000</td>\n",
       "      <td>47.000000</td>\n",
       "      <td>17.800000</td>\n",
       "      <td>54.000000</td>\n",
       "      <td>26400.000000</td>\n",
       "      <td>8.000000</td>\n",
       "    </tr>\n",
       "  </tbody>\n",
       "</table>\n",
       "</div>"
      ],
      "text/plain": [
       "               id         age          bp          sg         al          su  \\\n",
       "count  400.000000  400.000000  400.000000  400.000000  400.00000  400.000000   \n",
       "mean   199.500000   51.483376   76.575000    1.017408    0.90000    0.395000   \n",
       "std    115.614301   16.974966   13.489785    0.005369    1.31313    1.040038   \n",
       "min      0.000000    2.000000   50.000000    1.005000    0.00000    0.000000   \n",
       "25%     99.750000   42.000000   70.000000    1.015000    0.00000    0.000000   \n",
       "50%    199.500000   54.000000   80.000000    1.017408    0.00000    0.000000   \n",
       "75%    299.250000   64.000000   80.000000    1.020000    2.00000    0.000000   \n",
       "max    399.000000   90.000000  180.000000    1.025000    5.00000    5.000000   \n",
       "\n",
       "              bgr          bu          sc         sod         pot        hemo  \\\n",
       "count  400.000000  400.000000  400.000000  400.000000  400.000000  400.000000   \n",
       "mean   145.062500   57.425722    3.072454  137.528754    4.627244   12.526437   \n",
       "std     75.260774   49.285887    5.617490    9.204273    2.819783    2.716171   \n",
       "min     22.000000    1.500000    0.400000    4.500000    2.500000    3.100000   \n",
       "25%    101.000000   27.000000    0.900000  135.000000    4.000000   10.875000   \n",
       "50%    121.000000   44.000000    1.400000  137.528754    4.627244   12.526437   \n",
       "75%    150.000000   61.750000    3.072454  141.000000    4.800000   14.625000   \n",
       "max    490.000000  391.000000   76.000000  163.000000   47.000000   17.800000   \n",
       "\n",
       "              pcv            wc          rc  \n",
       "count  400.000000    400.000000  400.000000  \n",
       "mean    38.884498   8406.122449    4.707435  \n",
       "std      8.151081   2523.219976    0.840314  \n",
       "min      9.000000   2200.000000    2.100000  \n",
       "25%     34.000000   6975.000000    4.500000  \n",
       "50%     38.884498   8406.122449    4.707435  \n",
       "75%     44.000000   9400.000000    5.100000  \n",
       "max     54.000000  26400.000000    8.000000  "
      ]
     },
     "execution_count": 96,
     "metadata": {},
     "output_type": "execute_result"
    }
   ],
   "source": [
    "df.describe()"
   ]
  },
  {
   "cell_type": "markdown",
   "id": "4fe21336",
   "metadata": {},
   "source": [
    "# Encoding for categorical data "
   ]
  },
  {
   "cell_type": "markdown",
   "id": "d287690c",
   "metadata": {},
   "source": [
    "- We have total 11 columns which have categorical data."
   ]
  },
  {
   "cell_type": "code",
   "execution_count": 97,
   "id": "cf81e6a4",
   "metadata": {},
   "outputs": [
    {
     "data": {
      "text/plain": [
       "Index(['id', 'age', 'bp', 'sg', 'al', 'su', 'bgr', 'bu', 'sc', 'sod', 'pot',\n",
       "       'hemo', 'pcv', 'wc', 'rc'],\n",
       "      dtype='object')"
      ]
     },
     "execution_count": 97,
     "metadata": {},
     "output_type": "execute_result"
    }
   ],
   "source": [
    "df.describe().columns"
   ]
  },
  {
   "cell_type": "code",
   "execution_count": 98,
   "id": "dea4c237",
   "metadata": {
    "scrolled": true
   },
   "outputs": [
    {
     "data": {
      "text/html": [
       "<div>\n",
       "<style scoped>\n",
       "    .dataframe tbody tr th:only-of-type {\n",
       "        vertical-align: middle;\n",
       "    }\n",
       "\n",
       "    .dataframe tbody tr th {\n",
       "        vertical-align: top;\n",
       "    }\n",
       "\n",
       "    .dataframe thead th {\n",
       "        text-align: right;\n",
       "    }\n",
       "</style>\n",
       "<table border=\"1\" class=\"dataframe\">\n",
       "  <thead>\n",
       "    <tr style=\"text-align: right;\">\n",
       "      <th></th>\n",
       "      <th>rbc</th>\n",
       "      <th>pc</th>\n",
       "      <th>pcc</th>\n",
       "      <th>ba</th>\n",
       "      <th>htn</th>\n",
       "      <th>dm</th>\n",
       "      <th>cad</th>\n",
       "      <th>appet</th>\n",
       "      <th>pe</th>\n",
       "      <th>ane</th>\n",
       "      <th>classification</th>\n",
       "    </tr>\n",
       "  </thead>\n",
       "  <tbody>\n",
       "    <tr>\n",
       "      <th>0</th>\n",
       "      <td>normal</td>\n",
       "      <td>normal</td>\n",
       "      <td>notpresent</td>\n",
       "      <td>notpresent</td>\n",
       "      <td>yes</td>\n",
       "      <td>yes</td>\n",
       "      <td>no</td>\n",
       "      <td>good</td>\n",
       "      <td>no</td>\n",
       "      <td>no</td>\n",
       "      <td>ckd</td>\n",
       "    </tr>\n",
       "    <tr>\n",
       "      <th>1</th>\n",
       "      <td>normal</td>\n",
       "      <td>normal</td>\n",
       "      <td>notpresent</td>\n",
       "      <td>notpresent</td>\n",
       "      <td>no</td>\n",
       "      <td>no</td>\n",
       "      <td>no</td>\n",
       "      <td>good</td>\n",
       "      <td>no</td>\n",
       "      <td>no</td>\n",
       "      <td>ckd</td>\n",
       "    </tr>\n",
       "    <tr>\n",
       "      <th>2</th>\n",
       "      <td>normal</td>\n",
       "      <td>normal</td>\n",
       "      <td>notpresent</td>\n",
       "      <td>notpresent</td>\n",
       "      <td>no</td>\n",
       "      <td>yes</td>\n",
       "      <td>no</td>\n",
       "      <td>poor</td>\n",
       "      <td>no</td>\n",
       "      <td>yes</td>\n",
       "      <td>ckd</td>\n",
       "    </tr>\n",
       "    <tr>\n",
       "      <th>3</th>\n",
       "      <td>normal</td>\n",
       "      <td>abnormal</td>\n",
       "      <td>present</td>\n",
       "      <td>notpresent</td>\n",
       "      <td>yes</td>\n",
       "      <td>no</td>\n",
       "      <td>no</td>\n",
       "      <td>poor</td>\n",
       "      <td>yes</td>\n",
       "      <td>yes</td>\n",
       "      <td>ckd</td>\n",
       "    </tr>\n",
       "    <tr>\n",
       "      <th>4</th>\n",
       "      <td>normal</td>\n",
       "      <td>normal</td>\n",
       "      <td>notpresent</td>\n",
       "      <td>notpresent</td>\n",
       "      <td>no</td>\n",
       "      <td>no</td>\n",
       "      <td>no</td>\n",
       "      <td>good</td>\n",
       "      <td>no</td>\n",
       "      <td>no</td>\n",
       "      <td>ckd</td>\n",
       "    </tr>\n",
       "  </tbody>\n",
       "</table>\n",
       "</div>"
      ],
      "text/plain": [
       "      rbc        pc         pcc          ba  htn   dm cad appet   pe  ane  \\\n",
       "0  normal    normal  notpresent  notpresent  yes  yes  no  good   no   no   \n",
       "1  normal    normal  notpresent  notpresent   no   no  no  good   no   no   \n",
       "2  normal    normal  notpresent  notpresent   no  yes  no  poor   no  yes   \n",
       "3  normal  abnormal     present  notpresent  yes   no  no  poor  yes  yes   \n",
       "4  normal    normal  notpresent  notpresent   no   no  no  good   no   no   \n",
       "\n",
       "  classification  \n",
       "0            ckd  \n",
       "1            ckd  \n",
       "2            ckd  \n",
       "3            ckd  \n",
       "4            ckd  "
      ]
     },
     "execution_count": 98,
     "metadata": {},
     "output_type": "execute_result"
    }
   ],
   "source": [
    "# drop numeric columns and take only categorical data columns\n",
    "df1 = df.drop(df.describe().columns, axis=1)\n",
    "df1.head()"
   ]
  },
  {
   "cell_type": "code",
   "execution_count": 99,
   "id": "0c806fd3",
   "metadata": {},
   "outputs": [
    {
     "data": {
      "text/plain": [
       "Index(['rbc', 'pc', 'pcc', 'ba', 'htn', 'dm', 'cad', 'appet', 'pe', 'ane',\n",
       "       'classification'],\n",
       "      dtype='object')"
      ]
     },
     "execution_count": 99,
     "metadata": {},
     "output_type": "execute_result"
    }
   ],
   "source": [
    "df1.columns"
   ]
  },
  {
   "cell_type": "markdown",
   "id": "cc4da415",
   "metadata": {},
   "source": [
    "- Here we have 1 ordinal categorical data column 'appet'\n",
    "- Target column 'classification'\n",
    "- all other 9 columns are nominal categorical data columns"
   ]
  },
  {
   "cell_type": "code",
   "execution_count": 100,
   "id": "4da655da",
   "metadata": {},
   "outputs": [],
   "source": [
    "# First we split data into dependent and independent data\n",
    "X = df.drop(['id','age','classification'],axis=1)\n",
    "y = df['classification']"
   ]
  },
  {
   "cell_type": "code",
   "execution_count": 101,
   "id": "d8162c49",
   "metadata": {
    "scrolled": true
   },
   "outputs": [
    {
     "data": {
      "text/html": [
       "<div>\n",
       "<style scoped>\n",
       "    .dataframe tbody tr th:only-of-type {\n",
       "        vertical-align: middle;\n",
       "    }\n",
       "\n",
       "    .dataframe tbody tr th {\n",
       "        vertical-align: top;\n",
       "    }\n",
       "\n",
       "    .dataframe thead th {\n",
       "        text-align: right;\n",
       "    }\n",
       "</style>\n",
       "<table border=\"1\" class=\"dataframe\">\n",
       "  <thead>\n",
       "    <tr style=\"text-align: right;\">\n",
       "      <th></th>\n",
       "      <th>bp</th>\n",
       "      <th>sg</th>\n",
       "      <th>al</th>\n",
       "      <th>su</th>\n",
       "      <th>rbc</th>\n",
       "      <th>pc</th>\n",
       "      <th>pcc</th>\n",
       "      <th>ba</th>\n",
       "      <th>bgr</th>\n",
       "      <th>bu</th>\n",
       "      <th>...</th>\n",
       "      <th>hemo</th>\n",
       "      <th>pcv</th>\n",
       "      <th>wc</th>\n",
       "      <th>rc</th>\n",
       "      <th>htn</th>\n",
       "      <th>dm</th>\n",
       "      <th>cad</th>\n",
       "      <th>appet</th>\n",
       "      <th>pe</th>\n",
       "      <th>ane</th>\n",
       "    </tr>\n",
       "  </thead>\n",
       "  <tbody>\n",
       "    <tr>\n",
       "      <th>0</th>\n",
       "      <td>80.0</td>\n",
       "      <td>1.020</td>\n",
       "      <td>1.0</td>\n",
       "      <td>0.0</td>\n",
       "      <td>normal</td>\n",
       "      <td>normal</td>\n",
       "      <td>notpresent</td>\n",
       "      <td>notpresent</td>\n",
       "      <td>121.0</td>\n",
       "      <td>36.0</td>\n",
       "      <td>...</td>\n",
       "      <td>15.4</td>\n",
       "      <td>44.0</td>\n",
       "      <td>7800.0</td>\n",
       "      <td>5.200000</td>\n",
       "      <td>yes</td>\n",
       "      <td>yes</td>\n",
       "      <td>no</td>\n",
       "      <td>good</td>\n",
       "      <td>no</td>\n",
       "      <td>no</td>\n",
       "    </tr>\n",
       "    <tr>\n",
       "      <th>1</th>\n",
       "      <td>50.0</td>\n",
       "      <td>1.020</td>\n",
       "      <td>4.0</td>\n",
       "      <td>0.0</td>\n",
       "      <td>normal</td>\n",
       "      <td>normal</td>\n",
       "      <td>notpresent</td>\n",
       "      <td>notpresent</td>\n",
       "      <td>121.0</td>\n",
       "      <td>18.0</td>\n",
       "      <td>...</td>\n",
       "      <td>11.3</td>\n",
       "      <td>38.0</td>\n",
       "      <td>6000.0</td>\n",
       "      <td>4.707435</td>\n",
       "      <td>no</td>\n",
       "      <td>no</td>\n",
       "      <td>no</td>\n",
       "      <td>good</td>\n",
       "      <td>no</td>\n",
       "      <td>no</td>\n",
       "    </tr>\n",
       "    <tr>\n",
       "      <th>2</th>\n",
       "      <td>80.0</td>\n",
       "      <td>1.010</td>\n",
       "      <td>2.0</td>\n",
       "      <td>3.0</td>\n",
       "      <td>normal</td>\n",
       "      <td>normal</td>\n",
       "      <td>notpresent</td>\n",
       "      <td>notpresent</td>\n",
       "      <td>423.0</td>\n",
       "      <td>53.0</td>\n",
       "      <td>...</td>\n",
       "      <td>9.6</td>\n",
       "      <td>31.0</td>\n",
       "      <td>7500.0</td>\n",
       "      <td>4.707435</td>\n",
       "      <td>no</td>\n",
       "      <td>yes</td>\n",
       "      <td>no</td>\n",
       "      <td>poor</td>\n",
       "      <td>no</td>\n",
       "      <td>yes</td>\n",
       "    </tr>\n",
       "    <tr>\n",
       "      <th>3</th>\n",
       "      <td>70.0</td>\n",
       "      <td>1.005</td>\n",
       "      <td>4.0</td>\n",
       "      <td>0.0</td>\n",
       "      <td>normal</td>\n",
       "      <td>abnormal</td>\n",
       "      <td>present</td>\n",
       "      <td>notpresent</td>\n",
       "      <td>117.0</td>\n",
       "      <td>56.0</td>\n",
       "      <td>...</td>\n",
       "      <td>11.2</td>\n",
       "      <td>32.0</td>\n",
       "      <td>6700.0</td>\n",
       "      <td>3.900000</td>\n",
       "      <td>yes</td>\n",
       "      <td>no</td>\n",
       "      <td>no</td>\n",
       "      <td>poor</td>\n",
       "      <td>yes</td>\n",
       "      <td>yes</td>\n",
       "    </tr>\n",
       "    <tr>\n",
       "      <th>4</th>\n",
       "      <td>80.0</td>\n",
       "      <td>1.010</td>\n",
       "      <td>2.0</td>\n",
       "      <td>0.0</td>\n",
       "      <td>normal</td>\n",
       "      <td>normal</td>\n",
       "      <td>notpresent</td>\n",
       "      <td>notpresent</td>\n",
       "      <td>106.0</td>\n",
       "      <td>26.0</td>\n",
       "      <td>...</td>\n",
       "      <td>11.6</td>\n",
       "      <td>35.0</td>\n",
       "      <td>7300.0</td>\n",
       "      <td>4.600000</td>\n",
       "      <td>no</td>\n",
       "      <td>no</td>\n",
       "      <td>no</td>\n",
       "      <td>good</td>\n",
       "      <td>no</td>\n",
       "      <td>no</td>\n",
       "    </tr>\n",
       "  </tbody>\n",
       "</table>\n",
       "<p>5 rows × 23 columns</p>\n",
       "</div>"
      ],
      "text/plain": [
       "     bp     sg   al   su     rbc        pc         pcc          ba    bgr  \\\n",
       "0  80.0  1.020  1.0  0.0  normal    normal  notpresent  notpresent  121.0   \n",
       "1  50.0  1.020  4.0  0.0  normal    normal  notpresent  notpresent  121.0   \n",
       "2  80.0  1.010  2.0  3.0  normal    normal  notpresent  notpresent  423.0   \n",
       "3  70.0  1.005  4.0  0.0  normal  abnormal     present  notpresent  117.0   \n",
       "4  80.0  1.010  2.0  0.0  normal    normal  notpresent  notpresent  106.0   \n",
       "\n",
       "     bu  ...  hemo   pcv      wc        rc  htn   dm  cad appet   pe  ane  \n",
       "0  36.0  ...  15.4  44.0  7800.0  5.200000  yes  yes   no  good   no   no  \n",
       "1  18.0  ...  11.3  38.0  6000.0  4.707435   no   no   no  good   no   no  \n",
       "2  53.0  ...   9.6  31.0  7500.0  4.707435   no  yes   no  poor   no  yes  \n",
       "3  56.0  ...  11.2  32.0  6700.0  3.900000  yes   no   no  poor  yes  yes  \n",
       "4  26.0  ...  11.6  35.0  7300.0  4.600000   no   no   no  good   no   no  \n",
       "\n",
       "[5 rows x 23 columns]"
      ]
     },
     "execution_count": 101,
     "metadata": {},
     "output_type": "execute_result"
    }
   ],
   "source": [
    "X.head()"
   ]
  },
  {
   "cell_type": "code",
   "execution_count": 102,
   "id": "a1d64bb7",
   "metadata": {
    "scrolled": true
   },
   "outputs": [
    {
     "data": {
      "text/plain": [
       "Index(['bp', 'sg', 'al', 'su', 'rbc', 'pc', 'pcc', 'ba', 'bgr', 'bu', 'sc',\n",
       "       'sod', 'pot', 'hemo', 'pcv', 'wc', 'rc', 'htn', 'dm', 'cad', 'appet',\n",
       "       'pe', 'ane'],\n",
       "      dtype='object')"
      ]
     },
     "execution_count": 102,
     "metadata": {},
     "output_type": "execute_result"
    }
   ],
   "source": [
    "X.columns"
   ]
  },
  {
   "cell_type": "markdown",
   "id": "f2e418f3",
   "metadata": {},
   "source": [
    "## train test split\n"
   ]
  },
  {
   "cell_type": "code",
   "execution_count": 103,
   "id": "fbe16f98",
   "metadata": {},
   "outputs": [],
   "source": [
    "from sklearn.model_selection import train_test_split\n",
    "X_train, X_test, y_train, y_test= train_test_split(X,y, test_size=0.2)"
   ]
  },
  {
   "cell_type": "code",
   "execution_count": 104,
   "id": "b0ba1281",
   "metadata": {
    "scrolled": true
   },
   "outputs": [
    {
     "name": "stdout",
     "output_type": "stream",
     "text": [
      "Shape of X_train:  (320, 23)\n",
      "Shape of X_test:  (80, 23)\n",
      "Shape of y_train:  (320,)\n",
      "Shape of y_test :  (80,)\n"
     ]
    }
   ],
   "source": [
    "print('Shape of X_train: ', X_train.shape)\n",
    "print('Shape of X_test: ', X_test.shape)\n",
    "print('Shape of y_train: ',y_train.shape)\n",
    "print('Shape of y_test : ', y_test.shape)"
   ]
  },
  {
   "cell_type": "markdown",
   "id": "60bba9d7",
   "metadata": {},
   "source": [
    "## 1) Encode Nominal columns by One Hot encoder"
   ]
  },
  {
   "cell_type": "code",
   "execution_count": 105,
   "id": "85721181",
   "metadata": {},
   "outputs": [],
   "source": [
    "# Encode the categorical features using OneHotEncoder\n",
    "categorical_cols = ['rbc', 'pc', 'pcc', 'ba', 'htn', 'dm', 'cad', 'pe', 'ane']\n",
    "\n",
    "from sklearn.preprocessing import OneHotEncoder\n",
    "onehot_encoder = OneHotEncoder(drop='first', sparse=False)\n",
    "\n",
    "# fit_transform on X_train only\n",
    "onehot_encoder.fit(X_train[categorical_cols])\n",
    "\n",
    "# column names after one hot encoding\n",
    "cols = onehot_encoder.get_feature_names(categorical_cols)\n",
    "\n",
    "# transform on X_train\n",
    "X_train_cat_encoded = pd.DataFrame(onehot_encoder.transform(X_train[categorical_cols]),columns=cols)\n",
    "\n",
    "# transform on X_test\n",
    "X_test_cat_encoded = pd.DataFrame(onehot_encoder.transform(X_test[categorical_cols]), columns=cols)"
   ]
  },
  {
   "cell_type": "code",
   "execution_count": 106,
   "id": "df26913f",
   "metadata": {},
   "outputs": [
    {
     "data": {
      "text/html": [
       "<div>\n",
       "<style scoped>\n",
       "    .dataframe tbody tr th:only-of-type {\n",
       "        vertical-align: middle;\n",
       "    }\n",
       "\n",
       "    .dataframe tbody tr th {\n",
       "        vertical-align: top;\n",
       "    }\n",
       "\n",
       "    .dataframe thead th {\n",
       "        text-align: right;\n",
       "    }\n",
       "</style>\n",
       "<table border=\"1\" class=\"dataframe\">\n",
       "  <thead>\n",
       "    <tr style=\"text-align: right;\">\n",
       "      <th></th>\n",
       "      <th>rbc_normal</th>\n",
       "      <th>pc_normal</th>\n",
       "      <th>pcc_present</th>\n",
       "      <th>ba_present</th>\n",
       "      <th>htn_yes</th>\n",
       "      <th>dm_yes</th>\n",
       "      <th>cad_yes</th>\n",
       "      <th>pe_yes</th>\n",
       "      <th>ane_yes</th>\n",
       "    </tr>\n",
       "  </thead>\n",
       "  <tbody>\n",
       "    <tr>\n",
       "      <th>0</th>\n",
       "      <td>1.0</td>\n",
       "      <td>1.0</td>\n",
       "      <td>0.0</td>\n",
       "      <td>0.0</td>\n",
       "      <td>0.0</td>\n",
       "      <td>0.0</td>\n",
       "      <td>0.0</td>\n",
       "      <td>0.0</td>\n",
       "      <td>0.0</td>\n",
       "    </tr>\n",
       "    <tr>\n",
       "      <th>1</th>\n",
       "      <td>1.0</td>\n",
       "      <td>1.0</td>\n",
       "      <td>0.0</td>\n",
       "      <td>0.0</td>\n",
       "      <td>0.0</td>\n",
       "      <td>0.0</td>\n",
       "      <td>0.0</td>\n",
       "      <td>0.0</td>\n",
       "      <td>0.0</td>\n",
       "    </tr>\n",
       "    <tr>\n",
       "      <th>2</th>\n",
       "      <td>1.0</td>\n",
       "      <td>1.0</td>\n",
       "      <td>0.0</td>\n",
       "      <td>0.0</td>\n",
       "      <td>0.0</td>\n",
       "      <td>1.0</td>\n",
       "      <td>0.0</td>\n",
       "      <td>0.0</td>\n",
       "      <td>0.0</td>\n",
       "    </tr>\n",
       "    <tr>\n",
       "      <th>3</th>\n",
       "      <td>1.0</td>\n",
       "      <td>1.0</td>\n",
       "      <td>0.0</td>\n",
       "      <td>0.0</td>\n",
       "      <td>0.0</td>\n",
       "      <td>0.0</td>\n",
       "      <td>0.0</td>\n",
       "      <td>0.0</td>\n",
       "      <td>0.0</td>\n",
       "    </tr>\n",
       "    <tr>\n",
       "      <th>4</th>\n",
       "      <td>1.0</td>\n",
       "      <td>1.0</td>\n",
       "      <td>0.0</td>\n",
       "      <td>0.0</td>\n",
       "      <td>0.0</td>\n",
       "      <td>1.0</td>\n",
       "      <td>0.0</td>\n",
       "      <td>0.0</td>\n",
       "      <td>0.0</td>\n",
       "    </tr>\n",
       "    <tr>\n",
       "      <th>...</th>\n",
       "      <td>...</td>\n",
       "      <td>...</td>\n",
       "      <td>...</td>\n",
       "      <td>...</td>\n",
       "      <td>...</td>\n",
       "      <td>...</td>\n",
       "      <td>...</td>\n",
       "      <td>...</td>\n",
       "      <td>...</td>\n",
       "    </tr>\n",
       "    <tr>\n",
       "      <th>315</th>\n",
       "      <td>1.0</td>\n",
       "      <td>1.0</td>\n",
       "      <td>0.0</td>\n",
       "      <td>0.0</td>\n",
       "      <td>0.0</td>\n",
       "      <td>0.0</td>\n",
       "      <td>0.0</td>\n",
       "      <td>0.0</td>\n",
       "      <td>0.0</td>\n",
       "    </tr>\n",
       "    <tr>\n",
       "      <th>316</th>\n",
       "      <td>0.0</td>\n",
       "      <td>0.0</td>\n",
       "      <td>0.0</td>\n",
       "      <td>1.0</td>\n",
       "      <td>1.0</td>\n",
       "      <td>1.0</td>\n",
       "      <td>0.0</td>\n",
       "      <td>1.0</td>\n",
       "      <td>0.0</td>\n",
       "    </tr>\n",
       "    <tr>\n",
       "      <th>317</th>\n",
       "      <td>1.0</td>\n",
       "      <td>1.0</td>\n",
       "      <td>0.0</td>\n",
       "      <td>0.0</td>\n",
       "      <td>0.0</td>\n",
       "      <td>0.0</td>\n",
       "      <td>0.0</td>\n",
       "      <td>0.0</td>\n",
       "      <td>0.0</td>\n",
       "    </tr>\n",
       "    <tr>\n",
       "      <th>318</th>\n",
       "      <td>1.0</td>\n",
       "      <td>1.0</td>\n",
       "      <td>0.0</td>\n",
       "      <td>0.0</td>\n",
       "      <td>0.0</td>\n",
       "      <td>0.0</td>\n",
       "      <td>0.0</td>\n",
       "      <td>0.0</td>\n",
       "      <td>0.0</td>\n",
       "    </tr>\n",
       "    <tr>\n",
       "      <th>319</th>\n",
       "      <td>1.0</td>\n",
       "      <td>1.0</td>\n",
       "      <td>0.0</td>\n",
       "      <td>0.0</td>\n",
       "      <td>1.0</td>\n",
       "      <td>0.0</td>\n",
       "      <td>0.0</td>\n",
       "      <td>0.0</td>\n",
       "      <td>0.0</td>\n",
       "    </tr>\n",
       "  </tbody>\n",
       "</table>\n",
       "<p>320 rows × 9 columns</p>\n",
       "</div>"
      ],
      "text/plain": [
       "     rbc_normal  pc_normal  pcc_present  ba_present  htn_yes  dm_yes  cad_yes  \\\n",
       "0           1.0        1.0          0.0         0.0      0.0     0.0      0.0   \n",
       "1           1.0        1.0          0.0         0.0      0.0     0.0      0.0   \n",
       "2           1.0        1.0          0.0         0.0      0.0     1.0      0.0   \n",
       "3           1.0        1.0          0.0         0.0      0.0     0.0      0.0   \n",
       "4           1.0        1.0          0.0         0.0      0.0     1.0      0.0   \n",
       "..          ...        ...          ...         ...      ...     ...      ...   \n",
       "315         1.0        1.0          0.0         0.0      0.0     0.0      0.0   \n",
       "316         0.0        0.0          0.0         1.0      1.0     1.0      0.0   \n",
       "317         1.0        1.0          0.0         0.0      0.0     0.0      0.0   \n",
       "318         1.0        1.0          0.0         0.0      0.0     0.0      0.0   \n",
       "319         1.0        1.0          0.0         0.0      1.0     0.0      0.0   \n",
       "\n",
       "     pe_yes  ane_yes  \n",
       "0       0.0      0.0  \n",
       "1       0.0      0.0  \n",
       "2       0.0      0.0  \n",
       "3       0.0      0.0  \n",
       "4       0.0      0.0  \n",
       "..      ...      ...  \n",
       "315     0.0      0.0  \n",
       "316     1.0      0.0  \n",
       "317     0.0      0.0  \n",
       "318     0.0      0.0  \n",
       "319     0.0      0.0  \n",
       "\n",
       "[320 rows x 9 columns]"
      ]
     },
     "execution_count": 106,
     "metadata": {},
     "output_type": "execute_result"
    }
   ],
   "source": [
    "X_train_cat_encoded"
   ]
  },
  {
   "cell_type": "code",
   "execution_count": 107,
   "id": "cc96fbbd",
   "metadata": {},
   "outputs": [
    {
     "data": {
      "text/html": [
       "<div>\n",
       "<style scoped>\n",
       "    .dataframe tbody tr th:only-of-type {\n",
       "        vertical-align: middle;\n",
       "    }\n",
       "\n",
       "    .dataframe tbody tr th {\n",
       "        vertical-align: top;\n",
       "    }\n",
       "\n",
       "    .dataframe thead th {\n",
       "        text-align: right;\n",
       "    }\n",
       "</style>\n",
       "<table border=\"1\" class=\"dataframe\">\n",
       "  <thead>\n",
       "    <tr style=\"text-align: right;\">\n",
       "      <th></th>\n",
       "      <th>rbc_normal</th>\n",
       "      <th>pc_normal</th>\n",
       "      <th>pcc_present</th>\n",
       "      <th>ba_present</th>\n",
       "      <th>htn_yes</th>\n",
       "      <th>dm_yes</th>\n",
       "      <th>cad_yes</th>\n",
       "      <th>pe_yes</th>\n",
       "      <th>ane_yes</th>\n",
       "    </tr>\n",
       "  </thead>\n",
       "  <tbody>\n",
       "    <tr>\n",
       "      <th>0</th>\n",
       "      <td>1.0</td>\n",
       "      <td>1.0</td>\n",
       "      <td>0.0</td>\n",
       "      <td>0.0</td>\n",
       "      <td>0.0</td>\n",
       "      <td>0.0</td>\n",
       "      <td>0.0</td>\n",
       "      <td>0.0</td>\n",
       "      <td>0.0</td>\n",
       "    </tr>\n",
       "    <tr>\n",
       "      <th>1</th>\n",
       "      <td>1.0</td>\n",
       "      <td>1.0</td>\n",
       "      <td>0.0</td>\n",
       "      <td>0.0</td>\n",
       "      <td>0.0</td>\n",
       "      <td>0.0</td>\n",
       "      <td>0.0</td>\n",
       "      <td>0.0</td>\n",
       "      <td>0.0</td>\n",
       "    </tr>\n",
       "    <tr>\n",
       "      <th>2</th>\n",
       "      <td>1.0</td>\n",
       "      <td>0.0</td>\n",
       "      <td>1.0</td>\n",
       "      <td>1.0</td>\n",
       "      <td>0.0</td>\n",
       "      <td>0.0</td>\n",
       "      <td>0.0</td>\n",
       "      <td>1.0</td>\n",
       "      <td>1.0</td>\n",
       "    </tr>\n",
       "    <tr>\n",
       "      <th>3</th>\n",
       "      <td>1.0</td>\n",
       "      <td>1.0</td>\n",
       "      <td>0.0</td>\n",
       "      <td>0.0</td>\n",
       "      <td>0.0</td>\n",
       "      <td>0.0</td>\n",
       "      <td>0.0</td>\n",
       "      <td>0.0</td>\n",
       "      <td>0.0</td>\n",
       "    </tr>\n",
       "    <tr>\n",
       "      <th>4</th>\n",
       "      <td>1.0</td>\n",
       "      <td>1.0</td>\n",
       "      <td>0.0</td>\n",
       "      <td>0.0</td>\n",
       "      <td>1.0</td>\n",
       "      <td>1.0</td>\n",
       "      <td>0.0</td>\n",
       "      <td>0.0</td>\n",
       "      <td>0.0</td>\n",
       "    </tr>\n",
       "    <tr>\n",
       "      <th>...</th>\n",
       "      <td>...</td>\n",
       "      <td>...</td>\n",
       "      <td>...</td>\n",
       "      <td>...</td>\n",
       "      <td>...</td>\n",
       "      <td>...</td>\n",
       "      <td>...</td>\n",
       "      <td>...</td>\n",
       "      <td>...</td>\n",
       "    </tr>\n",
       "    <tr>\n",
       "      <th>75</th>\n",
       "      <td>1.0</td>\n",
       "      <td>1.0</td>\n",
       "      <td>0.0</td>\n",
       "      <td>0.0</td>\n",
       "      <td>0.0</td>\n",
       "      <td>0.0</td>\n",
       "      <td>0.0</td>\n",
       "      <td>0.0</td>\n",
       "      <td>0.0</td>\n",
       "    </tr>\n",
       "    <tr>\n",
       "      <th>76</th>\n",
       "      <td>1.0</td>\n",
       "      <td>0.0</td>\n",
       "      <td>0.0</td>\n",
       "      <td>0.0</td>\n",
       "      <td>1.0</td>\n",
       "      <td>1.0</td>\n",
       "      <td>0.0</td>\n",
       "      <td>0.0</td>\n",
       "      <td>1.0</td>\n",
       "    </tr>\n",
       "    <tr>\n",
       "      <th>77</th>\n",
       "      <td>1.0</td>\n",
       "      <td>1.0</td>\n",
       "      <td>0.0</td>\n",
       "      <td>0.0</td>\n",
       "      <td>1.0</td>\n",
       "      <td>1.0</td>\n",
       "      <td>0.0</td>\n",
       "      <td>1.0</td>\n",
       "      <td>0.0</td>\n",
       "    </tr>\n",
       "    <tr>\n",
       "      <th>78</th>\n",
       "      <td>0.0</td>\n",
       "      <td>0.0</td>\n",
       "      <td>1.0</td>\n",
       "      <td>0.0</td>\n",
       "      <td>1.0</td>\n",
       "      <td>1.0</td>\n",
       "      <td>0.0</td>\n",
       "      <td>0.0</td>\n",
       "      <td>1.0</td>\n",
       "    </tr>\n",
       "    <tr>\n",
       "      <th>79</th>\n",
       "      <td>1.0</td>\n",
       "      <td>1.0</td>\n",
       "      <td>0.0</td>\n",
       "      <td>0.0</td>\n",
       "      <td>0.0</td>\n",
       "      <td>0.0</td>\n",
       "      <td>0.0</td>\n",
       "      <td>0.0</td>\n",
       "      <td>0.0</td>\n",
       "    </tr>\n",
       "  </tbody>\n",
       "</table>\n",
       "<p>80 rows × 9 columns</p>\n",
       "</div>"
      ],
      "text/plain": [
       "    rbc_normal  pc_normal  pcc_present  ba_present  htn_yes  dm_yes  cad_yes  \\\n",
       "0          1.0        1.0          0.0         0.0      0.0     0.0      0.0   \n",
       "1          1.0        1.0          0.0         0.0      0.0     0.0      0.0   \n",
       "2          1.0        0.0          1.0         1.0      0.0     0.0      0.0   \n",
       "3          1.0        1.0          0.0         0.0      0.0     0.0      0.0   \n",
       "4          1.0        1.0          0.0         0.0      1.0     1.0      0.0   \n",
       "..         ...        ...          ...         ...      ...     ...      ...   \n",
       "75         1.0        1.0          0.0         0.0      0.0     0.0      0.0   \n",
       "76         1.0        0.0          0.0         0.0      1.0     1.0      0.0   \n",
       "77         1.0        1.0          0.0         0.0      1.0     1.0      0.0   \n",
       "78         0.0        0.0          1.0         0.0      1.0     1.0      0.0   \n",
       "79         1.0        1.0          0.0         0.0      0.0     0.0      0.0   \n",
       "\n",
       "    pe_yes  ane_yes  \n",
       "0      0.0      0.0  \n",
       "1      0.0      0.0  \n",
       "2      1.0      1.0  \n",
       "3      0.0      0.0  \n",
       "4      0.0      0.0  \n",
       "..     ...      ...  \n",
       "75     0.0      0.0  \n",
       "76     0.0      1.0  \n",
       "77     1.0      0.0  \n",
       "78     0.0      1.0  \n",
       "79     0.0      0.0  \n",
       "\n",
       "[80 rows x 9 columns]"
      ]
     },
     "execution_count": 107,
     "metadata": {},
     "output_type": "execute_result"
    }
   ],
   "source": [
    "X_test_cat_encoded"
   ]
  },
  {
   "cell_type": "markdown",
   "id": "6bc64de6",
   "metadata": {},
   "source": [
    "## 2) Encode ordinal categorical column by OrdinalEncoder"
   ]
  },
  {
   "cell_type": "code",
   "execution_count": 108,
   "id": "053e3e69",
   "metadata": {},
   "outputs": [],
   "source": [
    "# Encode the ordinal feature using OrdinalEncoder\n",
    "ordinal_cols = ['appet']\n",
    "ordinal_categories = [['poor', 'good']]\n",
    "\n",
    "from sklearn.preprocessing import OrdinalEncoder \n",
    "\n",
    "ordinal_encoder = OrdinalEncoder(categories=ordinal_categories)\n",
    "\n",
    "# fit on X_train only\n",
    "ordinal_encoder.fit(X_train[ordinal_cols])\n",
    "\n",
    "# column names after ordinal encoding\n",
    "#colss = onehot_encoder.get_feature_names(ordinal_cols)\n",
    "\n",
    "# transform on X_train\n",
    "X_train_ord_encoded = pd.DataFrame(ordinal_encoder.fit_transform(X_train[ordinal_cols]), columns=ordinal_cols)\n",
    "\n",
    "# only transform on X_test\n",
    "X_test_ord_encoded = pd.DataFrame(ordinal_encoder.transform(X_test[ordinal_cols]), columns=ordinal_cols)"
   ]
  },
  {
   "cell_type": "code",
   "execution_count": 109,
   "id": "bc7c7033",
   "metadata": {
    "scrolled": true
   },
   "outputs": [
    {
     "data": {
      "text/html": [
       "<div>\n",
       "<style scoped>\n",
       "    .dataframe tbody tr th:only-of-type {\n",
       "        vertical-align: middle;\n",
       "    }\n",
       "\n",
       "    .dataframe tbody tr th {\n",
       "        vertical-align: top;\n",
       "    }\n",
       "\n",
       "    .dataframe thead th {\n",
       "        text-align: right;\n",
       "    }\n",
       "</style>\n",
       "<table border=\"1\" class=\"dataframe\">\n",
       "  <thead>\n",
       "    <tr style=\"text-align: right;\">\n",
       "      <th></th>\n",
       "      <th>appet</th>\n",
       "    </tr>\n",
       "  </thead>\n",
       "  <tbody>\n",
       "    <tr>\n",
       "      <th>0</th>\n",
       "      <td>1.0</td>\n",
       "    </tr>\n",
       "    <tr>\n",
       "      <th>1</th>\n",
       "      <td>1.0</td>\n",
       "    </tr>\n",
       "    <tr>\n",
       "      <th>2</th>\n",
       "      <td>1.0</td>\n",
       "    </tr>\n",
       "    <tr>\n",
       "      <th>3</th>\n",
       "      <td>1.0</td>\n",
       "    </tr>\n",
       "    <tr>\n",
       "      <th>4</th>\n",
       "      <td>1.0</td>\n",
       "    </tr>\n",
       "    <tr>\n",
       "      <th>...</th>\n",
       "      <td>...</td>\n",
       "    </tr>\n",
       "    <tr>\n",
       "      <th>315</th>\n",
       "      <td>1.0</td>\n",
       "    </tr>\n",
       "    <tr>\n",
       "      <th>316</th>\n",
       "      <td>0.0</td>\n",
       "    </tr>\n",
       "    <tr>\n",
       "      <th>317</th>\n",
       "      <td>1.0</td>\n",
       "    </tr>\n",
       "    <tr>\n",
       "      <th>318</th>\n",
       "      <td>1.0</td>\n",
       "    </tr>\n",
       "    <tr>\n",
       "      <th>319</th>\n",
       "      <td>0.0</td>\n",
       "    </tr>\n",
       "  </tbody>\n",
       "</table>\n",
       "<p>320 rows × 1 columns</p>\n",
       "</div>"
      ],
      "text/plain": [
       "     appet\n",
       "0      1.0\n",
       "1      1.0\n",
       "2      1.0\n",
       "3      1.0\n",
       "4      1.0\n",
       "..     ...\n",
       "315    1.0\n",
       "316    0.0\n",
       "317    1.0\n",
       "318    1.0\n",
       "319    0.0\n",
       "\n",
       "[320 rows x 1 columns]"
      ]
     },
     "execution_count": 109,
     "metadata": {},
     "output_type": "execute_result"
    }
   ],
   "source": [
    "X_train_ord_encoded"
   ]
  },
  {
   "cell_type": "code",
   "execution_count": 110,
   "id": "4972838b",
   "metadata": {
    "scrolled": true
   },
   "outputs": [
    {
     "data": {
      "text/html": [
       "<div>\n",
       "<style scoped>\n",
       "    .dataframe tbody tr th:only-of-type {\n",
       "        vertical-align: middle;\n",
       "    }\n",
       "\n",
       "    .dataframe tbody tr th {\n",
       "        vertical-align: top;\n",
       "    }\n",
       "\n",
       "    .dataframe thead th {\n",
       "        text-align: right;\n",
       "    }\n",
       "</style>\n",
       "<table border=\"1\" class=\"dataframe\">\n",
       "  <thead>\n",
       "    <tr style=\"text-align: right;\">\n",
       "      <th></th>\n",
       "      <th>appet</th>\n",
       "    </tr>\n",
       "  </thead>\n",
       "  <tbody>\n",
       "    <tr>\n",
       "      <th>0</th>\n",
       "      <td>1.0</td>\n",
       "    </tr>\n",
       "    <tr>\n",
       "      <th>1</th>\n",
       "      <td>1.0</td>\n",
       "    </tr>\n",
       "    <tr>\n",
       "      <th>2</th>\n",
       "      <td>0.0</td>\n",
       "    </tr>\n",
       "    <tr>\n",
       "      <th>3</th>\n",
       "      <td>1.0</td>\n",
       "    </tr>\n",
       "    <tr>\n",
       "      <th>4</th>\n",
       "      <td>1.0</td>\n",
       "    </tr>\n",
       "    <tr>\n",
       "      <th>...</th>\n",
       "      <td>...</td>\n",
       "    </tr>\n",
       "    <tr>\n",
       "      <th>75</th>\n",
       "      <td>1.0</td>\n",
       "    </tr>\n",
       "    <tr>\n",
       "      <th>76</th>\n",
       "      <td>1.0</td>\n",
       "    </tr>\n",
       "    <tr>\n",
       "      <th>77</th>\n",
       "      <td>0.0</td>\n",
       "    </tr>\n",
       "    <tr>\n",
       "      <th>78</th>\n",
       "      <td>0.0</td>\n",
       "    </tr>\n",
       "    <tr>\n",
       "      <th>79</th>\n",
       "      <td>1.0</td>\n",
       "    </tr>\n",
       "  </tbody>\n",
       "</table>\n",
       "<p>80 rows × 1 columns</p>\n",
       "</div>"
      ],
      "text/plain": [
       "    appet\n",
       "0     1.0\n",
       "1     1.0\n",
       "2     0.0\n",
       "3     1.0\n",
       "4     1.0\n",
       "..    ...\n",
       "75    1.0\n",
       "76    1.0\n",
       "77    0.0\n",
       "78    0.0\n",
       "79    1.0\n",
       "\n",
       "[80 rows x 1 columns]"
      ]
     },
     "execution_count": 110,
     "metadata": {},
     "output_type": "execute_result"
    }
   ],
   "source": [
    "X_test_ord_encoded"
   ]
  },
  {
   "cell_type": "markdown",
   "id": "5e60af62",
   "metadata": {},
   "source": [
    "# Now combine numerical columns , categorical encoded by onehotencoder and ordinal encoder"
   ]
  },
  {
   "cell_type": "code",
   "execution_count": 111,
   "id": "0db68374",
   "metadata": {},
   "outputs": [],
   "source": [
    "# Combine the encoded features into a single DataFrame\n",
    "\n",
    "# X_train\n",
    "X_train_encoded = pd.concat([X_train.drop(columns=categorical_cols+ordinal_cols).reset_index(),\n",
    "                             X_train_cat_encoded,X_train_ord_encoded],axis=1).drop('index',axis=1)\n",
    "\n",
    "# X_test\n",
    "X_test_encoded = pd.concat([X_test.drop(columns=categorical_cols+ordinal_cols).reset_index(),\n",
    "                            X_test_cat_encoded, X_test_ord_encoded], axis=1).drop('index',axis=1)"
   ]
  },
  {
   "cell_type": "code",
   "execution_count": 112,
   "id": "e0fd2940",
   "metadata": {
    "scrolled": true
   },
   "outputs": [
    {
     "data": {
      "text/html": [
       "<div>\n",
       "<style scoped>\n",
       "    .dataframe tbody tr th:only-of-type {\n",
       "        vertical-align: middle;\n",
       "    }\n",
       "\n",
       "    .dataframe tbody tr th {\n",
       "        vertical-align: top;\n",
       "    }\n",
       "\n",
       "    .dataframe thead th {\n",
       "        text-align: right;\n",
       "    }\n",
       "</style>\n",
       "<table border=\"1\" class=\"dataframe\">\n",
       "  <thead>\n",
       "    <tr style=\"text-align: right;\">\n",
       "      <th></th>\n",
       "      <th>bp</th>\n",
       "      <th>sg</th>\n",
       "      <th>al</th>\n",
       "      <th>su</th>\n",
       "      <th>bgr</th>\n",
       "      <th>bu</th>\n",
       "      <th>sc</th>\n",
       "      <th>sod</th>\n",
       "      <th>pot</th>\n",
       "      <th>hemo</th>\n",
       "      <th>...</th>\n",
       "      <th>rbc_normal</th>\n",
       "      <th>pc_normal</th>\n",
       "      <th>pcc_present</th>\n",
       "      <th>ba_present</th>\n",
       "      <th>htn_yes</th>\n",
       "      <th>dm_yes</th>\n",
       "      <th>cad_yes</th>\n",
       "      <th>pe_yes</th>\n",
       "      <th>ane_yes</th>\n",
       "      <th>appet</th>\n",
       "    </tr>\n",
       "  </thead>\n",
       "  <tbody>\n",
       "    <tr>\n",
       "      <th>0</th>\n",
       "      <td>80.0</td>\n",
       "      <td>1.020000</td>\n",
       "      <td>0.0</td>\n",
       "      <td>0.0</td>\n",
       "      <td>100.0</td>\n",
       "      <td>26.000000</td>\n",
       "      <td>0.6</td>\n",
       "      <td>137.000000</td>\n",
       "      <td>4.400000</td>\n",
       "      <td>15.800000</td>\n",
       "      <td>...</td>\n",
       "      <td>1.0</td>\n",
       "      <td>1.0</td>\n",
       "      <td>0.0</td>\n",
       "      <td>0.0</td>\n",
       "      <td>0.0</td>\n",
       "      <td>0.0</td>\n",
       "      <td>0.0</td>\n",
       "      <td>0.0</td>\n",
       "      <td>0.0</td>\n",
       "      <td>1.0</td>\n",
       "    </tr>\n",
       "    <tr>\n",
       "      <th>1</th>\n",
       "      <td>60.0</td>\n",
       "      <td>1.025000</td>\n",
       "      <td>0.0</td>\n",
       "      <td>0.0</td>\n",
       "      <td>123.0</td>\n",
       "      <td>46.000000</td>\n",
       "      <td>1.0</td>\n",
       "      <td>135.000000</td>\n",
       "      <td>5.000000</td>\n",
       "      <td>15.700000</td>\n",
       "      <td>...</td>\n",
       "      <td>1.0</td>\n",
       "      <td>1.0</td>\n",
       "      <td>0.0</td>\n",
       "      <td>0.0</td>\n",
       "      <td>0.0</td>\n",
       "      <td>0.0</td>\n",
       "      <td>0.0</td>\n",
       "      <td>0.0</td>\n",
       "      <td>0.0</td>\n",
       "      <td>1.0</td>\n",
       "    </tr>\n",
       "    <tr>\n",
       "      <th>2</th>\n",
       "      <td>70.0</td>\n",
       "      <td>1.010000</td>\n",
       "      <td>0.0</td>\n",
       "      <td>0.0</td>\n",
       "      <td>93.0</td>\n",
       "      <td>66.000000</td>\n",
       "      <td>1.6</td>\n",
       "      <td>137.000000</td>\n",
       "      <td>4.500000</td>\n",
       "      <td>11.600000</td>\n",
       "      <td>...</td>\n",
       "      <td>1.0</td>\n",
       "      <td>1.0</td>\n",
       "      <td>0.0</td>\n",
       "      <td>0.0</td>\n",
       "      <td>0.0</td>\n",
       "      <td>1.0</td>\n",
       "      <td>0.0</td>\n",
       "      <td>0.0</td>\n",
       "      <td>0.0</td>\n",
       "      <td>1.0</td>\n",
       "    </tr>\n",
       "    <tr>\n",
       "      <th>3</th>\n",
       "      <td>80.0</td>\n",
       "      <td>1.025000</td>\n",
       "      <td>0.0</td>\n",
       "      <td>0.0</td>\n",
       "      <td>140.0</td>\n",
       "      <td>10.000000</td>\n",
       "      <td>1.2</td>\n",
       "      <td>135.000000</td>\n",
       "      <td>5.000000</td>\n",
       "      <td>15.000000</td>\n",
       "      <td>...</td>\n",
       "      <td>1.0</td>\n",
       "      <td>1.0</td>\n",
       "      <td>0.0</td>\n",
       "      <td>0.0</td>\n",
       "      <td>0.0</td>\n",
       "      <td>0.0</td>\n",
       "      <td>0.0</td>\n",
       "      <td>0.0</td>\n",
       "      <td>0.0</td>\n",
       "      <td>1.0</td>\n",
       "    </tr>\n",
       "    <tr>\n",
       "      <th>4</th>\n",
       "      <td>100.0</td>\n",
       "      <td>1.010000</td>\n",
       "      <td>0.0</td>\n",
       "      <td>0.0</td>\n",
       "      <td>122.0</td>\n",
       "      <td>57.425722</td>\n",
       "      <td>16.9</td>\n",
       "      <td>138.000000</td>\n",
       "      <td>5.200000</td>\n",
       "      <td>10.800000</td>\n",
       "      <td>...</td>\n",
       "      <td>1.0</td>\n",
       "      <td>1.0</td>\n",
       "      <td>0.0</td>\n",
       "      <td>0.0</td>\n",
       "      <td>0.0</td>\n",
       "      <td>1.0</td>\n",
       "      <td>0.0</td>\n",
       "      <td>0.0</td>\n",
       "      <td>0.0</td>\n",
       "      <td>1.0</td>\n",
       "    </tr>\n",
       "    <tr>\n",
       "      <th>...</th>\n",
       "      <td>...</td>\n",
       "      <td>...</td>\n",
       "      <td>...</td>\n",
       "      <td>...</td>\n",
       "      <td>...</td>\n",
       "      <td>...</td>\n",
       "      <td>...</td>\n",
       "      <td>...</td>\n",
       "      <td>...</td>\n",
       "      <td>...</td>\n",
       "      <td>...</td>\n",
       "      <td>...</td>\n",
       "      <td>...</td>\n",
       "      <td>...</td>\n",
       "      <td>...</td>\n",
       "      <td>...</td>\n",
       "      <td>...</td>\n",
       "      <td>...</td>\n",
       "      <td>...</td>\n",
       "      <td>...</td>\n",
       "      <td>...</td>\n",
       "    </tr>\n",
       "    <tr>\n",
       "      <th>315</th>\n",
       "      <td>80.0</td>\n",
       "      <td>1.025000</td>\n",
       "      <td>0.0</td>\n",
       "      <td>0.0</td>\n",
       "      <td>119.0</td>\n",
       "      <td>17.000000</td>\n",
       "      <td>1.2</td>\n",
       "      <td>135.000000</td>\n",
       "      <td>4.700000</td>\n",
       "      <td>15.400000</td>\n",
       "      <td>...</td>\n",
       "      <td>1.0</td>\n",
       "      <td>1.0</td>\n",
       "      <td>0.0</td>\n",
       "      <td>0.0</td>\n",
       "      <td>0.0</td>\n",
       "      <td>0.0</td>\n",
       "      <td>0.0</td>\n",
       "      <td>0.0</td>\n",
       "      <td>0.0</td>\n",
       "      <td>1.0</td>\n",
       "    </tr>\n",
       "    <tr>\n",
       "      <th>316</th>\n",
       "      <td>60.0</td>\n",
       "      <td>1.010000</td>\n",
       "      <td>4.0</td>\n",
       "      <td>1.0</td>\n",
       "      <td>239.0</td>\n",
       "      <td>58.000000</td>\n",
       "      <td>4.3</td>\n",
       "      <td>137.000000</td>\n",
       "      <td>5.400000</td>\n",
       "      <td>9.500000</td>\n",
       "      <td>...</td>\n",
       "      <td>0.0</td>\n",
       "      <td>0.0</td>\n",
       "      <td>0.0</td>\n",
       "      <td>1.0</td>\n",
       "      <td>1.0</td>\n",
       "      <td>1.0</td>\n",
       "      <td>0.0</td>\n",
       "      <td>1.0</td>\n",
       "      <td>0.0</td>\n",
       "      <td>0.0</td>\n",
       "    </tr>\n",
       "    <tr>\n",
       "      <th>317</th>\n",
       "      <td>60.0</td>\n",
       "      <td>1.025000</td>\n",
       "      <td>0.0</td>\n",
       "      <td>0.0</td>\n",
       "      <td>117.0</td>\n",
       "      <td>45.000000</td>\n",
       "      <td>0.7</td>\n",
       "      <td>141.000000</td>\n",
       "      <td>4.400000</td>\n",
       "      <td>13.000000</td>\n",
       "      <td>...</td>\n",
       "      <td>1.0</td>\n",
       "      <td>1.0</td>\n",
       "      <td>0.0</td>\n",
       "      <td>0.0</td>\n",
       "      <td>0.0</td>\n",
       "      <td>0.0</td>\n",
       "      <td>0.0</td>\n",
       "      <td>0.0</td>\n",
       "      <td>0.0</td>\n",
       "      <td>1.0</td>\n",
       "    </tr>\n",
       "    <tr>\n",
       "      <th>318</th>\n",
       "      <td>60.0</td>\n",
       "      <td>1.020000</td>\n",
       "      <td>0.0</td>\n",
       "      <td>0.0</td>\n",
       "      <td>102.0</td>\n",
       "      <td>27.000000</td>\n",
       "      <td>0.7</td>\n",
       "      <td>142.000000</td>\n",
       "      <td>4.900000</td>\n",
       "      <td>13.200000</td>\n",
       "      <td>...</td>\n",
       "      <td>1.0</td>\n",
       "      <td>1.0</td>\n",
       "      <td>0.0</td>\n",
       "      <td>0.0</td>\n",
       "      <td>0.0</td>\n",
       "      <td>0.0</td>\n",
       "      <td>0.0</td>\n",
       "      <td>0.0</td>\n",
       "      <td>0.0</td>\n",
       "      <td>1.0</td>\n",
       "    </tr>\n",
       "    <tr>\n",
       "      <th>319</th>\n",
       "      <td>60.0</td>\n",
       "      <td>1.017408</td>\n",
       "      <td>0.0</td>\n",
       "      <td>0.0</td>\n",
       "      <td>171.0</td>\n",
       "      <td>26.000000</td>\n",
       "      <td>48.1</td>\n",
       "      <td>137.528754</td>\n",
       "      <td>4.627244</td>\n",
       "      <td>12.526437</td>\n",
       "      <td>...</td>\n",
       "      <td>1.0</td>\n",
       "      <td>1.0</td>\n",
       "      <td>0.0</td>\n",
       "      <td>0.0</td>\n",
       "      <td>1.0</td>\n",
       "      <td>0.0</td>\n",
       "      <td>0.0</td>\n",
       "      <td>0.0</td>\n",
       "      <td>0.0</td>\n",
       "      <td>0.0</td>\n",
       "    </tr>\n",
       "  </tbody>\n",
       "</table>\n",
       "<p>320 rows × 23 columns</p>\n",
       "</div>"
      ],
      "text/plain": [
       "        bp        sg   al   su    bgr         bu    sc         sod       pot  \\\n",
       "0     80.0  1.020000  0.0  0.0  100.0  26.000000   0.6  137.000000  4.400000   \n",
       "1     60.0  1.025000  0.0  0.0  123.0  46.000000   1.0  135.000000  5.000000   \n",
       "2     70.0  1.010000  0.0  0.0   93.0  66.000000   1.6  137.000000  4.500000   \n",
       "3     80.0  1.025000  0.0  0.0  140.0  10.000000   1.2  135.000000  5.000000   \n",
       "4    100.0  1.010000  0.0  0.0  122.0  57.425722  16.9  138.000000  5.200000   \n",
       "..     ...       ...  ...  ...    ...        ...   ...         ...       ...   \n",
       "315   80.0  1.025000  0.0  0.0  119.0  17.000000   1.2  135.000000  4.700000   \n",
       "316   60.0  1.010000  4.0  1.0  239.0  58.000000   4.3  137.000000  5.400000   \n",
       "317   60.0  1.025000  0.0  0.0  117.0  45.000000   0.7  141.000000  4.400000   \n",
       "318   60.0  1.020000  0.0  0.0  102.0  27.000000   0.7  142.000000  4.900000   \n",
       "319   60.0  1.017408  0.0  0.0  171.0  26.000000  48.1  137.528754  4.627244   \n",
       "\n",
       "          hemo  ...  rbc_normal  pc_normal  pcc_present  ba_present  htn_yes  \\\n",
       "0    15.800000  ...         1.0        1.0          0.0         0.0      0.0   \n",
       "1    15.700000  ...         1.0        1.0          0.0         0.0      0.0   \n",
       "2    11.600000  ...         1.0        1.0          0.0         0.0      0.0   \n",
       "3    15.000000  ...         1.0        1.0          0.0         0.0      0.0   \n",
       "4    10.800000  ...         1.0        1.0          0.0         0.0      0.0   \n",
       "..         ...  ...         ...        ...          ...         ...      ...   \n",
       "315  15.400000  ...         1.0        1.0          0.0         0.0      0.0   \n",
       "316   9.500000  ...         0.0        0.0          0.0         1.0      1.0   \n",
       "317  13.000000  ...         1.0        1.0          0.0         0.0      0.0   \n",
       "318  13.200000  ...         1.0        1.0          0.0         0.0      0.0   \n",
       "319  12.526437  ...         1.0        1.0          0.0         0.0      1.0   \n",
       "\n",
       "     dm_yes  cad_yes  pe_yes  ane_yes  appet  \n",
       "0       0.0      0.0     0.0      0.0    1.0  \n",
       "1       0.0      0.0     0.0      0.0    1.0  \n",
       "2       1.0      0.0     0.0      0.0    1.0  \n",
       "3       0.0      0.0     0.0      0.0    1.0  \n",
       "4       1.0      0.0     0.0      0.0    1.0  \n",
       "..      ...      ...     ...      ...    ...  \n",
       "315     0.0      0.0     0.0      0.0    1.0  \n",
       "316     1.0      0.0     1.0      0.0    0.0  \n",
       "317     0.0      0.0     0.0      0.0    1.0  \n",
       "318     0.0      0.0     0.0      0.0    1.0  \n",
       "319     0.0      0.0     0.0      0.0    0.0  \n",
       "\n",
       "[320 rows x 23 columns]"
      ]
     },
     "execution_count": 112,
     "metadata": {},
     "output_type": "execute_result"
    }
   ],
   "source": [
    "X_train_encoded"
   ]
  },
  {
   "cell_type": "code",
   "execution_count": 113,
   "id": "3dc8c81c",
   "metadata": {
    "scrolled": true
   },
   "outputs": [
    {
     "data": {
      "text/html": [
       "<div>\n",
       "<style scoped>\n",
       "    .dataframe tbody tr th:only-of-type {\n",
       "        vertical-align: middle;\n",
       "    }\n",
       "\n",
       "    .dataframe tbody tr th {\n",
       "        vertical-align: top;\n",
       "    }\n",
       "\n",
       "    .dataframe thead th {\n",
       "        text-align: right;\n",
       "    }\n",
       "</style>\n",
       "<table border=\"1\" class=\"dataframe\">\n",
       "  <thead>\n",
       "    <tr style=\"text-align: right;\">\n",
       "      <th></th>\n",
       "      <th>bp</th>\n",
       "      <th>sg</th>\n",
       "      <th>al</th>\n",
       "      <th>su</th>\n",
       "      <th>bgr</th>\n",
       "      <th>bu</th>\n",
       "      <th>sc</th>\n",
       "      <th>sod</th>\n",
       "      <th>pot</th>\n",
       "      <th>hemo</th>\n",
       "      <th>...</th>\n",
       "      <th>rbc_normal</th>\n",
       "      <th>pc_normal</th>\n",
       "      <th>pcc_present</th>\n",
       "      <th>ba_present</th>\n",
       "      <th>htn_yes</th>\n",
       "      <th>dm_yes</th>\n",
       "      <th>cad_yes</th>\n",
       "      <th>pe_yes</th>\n",
       "      <th>ane_yes</th>\n",
       "      <th>appet</th>\n",
       "    </tr>\n",
       "  </thead>\n",
       "  <tbody>\n",
       "    <tr>\n",
       "      <th>0</th>\n",
       "      <td>70.0</td>\n",
       "      <td>1.020000</td>\n",
       "      <td>0.0</td>\n",
       "      <td>0.0</td>\n",
       "      <td>102.0</td>\n",
       "      <td>48.0</td>\n",
       "      <td>1.2</td>\n",
       "      <td>139.000000</td>\n",
       "      <td>4.300000</td>\n",
       "      <td>15.000000</td>\n",
       "      <td>...</td>\n",
       "      <td>1.0</td>\n",
       "      <td>1.0</td>\n",
       "      <td>0.0</td>\n",
       "      <td>0.0</td>\n",
       "      <td>0.0</td>\n",
       "      <td>0.0</td>\n",
       "      <td>0.0</td>\n",
       "      <td>0.0</td>\n",
       "      <td>0.0</td>\n",
       "      <td>1.0</td>\n",
       "    </tr>\n",
       "    <tr>\n",
       "      <th>1</th>\n",
       "      <td>80.0</td>\n",
       "      <td>1.025000</td>\n",
       "      <td>0.0</td>\n",
       "      <td>0.0</td>\n",
       "      <td>75.0</td>\n",
       "      <td>22.0</td>\n",
       "      <td>0.8</td>\n",
       "      <td>137.000000</td>\n",
       "      <td>5.000000</td>\n",
       "      <td>16.800000</td>\n",
       "      <td>...</td>\n",
       "      <td>1.0</td>\n",
       "      <td>1.0</td>\n",
       "      <td>0.0</td>\n",
       "      <td>0.0</td>\n",
       "      <td>0.0</td>\n",
       "      <td>0.0</td>\n",
       "      <td>0.0</td>\n",
       "      <td>0.0</td>\n",
       "      <td>0.0</td>\n",
       "      <td>1.0</td>\n",
       "    </tr>\n",
       "    <tr>\n",
       "      <th>2</th>\n",
       "      <td>90.0</td>\n",
       "      <td>1.010000</td>\n",
       "      <td>2.0</td>\n",
       "      <td>0.0</td>\n",
       "      <td>128.0</td>\n",
       "      <td>208.0</td>\n",
       "      <td>9.2</td>\n",
       "      <td>134.000000</td>\n",
       "      <td>4.800000</td>\n",
       "      <td>8.200000</td>\n",
       "      <td>...</td>\n",
       "      <td>1.0</td>\n",
       "      <td>0.0</td>\n",
       "      <td>1.0</td>\n",
       "      <td>1.0</td>\n",
       "      <td>0.0</td>\n",
       "      <td>0.0</td>\n",
       "      <td>0.0</td>\n",
       "      <td>1.0</td>\n",
       "      <td>1.0</td>\n",
       "      <td>0.0</td>\n",
       "    </tr>\n",
       "    <tr>\n",
       "      <th>3</th>\n",
       "      <td>110.0</td>\n",
       "      <td>1.015000</td>\n",
       "      <td>0.0</td>\n",
       "      <td>0.0</td>\n",
       "      <td>130.0</td>\n",
       "      <td>16.0</td>\n",
       "      <td>0.9</td>\n",
       "      <td>137.528754</td>\n",
       "      <td>4.627244</td>\n",
       "      <td>12.526437</td>\n",
       "      <td>...</td>\n",
       "      <td>1.0</td>\n",
       "      <td>1.0</td>\n",
       "      <td>0.0</td>\n",
       "      <td>0.0</td>\n",
       "      <td>0.0</td>\n",
       "      <td>0.0</td>\n",
       "      <td>0.0</td>\n",
       "      <td>0.0</td>\n",
       "      <td>0.0</td>\n",
       "      <td>1.0</td>\n",
       "    </tr>\n",
       "    <tr>\n",
       "      <th>4</th>\n",
       "      <td>80.0</td>\n",
       "      <td>1.015000</td>\n",
       "      <td>0.0</td>\n",
       "      <td>4.0</td>\n",
       "      <td>360.0</td>\n",
       "      <td>19.0</td>\n",
       "      <td>0.7</td>\n",
       "      <td>137.000000</td>\n",
       "      <td>4.400000</td>\n",
       "      <td>15.200000</td>\n",
       "      <td>...</td>\n",
       "      <td>1.0</td>\n",
       "      <td>1.0</td>\n",
       "      <td>0.0</td>\n",
       "      <td>0.0</td>\n",
       "      <td>1.0</td>\n",
       "      <td>1.0</td>\n",
       "      <td>0.0</td>\n",
       "      <td>0.0</td>\n",
       "      <td>0.0</td>\n",
       "      <td>1.0</td>\n",
       "    </tr>\n",
       "    <tr>\n",
       "      <th>...</th>\n",
       "      <td>...</td>\n",
       "      <td>...</td>\n",
       "      <td>...</td>\n",
       "      <td>...</td>\n",
       "      <td>...</td>\n",
       "      <td>...</td>\n",
       "      <td>...</td>\n",
       "      <td>...</td>\n",
       "      <td>...</td>\n",
       "      <td>...</td>\n",
       "      <td>...</td>\n",
       "      <td>...</td>\n",
       "      <td>...</td>\n",
       "      <td>...</td>\n",
       "      <td>...</td>\n",
       "      <td>...</td>\n",
       "      <td>...</td>\n",
       "      <td>...</td>\n",
       "      <td>...</td>\n",
       "      <td>...</td>\n",
       "      <td>...</td>\n",
       "    </tr>\n",
       "    <tr>\n",
       "      <th>75</th>\n",
       "      <td>70.0</td>\n",
       "      <td>1.020000</td>\n",
       "      <td>0.0</td>\n",
       "      <td>0.0</td>\n",
       "      <td>94.0</td>\n",
       "      <td>19.0</td>\n",
       "      <td>0.7</td>\n",
       "      <td>135.000000</td>\n",
       "      <td>3.900000</td>\n",
       "      <td>16.000000</td>\n",
       "      <td>...</td>\n",
       "      <td>1.0</td>\n",
       "      <td>1.0</td>\n",
       "      <td>0.0</td>\n",
       "      <td>0.0</td>\n",
       "      <td>0.0</td>\n",
       "      <td>0.0</td>\n",
       "      <td>0.0</td>\n",
       "      <td>0.0</td>\n",
       "      <td>0.0</td>\n",
       "      <td>1.0</td>\n",
       "    </tr>\n",
       "    <tr>\n",
       "      <th>76</th>\n",
       "      <td>90.0</td>\n",
       "      <td>1.015000</td>\n",
       "      <td>4.0</td>\n",
       "      <td>3.0</td>\n",
       "      <td>224.0</td>\n",
       "      <td>166.0</td>\n",
       "      <td>5.6</td>\n",
       "      <td>133.000000</td>\n",
       "      <td>47.000000</td>\n",
       "      <td>8.100000</td>\n",
       "      <td>...</td>\n",
       "      <td>1.0</td>\n",
       "      <td>0.0</td>\n",
       "      <td>0.0</td>\n",
       "      <td>0.0</td>\n",
       "      <td>1.0</td>\n",
       "      <td>1.0</td>\n",
       "      <td>0.0</td>\n",
       "      <td>0.0</td>\n",
       "      <td>1.0</td>\n",
       "      <td>1.0</td>\n",
       "    </tr>\n",
       "    <tr>\n",
       "      <th>77</th>\n",
       "      <td>90.0</td>\n",
       "      <td>1.017408</td>\n",
       "      <td>0.0</td>\n",
       "      <td>0.0</td>\n",
       "      <td>143.0</td>\n",
       "      <td>88.0</td>\n",
       "      <td>2.0</td>\n",
       "      <td>137.528754</td>\n",
       "      <td>4.627244</td>\n",
       "      <td>12.526437</td>\n",
       "      <td>...</td>\n",
       "      <td>1.0</td>\n",
       "      <td>1.0</td>\n",
       "      <td>0.0</td>\n",
       "      <td>0.0</td>\n",
       "      <td>1.0</td>\n",
       "      <td>1.0</td>\n",
       "      <td>0.0</td>\n",
       "      <td>1.0</td>\n",
       "      <td>0.0</td>\n",
       "      <td>0.0</td>\n",
       "    </tr>\n",
       "    <tr>\n",
       "      <th>78</th>\n",
       "      <td>90.0</td>\n",
       "      <td>1.020000</td>\n",
       "      <td>2.0</td>\n",
       "      <td>0.0</td>\n",
       "      <td>70.0</td>\n",
       "      <td>107.0</td>\n",
       "      <td>7.2</td>\n",
       "      <td>114.000000</td>\n",
       "      <td>3.700000</td>\n",
       "      <td>9.500000</td>\n",
       "      <td>...</td>\n",
       "      <td>0.0</td>\n",
       "      <td>0.0</td>\n",
       "      <td>1.0</td>\n",
       "      <td>0.0</td>\n",
       "      <td>1.0</td>\n",
       "      <td>1.0</td>\n",
       "      <td>0.0</td>\n",
       "      <td>0.0</td>\n",
       "      <td>1.0</td>\n",
       "      <td>0.0</td>\n",
       "    </tr>\n",
       "    <tr>\n",
       "      <th>79</th>\n",
       "      <td>60.0</td>\n",
       "      <td>1.020000</td>\n",
       "      <td>0.0</td>\n",
       "      <td>0.0</td>\n",
       "      <td>132.0</td>\n",
       "      <td>18.0</td>\n",
       "      <td>1.1</td>\n",
       "      <td>150.000000</td>\n",
       "      <td>4.700000</td>\n",
       "      <td>15.400000</td>\n",
       "      <td>...</td>\n",
       "      <td>1.0</td>\n",
       "      <td>1.0</td>\n",
       "      <td>0.0</td>\n",
       "      <td>0.0</td>\n",
       "      <td>0.0</td>\n",
       "      <td>0.0</td>\n",
       "      <td>0.0</td>\n",
       "      <td>0.0</td>\n",
       "      <td>0.0</td>\n",
       "      <td>1.0</td>\n",
       "    </tr>\n",
       "  </tbody>\n",
       "</table>\n",
       "<p>80 rows × 23 columns</p>\n",
       "</div>"
      ],
      "text/plain": [
       "       bp        sg   al   su    bgr     bu   sc         sod        pot  \\\n",
       "0    70.0  1.020000  0.0  0.0  102.0   48.0  1.2  139.000000   4.300000   \n",
       "1    80.0  1.025000  0.0  0.0   75.0   22.0  0.8  137.000000   5.000000   \n",
       "2    90.0  1.010000  2.0  0.0  128.0  208.0  9.2  134.000000   4.800000   \n",
       "3   110.0  1.015000  0.0  0.0  130.0   16.0  0.9  137.528754   4.627244   \n",
       "4    80.0  1.015000  0.0  4.0  360.0   19.0  0.7  137.000000   4.400000   \n",
       "..    ...       ...  ...  ...    ...    ...  ...         ...        ...   \n",
       "75   70.0  1.020000  0.0  0.0   94.0   19.0  0.7  135.000000   3.900000   \n",
       "76   90.0  1.015000  4.0  3.0  224.0  166.0  5.6  133.000000  47.000000   \n",
       "77   90.0  1.017408  0.0  0.0  143.0   88.0  2.0  137.528754   4.627244   \n",
       "78   90.0  1.020000  2.0  0.0   70.0  107.0  7.2  114.000000   3.700000   \n",
       "79   60.0  1.020000  0.0  0.0  132.0   18.0  1.1  150.000000   4.700000   \n",
       "\n",
       "         hemo  ...  rbc_normal  pc_normal  pcc_present  ba_present  htn_yes  \\\n",
       "0   15.000000  ...         1.0        1.0          0.0         0.0      0.0   \n",
       "1   16.800000  ...         1.0        1.0          0.0         0.0      0.0   \n",
       "2    8.200000  ...         1.0        0.0          1.0         1.0      0.0   \n",
       "3   12.526437  ...         1.0        1.0          0.0         0.0      0.0   \n",
       "4   15.200000  ...         1.0        1.0          0.0         0.0      1.0   \n",
       "..        ...  ...         ...        ...          ...         ...      ...   \n",
       "75  16.000000  ...         1.0        1.0          0.0         0.0      0.0   \n",
       "76   8.100000  ...         1.0        0.0          0.0         0.0      1.0   \n",
       "77  12.526437  ...         1.0        1.0          0.0         0.0      1.0   \n",
       "78   9.500000  ...         0.0        0.0          1.0         0.0      1.0   \n",
       "79  15.400000  ...         1.0        1.0          0.0         0.0      0.0   \n",
       "\n",
       "    dm_yes  cad_yes  pe_yes  ane_yes  appet  \n",
       "0      0.0      0.0     0.0      0.0    1.0  \n",
       "1      0.0      0.0     0.0      0.0    1.0  \n",
       "2      0.0      0.0     1.0      1.0    0.0  \n",
       "3      0.0      0.0     0.0      0.0    1.0  \n",
       "4      1.0      0.0     0.0      0.0    1.0  \n",
       "..     ...      ...     ...      ...    ...  \n",
       "75     0.0      0.0     0.0      0.0    1.0  \n",
       "76     1.0      0.0     0.0      1.0    1.0  \n",
       "77     1.0      0.0     1.0      0.0    0.0  \n",
       "78     1.0      0.0     0.0      1.0    0.0  \n",
       "79     0.0      0.0     0.0      0.0    1.0  \n",
       "\n",
       "[80 rows x 23 columns]"
      ]
     },
     "execution_count": 113,
     "metadata": {},
     "output_type": "execute_result"
    }
   ],
   "source": [
    "X_test_encoded"
   ]
  },
  {
   "cell_type": "markdown",
   "id": "4c8e7f00",
   "metadata": {},
   "source": [
    "# 3) encode now for target column by LabelEncoder()"
   ]
  },
  {
   "cell_type": "code",
   "execution_count": 114,
   "id": "42c3f9c6",
   "metadata": {},
   "outputs": [
    {
     "data": {
      "text/plain": [
       "397    notckd\n",
       "277    notckd\n",
       "94        ckd\n",
       "250    notckd\n",
       "134       ckd\n",
       "        ...  \n",
       "253    notckd\n",
       "189       ckd\n",
       "393    notckd\n",
       "310    notckd\n",
       "148       ckd\n",
       "Name: classification, Length: 320, dtype: object"
      ]
     },
     "execution_count": 114,
     "metadata": {},
     "output_type": "execute_result"
    }
   ],
   "source": [
    "y_train"
   ]
  },
  {
   "cell_type": "code",
   "execution_count": 115,
   "id": "a6c94cd3",
   "metadata": {},
   "outputs": [],
   "source": [
    "from sklearn.preprocessing import LabelEncoder\n",
    "label_encoder = LabelEncoder()\n",
    "label_encoder.fit(y_train)\n",
    "y_train_encoded = label_encoder.transform(y_train)\n",
    "y_test_encoded = label_encoder.transform(y_test)"
   ]
  },
  {
   "cell_type": "code",
   "execution_count": 116,
   "id": "aa64c04f",
   "metadata": {},
   "outputs": [
    {
     "data": {
      "text/plain": [
       "array(['ckd', 'notckd'], dtype=object)"
      ]
     },
     "execution_count": 116,
     "metadata": {},
     "output_type": "execute_result"
    }
   ],
   "source": [
    "# if we want to check targety column categories \n",
    "label_encoder.classes_"
   ]
  },
  {
   "cell_type": "markdown",
   "id": "9ee4d61f",
   "metadata": {},
   "source": [
    "## we have to scale our data "
   ]
  },
  {
   "cell_type": "code",
   "execution_count": 117,
   "id": "a5ab6aee",
   "metadata": {
    "scrolled": true
   },
   "outputs": [
    {
     "data": {
      "text/html": [
       "<div>\n",
       "<style scoped>\n",
       "    .dataframe tbody tr th:only-of-type {\n",
       "        vertical-align: middle;\n",
       "    }\n",
       "\n",
       "    .dataframe tbody tr th {\n",
       "        vertical-align: top;\n",
       "    }\n",
       "\n",
       "    .dataframe thead th {\n",
       "        text-align: right;\n",
       "    }\n",
       "</style>\n",
       "<table border=\"1\" class=\"dataframe\">\n",
       "  <thead>\n",
       "    <tr style=\"text-align: right;\">\n",
       "      <th></th>\n",
       "      <th>bp</th>\n",
       "      <th>sg</th>\n",
       "      <th>al</th>\n",
       "      <th>su</th>\n",
       "      <th>bgr</th>\n",
       "      <th>bu</th>\n",
       "      <th>sc</th>\n",
       "      <th>sod</th>\n",
       "      <th>pot</th>\n",
       "      <th>hemo</th>\n",
       "      <th>...</th>\n",
       "      <th>rbc_normal</th>\n",
       "      <th>pc_normal</th>\n",
       "      <th>pcc_present</th>\n",
       "      <th>ba_present</th>\n",
       "      <th>htn_yes</th>\n",
       "      <th>dm_yes</th>\n",
       "      <th>cad_yes</th>\n",
       "      <th>pe_yes</th>\n",
       "      <th>ane_yes</th>\n",
       "      <th>appet</th>\n",
       "    </tr>\n",
       "  </thead>\n",
       "  <tbody>\n",
       "    <tr>\n",
       "      <th>count</th>\n",
       "      <td>320.000000</td>\n",
       "      <td>320.000000</td>\n",
       "      <td>320.000000</td>\n",
       "      <td>320.000000</td>\n",
       "      <td>320.00000</td>\n",
       "      <td>320.000000</td>\n",
       "      <td>320.000000</td>\n",
       "      <td>320.000000</td>\n",
       "      <td>320.000000</td>\n",
       "      <td>320.000000</td>\n",
       "      <td>...</td>\n",
       "      <td>320.000000</td>\n",
       "      <td>320.000000</td>\n",
       "      <td>320.000000</td>\n",
       "      <td>320.000000</td>\n",
       "      <td>320.000000</td>\n",
       "      <td>320.000000</td>\n",
       "      <td>320.000000</td>\n",
       "      <td>320.000000</td>\n",
       "      <td>320.000000</td>\n",
       "      <td>320.000000</td>\n",
       "    </tr>\n",
       "    <tr>\n",
       "      <th>mean</th>\n",
       "      <td>76.031250</td>\n",
       "      <td>1.017341</td>\n",
       "      <td>0.943750</td>\n",
       "      <td>0.375000</td>\n",
       "      <td>145.34375</td>\n",
       "      <td>55.843322</td>\n",
       "      <td>3.032373</td>\n",
       "      <td>137.225130</td>\n",
       "      <td>4.404255</td>\n",
       "      <td>12.498405</td>\n",
       "      <td>...</td>\n",
       "      <td>0.881250</td>\n",
       "      <td>0.796875</td>\n",
       "      <td>0.118750</td>\n",
       "      <td>0.065625</td>\n",
       "      <td>0.375000</td>\n",
       "      <td>0.346875</td>\n",
       "      <td>0.093750</td>\n",
       "      <td>0.196875</td>\n",
       "      <td>0.143750</td>\n",
       "      <td>0.796875</td>\n",
       "    </tr>\n",
       "    <tr>\n",
       "      <th>std</th>\n",
       "      <td>13.537326</td>\n",
       "      <td>0.005359</td>\n",
       "      <td>1.333188</td>\n",
       "      <td>1.009361</td>\n",
       "      <td>75.22535</td>\n",
       "      <td>45.321718</td>\n",
       "      <td>5.782215</td>\n",
       "      <td>9.654677</td>\n",
       "      <td>0.658088</td>\n",
       "      <td>2.648700</td>\n",
       "      <td>...</td>\n",
       "      <td>0.324001</td>\n",
       "      <td>0.402955</td>\n",
       "      <td>0.324001</td>\n",
       "      <td>0.248013</td>\n",
       "      <td>0.484881</td>\n",
       "      <td>0.476721</td>\n",
       "      <td>0.291937</td>\n",
       "      <td>0.398260</td>\n",
       "      <td>0.351386</td>\n",
       "      <td>0.402955</td>\n",
       "    </tr>\n",
       "    <tr>\n",
       "      <th>min</th>\n",
       "      <td>50.000000</td>\n",
       "      <td>1.005000</td>\n",
       "      <td>0.000000</td>\n",
       "      <td>0.000000</td>\n",
       "      <td>22.00000</td>\n",
       "      <td>1.500000</td>\n",
       "      <td>0.400000</td>\n",
       "      <td>4.500000</td>\n",
       "      <td>2.500000</td>\n",
       "      <td>3.100000</td>\n",
       "      <td>...</td>\n",
       "      <td>0.000000</td>\n",
       "      <td>0.000000</td>\n",
       "      <td>0.000000</td>\n",
       "      <td>0.000000</td>\n",
       "      <td>0.000000</td>\n",
       "      <td>0.000000</td>\n",
       "      <td>0.000000</td>\n",
       "      <td>0.000000</td>\n",
       "      <td>0.000000</td>\n",
       "      <td>0.000000</td>\n",
       "    </tr>\n",
       "    <tr>\n",
       "      <th>25%</th>\n",
       "      <td>70.000000</td>\n",
       "      <td>1.015000</td>\n",
       "      <td>0.000000</td>\n",
       "      <td>0.000000</td>\n",
       "      <td>102.00000</td>\n",
       "      <td>27.750000</td>\n",
       "      <td>1.000000</td>\n",
       "      <td>135.000000</td>\n",
       "      <td>3.975000</td>\n",
       "      <td>10.800000</td>\n",
       "      <td>...</td>\n",
       "      <td>1.000000</td>\n",
       "      <td>1.000000</td>\n",
       "      <td>0.000000</td>\n",
       "      <td>0.000000</td>\n",
       "      <td>0.000000</td>\n",
       "      <td>0.000000</td>\n",
       "      <td>0.000000</td>\n",
       "      <td>0.000000</td>\n",
       "      <td>0.000000</td>\n",
       "      <td>1.000000</td>\n",
       "    </tr>\n",
       "    <tr>\n",
       "      <th>50%</th>\n",
       "      <td>80.000000</td>\n",
       "      <td>1.017408</td>\n",
       "      <td>0.000000</td>\n",
       "      <td>0.000000</td>\n",
       "      <td>121.00000</td>\n",
       "      <td>44.000000</td>\n",
       "      <td>1.400000</td>\n",
       "      <td>137.528754</td>\n",
       "      <td>4.627244</td>\n",
       "      <td>12.526437</td>\n",
       "      <td>...</td>\n",
       "      <td>1.000000</td>\n",
       "      <td>1.000000</td>\n",
       "      <td>0.000000</td>\n",
       "      <td>0.000000</td>\n",
       "      <td>0.000000</td>\n",
       "      <td>0.000000</td>\n",
       "      <td>0.000000</td>\n",
       "      <td>0.000000</td>\n",
       "      <td>0.000000</td>\n",
       "      <td>1.000000</td>\n",
       "    </tr>\n",
       "    <tr>\n",
       "      <th>75%</th>\n",
       "      <td>80.000000</td>\n",
       "      <td>1.020000</td>\n",
       "      <td>2.000000</td>\n",
       "      <td>0.000000</td>\n",
       "      <td>153.75000</td>\n",
       "      <td>60.000000</td>\n",
       "      <td>3.072454</td>\n",
       "      <td>141.000000</td>\n",
       "      <td>4.800000</td>\n",
       "      <td>14.500000</td>\n",
       "      <td>...</td>\n",
       "      <td>1.000000</td>\n",
       "      <td>1.000000</td>\n",
       "      <td>0.000000</td>\n",
       "      <td>0.000000</td>\n",
       "      <td>1.000000</td>\n",
       "      <td>1.000000</td>\n",
       "      <td>0.000000</td>\n",
       "      <td>0.000000</td>\n",
       "      <td>0.000000</td>\n",
       "      <td>1.000000</td>\n",
       "    </tr>\n",
       "    <tr>\n",
       "      <th>max</th>\n",
       "      <td>180.000000</td>\n",
       "      <td>1.025000</td>\n",
       "      <td>5.000000</td>\n",
       "      <td>5.000000</td>\n",
       "      <td>490.00000</td>\n",
       "      <td>322.000000</td>\n",
       "      <td>76.000000</td>\n",
       "      <td>150.000000</td>\n",
       "      <td>6.600000</td>\n",
       "      <td>17.800000</td>\n",
       "      <td>...</td>\n",
       "      <td>1.000000</td>\n",
       "      <td>1.000000</td>\n",
       "      <td>1.000000</td>\n",
       "      <td>1.000000</td>\n",
       "      <td>1.000000</td>\n",
       "      <td>1.000000</td>\n",
       "      <td>1.000000</td>\n",
       "      <td>1.000000</td>\n",
       "      <td>1.000000</td>\n",
       "      <td>1.000000</td>\n",
       "    </tr>\n",
       "  </tbody>\n",
       "</table>\n",
       "<p>8 rows × 23 columns</p>\n",
       "</div>"
      ],
      "text/plain": [
       "               bp          sg          al          su        bgr          bu  \\\n",
       "count  320.000000  320.000000  320.000000  320.000000  320.00000  320.000000   \n",
       "mean    76.031250    1.017341    0.943750    0.375000  145.34375   55.843322   \n",
       "std     13.537326    0.005359    1.333188    1.009361   75.22535   45.321718   \n",
       "min     50.000000    1.005000    0.000000    0.000000   22.00000    1.500000   \n",
       "25%     70.000000    1.015000    0.000000    0.000000  102.00000   27.750000   \n",
       "50%     80.000000    1.017408    0.000000    0.000000  121.00000   44.000000   \n",
       "75%     80.000000    1.020000    2.000000    0.000000  153.75000   60.000000   \n",
       "max    180.000000    1.025000    5.000000    5.000000  490.00000  322.000000   \n",
       "\n",
       "               sc         sod         pot        hemo  ...  rbc_normal  \\\n",
       "count  320.000000  320.000000  320.000000  320.000000  ...  320.000000   \n",
       "mean     3.032373  137.225130    4.404255   12.498405  ...    0.881250   \n",
       "std      5.782215    9.654677    0.658088    2.648700  ...    0.324001   \n",
       "min      0.400000    4.500000    2.500000    3.100000  ...    0.000000   \n",
       "25%      1.000000  135.000000    3.975000   10.800000  ...    1.000000   \n",
       "50%      1.400000  137.528754    4.627244   12.526437  ...    1.000000   \n",
       "75%      3.072454  141.000000    4.800000   14.500000  ...    1.000000   \n",
       "max     76.000000  150.000000    6.600000   17.800000  ...    1.000000   \n",
       "\n",
       "        pc_normal  pcc_present  ba_present     htn_yes      dm_yes  \\\n",
       "count  320.000000   320.000000  320.000000  320.000000  320.000000   \n",
       "mean     0.796875     0.118750    0.065625    0.375000    0.346875   \n",
       "std      0.402955     0.324001    0.248013    0.484881    0.476721   \n",
       "min      0.000000     0.000000    0.000000    0.000000    0.000000   \n",
       "25%      1.000000     0.000000    0.000000    0.000000    0.000000   \n",
       "50%      1.000000     0.000000    0.000000    0.000000    0.000000   \n",
       "75%      1.000000     0.000000    0.000000    1.000000    1.000000   \n",
       "max      1.000000     1.000000    1.000000    1.000000    1.000000   \n",
       "\n",
       "          cad_yes      pe_yes     ane_yes       appet  \n",
       "count  320.000000  320.000000  320.000000  320.000000  \n",
       "mean     0.093750    0.196875    0.143750    0.796875  \n",
       "std      0.291937    0.398260    0.351386    0.402955  \n",
       "min      0.000000    0.000000    0.000000    0.000000  \n",
       "25%      0.000000    0.000000    0.000000    1.000000  \n",
       "50%      0.000000    0.000000    0.000000    1.000000  \n",
       "75%      0.000000    0.000000    0.000000    1.000000  \n",
       "max      1.000000    1.000000    1.000000    1.000000  \n",
       "\n",
       "[8 rows x 23 columns]"
      ]
     },
     "execution_count": 117,
     "metadata": {},
     "output_type": "execute_result"
    }
   ],
   "source": [
    "# describe() before scaling\n",
    "X_train_encoded.describe()"
   ]
  },
  {
   "cell_type": "markdown",
   "id": "a01012ce",
   "metadata": {},
   "source": [
    "## 1) standard scaler"
   ]
  },
  {
   "cell_type": "code",
   "execution_count": 118,
   "id": "02d8ebae",
   "metadata": {},
   "outputs": [],
   "source": [
    "from sklearn.preprocessing import StandardScaler\n",
    "std_scaler = StandardScaler()\n",
    "std_scaler.fit(X_train_encoded)\n",
    "\n",
    "X_train_scaled = pd.DataFrame(std_scaler.transform(X_train_encoded),\n",
    "                              columns=X_train_encoded.columns)\n",
    "\n",
    "X_test_scaled = pd.DataFrame(std_scaler.transform(X_test_encoded),\n",
    "                             columns= X_test_encoded.columns)"
   ]
  },
  {
   "cell_type": "code",
   "execution_count": 119,
   "id": "13c9932d",
   "metadata": {},
   "outputs": [
    {
     "data": {
      "text/html": [
       "<div>\n",
       "<style scoped>\n",
       "    .dataframe tbody tr th:only-of-type {\n",
       "        vertical-align: middle;\n",
       "    }\n",
       "\n",
       "    .dataframe tbody tr th {\n",
       "        vertical-align: top;\n",
       "    }\n",
       "\n",
       "    .dataframe thead th {\n",
       "        text-align: right;\n",
       "    }\n",
       "</style>\n",
       "<table border=\"1\" class=\"dataframe\">\n",
       "  <thead>\n",
       "    <tr style=\"text-align: right;\">\n",
       "      <th></th>\n",
       "      <th>bp</th>\n",
       "      <th>sg</th>\n",
       "      <th>al</th>\n",
       "      <th>su</th>\n",
       "      <th>bgr</th>\n",
       "      <th>bu</th>\n",
       "      <th>sc</th>\n",
       "      <th>sod</th>\n",
       "      <th>pot</th>\n",
       "      <th>hemo</th>\n",
       "      <th>...</th>\n",
       "      <th>rbc_normal</th>\n",
       "      <th>pc_normal</th>\n",
       "      <th>pcc_present</th>\n",
       "      <th>ba_present</th>\n",
       "      <th>htn_yes</th>\n",
       "      <th>dm_yes</th>\n",
       "      <th>cad_yes</th>\n",
       "      <th>pe_yes</th>\n",
       "      <th>ane_yes</th>\n",
       "      <th>appet</th>\n",
       "    </tr>\n",
       "  </thead>\n",
       "  <tbody>\n",
       "    <tr>\n",
       "      <th>0</th>\n",
       "      <td>0.293630</td>\n",
       "      <td>0.496977</td>\n",
       "      <td>-0.708998</td>\n",
       "      <td>-0.372104</td>\n",
       "      <td>-0.603716</td>\n",
       "      <td>-0.659509</td>\n",
       "      <td>-0.421323</td>\n",
       "      <td>-0.023355</td>\n",
       "      <td>-0.006476</td>\n",
       "      <td>1.248448</td>\n",
       "      <td>...</td>\n",
       "      <td>0.367086</td>\n",
       "      <td>0.504878</td>\n",
       "      <td>-0.367086</td>\n",
       "      <td>-0.265017</td>\n",
       "      <td>-0.774597</td>\n",
       "      <td>-0.728766</td>\n",
       "      <td>-0.321634</td>\n",
       "      <td>-0.495112</td>\n",
       "      <td>-0.409736</td>\n",
       "      <td>0.504878</td>\n",
       "    </tr>\n",
       "    <tr>\n",
       "      <th>1</th>\n",
       "      <td>-1.186080</td>\n",
       "      <td>1.431466</td>\n",
       "      <td>-0.708998</td>\n",
       "      <td>-0.372104</td>\n",
       "      <td>-0.297489</td>\n",
       "      <td>-0.217528</td>\n",
       "      <td>-0.352037</td>\n",
       "      <td>-0.230833</td>\n",
       "      <td>0.906685</td>\n",
       "      <td>1.210635</td>\n",
       "      <td>...</td>\n",
       "      <td>0.367086</td>\n",
       "      <td>0.504878</td>\n",
       "      <td>-0.367086</td>\n",
       "      <td>-0.265017</td>\n",
       "      <td>-0.774597</td>\n",
       "      <td>-0.728766</td>\n",
       "      <td>-0.321634</td>\n",
       "      <td>-0.495112</td>\n",
       "      <td>-0.409736</td>\n",
       "      <td>0.504878</td>\n",
       "    </tr>\n",
       "    <tr>\n",
       "      <th>2</th>\n",
       "      <td>-0.446225</td>\n",
       "      <td>-1.372002</td>\n",
       "      <td>-0.708998</td>\n",
       "      <td>-0.372104</td>\n",
       "      <td>-0.696916</td>\n",
       "      <td>0.224453</td>\n",
       "      <td>-0.248108</td>\n",
       "      <td>-0.023355</td>\n",
       "      <td>0.145718</td>\n",
       "      <td>-0.339718</td>\n",
       "      <td>...</td>\n",
       "      <td>0.367086</td>\n",
       "      <td>0.504878</td>\n",
       "      <td>-0.367086</td>\n",
       "      <td>-0.265017</td>\n",
       "      <td>-0.774597</td>\n",
       "      <td>1.372182</td>\n",
       "      <td>-0.321634</td>\n",
       "      <td>-0.495112</td>\n",
       "      <td>-0.409736</td>\n",
       "      <td>0.504878</td>\n",
       "    </tr>\n",
       "    <tr>\n",
       "      <th>3</th>\n",
       "      <td>0.293630</td>\n",
       "      <td>1.431466</td>\n",
       "      <td>-0.708998</td>\n",
       "      <td>-0.372104</td>\n",
       "      <td>-0.071148</td>\n",
       "      <td>-1.013093</td>\n",
       "      <td>-0.317394</td>\n",
       "      <td>-0.230833</td>\n",
       "      <td>0.906685</td>\n",
       "      <td>0.945940</td>\n",
       "      <td>...</td>\n",
       "      <td>0.367086</td>\n",
       "      <td>0.504878</td>\n",
       "      <td>-0.367086</td>\n",
       "      <td>-0.265017</td>\n",
       "      <td>-0.774597</td>\n",
       "      <td>-0.728766</td>\n",
       "      <td>-0.321634</td>\n",
       "      <td>-0.495112</td>\n",
       "      <td>-0.409736</td>\n",
       "      <td>0.504878</td>\n",
       "    </tr>\n",
       "    <tr>\n",
       "      <th>4</th>\n",
       "      <td>1.773340</td>\n",
       "      <td>-1.372002</td>\n",
       "      <td>-0.708998</td>\n",
       "      <td>-0.372104</td>\n",
       "      <td>-0.310804</td>\n",
       "      <td>0.034970</td>\n",
       "      <td>2.402081</td>\n",
       "      <td>0.080384</td>\n",
       "      <td>1.211072</td>\n",
       "      <td>-0.642226</td>\n",
       "      <td>...</td>\n",
       "      <td>0.367086</td>\n",
       "      <td>0.504878</td>\n",
       "      <td>-0.367086</td>\n",
       "      <td>-0.265017</td>\n",
       "      <td>-0.774597</td>\n",
       "      <td>1.372182</td>\n",
       "      <td>-0.321634</td>\n",
       "      <td>-0.495112</td>\n",
       "      <td>-0.409736</td>\n",
       "      <td>0.504878</td>\n",
       "    </tr>\n",
       "    <tr>\n",
       "      <th>...</th>\n",
       "      <td>...</td>\n",
       "      <td>...</td>\n",
       "      <td>...</td>\n",
       "      <td>...</td>\n",
       "      <td>...</td>\n",
       "      <td>...</td>\n",
       "      <td>...</td>\n",
       "      <td>...</td>\n",
       "      <td>...</td>\n",
       "      <td>...</td>\n",
       "      <td>...</td>\n",
       "      <td>...</td>\n",
       "      <td>...</td>\n",
       "      <td>...</td>\n",
       "      <td>...</td>\n",
       "      <td>...</td>\n",
       "      <td>...</td>\n",
       "      <td>...</td>\n",
       "      <td>...</td>\n",
       "      <td>...</td>\n",
       "      <td>...</td>\n",
       "    </tr>\n",
       "    <tr>\n",
       "      <th>315</th>\n",
       "      <td>0.293630</td>\n",
       "      <td>1.431466</td>\n",
       "      <td>-0.708998</td>\n",
       "      <td>-0.372104</td>\n",
       "      <td>-0.350746</td>\n",
       "      <td>-0.858400</td>\n",
       "      <td>-0.317394</td>\n",
       "      <td>-0.230833</td>\n",
       "      <td>0.450105</td>\n",
       "      <td>1.097194</td>\n",
       "      <td>...</td>\n",
       "      <td>0.367086</td>\n",
       "      <td>0.504878</td>\n",
       "      <td>-0.367086</td>\n",
       "      <td>-0.265017</td>\n",
       "      <td>-0.774597</td>\n",
       "      <td>-0.728766</td>\n",
       "      <td>-0.321634</td>\n",
       "      <td>-0.495112</td>\n",
       "      <td>-0.409736</td>\n",
       "      <td>0.504878</td>\n",
       "    </tr>\n",
       "    <tr>\n",
       "      <th>316</th>\n",
       "      <td>-1.186080</td>\n",
       "      <td>-1.372002</td>\n",
       "      <td>2.296028</td>\n",
       "      <td>0.620174</td>\n",
       "      <td>1.246959</td>\n",
       "      <td>0.047661</td>\n",
       "      <td>0.219572</td>\n",
       "      <td>-0.023355</td>\n",
       "      <td>1.515459</td>\n",
       "      <td>-1.133802</td>\n",
       "      <td>...</td>\n",
       "      <td>-2.724161</td>\n",
       "      <td>-1.980676</td>\n",
       "      <td>-0.367086</td>\n",
       "      <td>3.773340</td>\n",
       "      <td>1.290994</td>\n",
       "      <td>1.372182</td>\n",
       "      <td>-0.321634</td>\n",
       "      <td>2.019744</td>\n",
       "      <td>-0.409736</td>\n",
       "      <td>-1.980676</td>\n",
       "    </tr>\n",
       "    <tr>\n",
       "      <th>317</th>\n",
       "      <td>-1.186080</td>\n",
       "      <td>1.431466</td>\n",
       "      <td>-0.708998</td>\n",
       "      <td>-0.372104</td>\n",
       "      <td>-0.377375</td>\n",
       "      <td>-0.239627</td>\n",
       "      <td>-0.404002</td>\n",
       "      <td>0.391601</td>\n",
       "      <td>-0.006476</td>\n",
       "      <td>0.189671</td>\n",
       "      <td>...</td>\n",
       "      <td>0.367086</td>\n",
       "      <td>0.504878</td>\n",
       "      <td>-0.367086</td>\n",
       "      <td>-0.265017</td>\n",
       "      <td>-0.774597</td>\n",
       "      <td>-0.728766</td>\n",
       "      <td>-0.321634</td>\n",
       "      <td>-0.495112</td>\n",
       "      <td>-0.409736</td>\n",
       "      <td>0.504878</td>\n",
       "    </tr>\n",
       "    <tr>\n",
       "      <th>318</th>\n",
       "      <td>-1.186080</td>\n",
       "      <td>0.496977</td>\n",
       "      <td>-0.708998</td>\n",
       "      <td>-0.372104</td>\n",
       "      <td>-0.577088</td>\n",
       "      <td>-0.637410</td>\n",
       "      <td>-0.404002</td>\n",
       "      <td>0.495340</td>\n",
       "      <td>0.754492</td>\n",
       "      <td>0.265298</td>\n",
       "      <td>...</td>\n",
       "      <td>0.367086</td>\n",
       "      <td>0.504878</td>\n",
       "      <td>-0.367086</td>\n",
       "      <td>-0.265017</td>\n",
       "      <td>-0.774597</td>\n",
       "      <td>-0.728766</td>\n",
       "      <td>-0.321634</td>\n",
       "      <td>-0.495112</td>\n",
       "      <td>-0.409736</td>\n",
       "      <td>0.504878</td>\n",
       "    </tr>\n",
       "    <tr>\n",
       "      <th>319</th>\n",
       "      <td>-1.186080</td>\n",
       "      <td>0.012525</td>\n",
       "      <td>-0.708998</td>\n",
       "      <td>-0.372104</td>\n",
       "      <td>0.341593</td>\n",
       "      <td>-0.659509</td>\n",
       "      <td>7.806388</td>\n",
       "      <td>0.031498</td>\n",
       "      <td>0.339374</td>\n",
       "      <td>0.010600</td>\n",
       "      <td>...</td>\n",
       "      <td>0.367086</td>\n",
       "      <td>0.504878</td>\n",
       "      <td>-0.367086</td>\n",
       "      <td>-0.265017</td>\n",
       "      <td>1.290994</td>\n",
       "      <td>-0.728766</td>\n",
       "      <td>-0.321634</td>\n",
       "      <td>-0.495112</td>\n",
       "      <td>-0.409736</td>\n",
       "      <td>-1.980676</td>\n",
       "    </tr>\n",
       "  </tbody>\n",
       "</table>\n",
       "<p>320 rows × 23 columns</p>\n",
       "</div>"
      ],
      "text/plain": [
       "           bp        sg        al        su       bgr        bu        sc  \\\n",
       "0    0.293630  0.496977 -0.708998 -0.372104 -0.603716 -0.659509 -0.421323   \n",
       "1   -1.186080  1.431466 -0.708998 -0.372104 -0.297489 -0.217528 -0.352037   \n",
       "2   -0.446225 -1.372002 -0.708998 -0.372104 -0.696916  0.224453 -0.248108   \n",
       "3    0.293630  1.431466 -0.708998 -0.372104 -0.071148 -1.013093 -0.317394   \n",
       "4    1.773340 -1.372002 -0.708998 -0.372104 -0.310804  0.034970  2.402081   \n",
       "..        ...       ...       ...       ...       ...       ...       ...   \n",
       "315  0.293630  1.431466 -0.708998 -0.372104 -0.350746 -0.858400 -0.317394   \n",
       "316 -1.186080 -1.372002  2.296028  0.620174  1.246959  0.047661  0.219572   \n",
       "317 -1.186080  1.431466 -0.708998 -0.372104 -0.377375 -0.239627 -0.404002   \n",
       "318 -1.186080  0.496977 -0.708998 -0.372104 -0.577088 -0.637410 -0.404002   \n",
       "319 -1.186080  0.012525 -0.708998 -0.372104  0.341593 -0.659509  7.806388   \n",
       "\n",
       "          sod       pot      hemo  ...  rbc_normal  pc_normal  pcc_present  \\\n",
       "0   -0.023355 -0.006476  1.248448  ...    0.367086   0.504878    -0.367086   \n",
       "1   -0.230833  0.906685  1.210635  ...    0.367086   0.504878    -0.367086   \n",
       "2   -0.023355  0.145718 -0.339718  ...    0.367086   0.504878    -0.367086   \n",
       "3   -0.230833  0.906685  0.945940  ...    0.367086   0.504878    -0.367086   \n",
       "4    0.080384  1.211072 -0.642226  ...    0.367086   0.504878    -0.367086   \n",
       "..        ...       ...       ...  ...         ...        ...          ...   \n",
       "315 -0.230833  0.450105  1.097194  ...    0.367086   0.504878    -0.367086   \n",
       "316 -0.023355  1.515459 -1.133802  ...   -2.724161  -1.980676    -0.367086   \n",
       "317  0.391601 -0.006476  0.189671  ...    0.367086   0.504878    -0.367086   \n",
       "318  0.495340  0.754492  0.265298  ...    0.367086   0.504878    -0.367086   \n",
       "319  0.031498  0.339374  0.010600  ...    0.367086   0.504878    -0.367086   \n",
       "\n",
       "     ba_present   htn_yes    dm_yes   cad_yes    pe_yes   ane_yes     appet  \n",
       "0     -0.265017 -0.774597 -0.728766 -0.321634 -0.495112 -0.409736  0.504878  \n",
       "1     -0.265017 -0.774597 -0.728766 -0.321634 -0.495112 -0.409736  0.504878  \n",
       "2     -0.265017 -0.774597  1.372182 -0.321634 -0.495112 -0.409736  0.504878  \n",
       "3     -0.265017 -0.774597 -0.728766 -0.321634 -0.495112 -0.409736  0.504878  \n",
       "4     -0.265017 -0.774597  1.372182 -0.321634 -0.495112 -0.409736  0.504878  \n",
       "..          ...       ...       ...       ...       ...       ...       ...  \n",
       "315   -0.265017 -0.774597 -0.728766 -0.321634 -0.495112 -0.409736  0.504878  \n",
       "316    3.773340  1.290994  1.372182 -0.321634  2.019744 -0.409736 -1.980676  \n",
       "317   -0.265017 -0.774597 -0.728766 -0.321634 -0.495112 -0.409736  0.504878  \n",
       "318   -0.265017 -0.774597 -0.728766 -0.321634 -0.495112 -0.409736  0.504878  \n",
       "319   -0.265017  1.290994 -0.728766 -0.321634 -0.495112 -0.409736 -1.980676  \n",
       "\n",
       "[320 rows x 23 columns]"
      ]
     },
     "execution_count": 119,
     "metadata": {},
     "output_type": "execute_result"
    }
   ],
   "source": [
    "X_train_scaled # X_train after standard scaler"
   ]
  },
  {
   "cell_type": "code",
   "execution_count": 120,
   "id": "413e28c9",
   "metadata": {
    "scrolled": true
   },
   "outputs": [
    {
     "data": {
      "text/html": [
       "<div>\n",
       "<style scoped>\n",
       "    .dataframe tbody tr th:only-of-type {\n",
       "        vertical-align: middle;\n",
       "    }\n",
       "\n",
       "    .dataframe tbody tr th {\n",
       "        vertical-align: top;\n",
       "    }\n",
       "\n",
       "    .dataframe thead th {\n",
       "        text-align: right;\n",
       "    }\n",
       "</style>\n",
       "<table border=\"1\" class=\"dataframe\">\n",
       "  <thead>\n",
       "    <tr style=\"text-align: right;\">\n",
       "      <th></th>\n",
       "      <th>bp</th>\n",
       "      <th>sg</th>\n",
       "      <th>al</th>\n",
       "      <th>su</th>\n",
       "      <th>bgr</th>\n",
       "      <th>bu</th>\n",
       "      <th>sc</th>\n",
       "      <th>sod</th>\n",
       "      <th>pot</th>\n",
       "      <th>hemo</th>\n",
       "      <th>...</th>\n",
       "      <th>rbc_normal</th>\n",
       "      <th>pc_normal</th>\n",
       "      <th>pcc_present</th>\n",
       "      <th>ba_present</th>\n",
       "      <th>htn_yes</th>\n",
       "      <th>dm_yes</th>\n",
       "      <th>cad_yes</th>\n",
       "      <th>pe_yes</th>\n",
       "      <th>ane_yes</th>\n",
       "      <th>appet</th>\n",
       "    </tr>\n",
       "  </thead>\n",
       "  <tbody>\n",
       "    <tr>\n",
       "      <th>count</th>\n",
       "      <td>320.00</td>\n",
       "      <td>320.00</td>\n",
       "      <td>320.00</td>\n",
       "      <td>320.00</td>\n",
       "      <td>320.00</td>\n",
       "      <td>320.00</td>\n",
       "      <td>320.00</td>\n",
       "      <td>320.00</td>\n",
       "      <td>320.00</td>\n",
       "      <td>320.00</td>\n",
       "      <td>...</td>\n",
       "      <td>320.00</td>\n",
       "      <td>320.00</td>\n",
       "      <td>320.00</td>\n",
       "      <td>320.00</td>\n",
       "      <td>320.00</td>\n",
       "      <td>320.00</td>\n",
       "      <td>320.00</td>\n",
       "      <td>320.00</td>\n",
       "      <td>320.00</td>\n",
       "      <td>320.00</td>\n",
       "    </tr>\n",
       "    <tr>\n",
       "      <th>mean</th>\n",
       "      <td>0.00</td>\n",
       "      <td>0.00</td>\n",
       "      <td>0.00</td>\n",
       "      <td>0.00</td>\n",
       "      <td>-0.00</td>\n",
       "      <td>-0.00</td>\n",
       "      <td>0.00</td>\n",
       "      <td>-0.00</td>\n",
       "      <td>-0.00</td>\n",
       "      <td>-0.00</td>\n",
       "      <td>...</td>\n",
       "      <td>0.00</td>\n",
       "      <td>0.00</td>\n",
       "      <td>-0.00</td>\n",
       "      <td>-0.00</td>\n",
       "      <td>0.00</td>\n",
       "      <td>-0.00</td>\n",
       "      <td>-0.00</td>\n",
       "      <td>0.00</td>\n",
       "      <td>0.00</td>\n",
       "      <td>0.00</td>\n",
       "    </tr>\n",
       "    <tr>\n",
       "      <th>std</th>\n",
       "      <td>1.00</td>\n",
       "      <td>1.00</td>\n",
       "      <td>1.00</td>\n",
       "      <td>1.00</td>\n",
       "      <td>1.00</td>\n",
       "      <td>1.00</td>\n",
       "      <td>1.00</td>\n",
       "      <td>1.00</td>\n",
       "      <td>1.00</td>\n",
       "      <td>1.00</td>\n",
       "      <td>...</td>\n",
       "      <td>1.00</td>\n",
       "      <td>1.00</td>\n",
       "      <td>1.00</td>\n",
       "      <td>1.00</td>\n",
       "      <td>1.00</td>\n",
       "      <td>1.00</td>\n",
       "      <td>1.00</td>\n",
       "      <td>1.00</td>\n",
       "      <td>1.00</td>\n",
       "      <td>1.00</td>\n",
       "    </tr>\n",
       "    <tr>\n",
       "      <th>min</th>\n",
       "      <td>-1.93</td>\n",
       "      <td>-2.31</td>\n",
       "      <td>-0.71</td>\n",
       "      <td>-0.37</td>\n",
       "      <td>-1.64</td>\n",
       "      <td>-1.20</td>\n",
       "      <td>-0.46</td>\n",
       "      <td>-13.77</td>\n",
       "      <td>-2.90</td>\n",
       "      <td>-3.55</td>\n",
       "      <td>...</td>\n",
       "      <td>-2.72</td>\n",
       "      <td>-1.98</td>\n",
       "      <td>-0.37</td>\n",
       "      <td>-0.27</td>\n",
       "      <td>-0.77</td>\n",
       "      <td>-0.73</td>\n",
       "      <td>-0.32</td>\n",
       "      <td>-0.50</td>\n",
       "      <td>-0.41</td>\n",
       "      <td>-1.98</td>\n",
       "    </tr>\n",
       "    <tr>\n",
       "      <th>25%</th>\n",
       "      <td>-0.45</td>\n",
       "      <td>-0.44</td>\n",
       "      <td>-0.71</td>\n",
       "      <td>-0.37</td>\n",
       "      <td>-0.58</td>\n",
       "      <td>-0.62</td>\n",
       "      <td>-0.35</td>\n",
       "      <td>-0.23</td>\n",
       "      <td>-0.65</td>\n",
       "      <td>-0.64</td>\n",
       "      <td>...</td>\n",
       "      <td>0.37</td>\n",
       "      <td>0.50</td>\n",
       "      <td>-0.37</td>\n",
       "      <td>-0.27</td>\n",
       "      <td>-0.77</td>\n",
       "      <td>-0.73</td>\n",
       "      <td>-0.32</td>\n",
       "      <td>-0.50</td>\n",
       "      <td>-0.41</td>\n",
       "      <td>0.50</td>\n",
       "    </tr>\n",
       "    <tr>\n",
       "      <th>50%</th>\n",
       "      <td>0.29</td>\n",
       "      <td>0.01</td>\n",
       "      <td>-0.71</td>\n",
       "      <td>-0.37</td>\n",
       "      <td>-0.32</td>\n",
       "      <td>-0.26</td>\n",
       "      <td>-0.28</td>\n",
       "      <td>0.03</td>\n",
       "      <td>0.34</td>\n",
       "      <td>0.01</td>\n",
       "      <td>...</td>\n",
       "      <td>0.37</td>\n",
       "      <td>0.50</td>\n",
       "      <td>-0.37</td>\n",
       "      <td>-0.27</td>\n",
       "      <td>-0.77</td>\n",
       "      <td>-0.73</td>\n",
       "      <td>-0.32</td>\n",
       "      <td>-0.50</td>\n",
       "      <td>-0.41</td>\n",
       "      <td>0.50</td>\n",
       "    </tr>\n",
       "    <tr>\n",
       "      <th>75%</th>\n",
       "      <td>0.29</td>\n",
       "      <td>0.50</td>\n",
       "      <td>0.79</td>\n",
       "      <td>-0.37</td>\n",
       "      <td>0.11</td>\n",
       "      <td>0.09</td>\n",
       "      <td>0.01</td>\n",
       "      <td>0.39</td>\n",
       "      <td>0.60</td>\n",
       "      <td>0.76</td>\n",
       "      <td>...</td>\n",
       "      <td>0.37</td>\n",
       "      <td>0.50</td>\n",
       "      <td>-0.37</td>\n",
       "      <td>-0.27</td>\n",
       "      <td>1.29</td>\n",
       "      <td>1.37</td>\n",
       "      <td>-0.32</td>\n",
       "      <td>-0.50</td>\n",
       "      <td>-0.41</td>\n",
       "      <td>0.50</td>\n",
       "    </tr>\n",
       "    <tr>\n",
       "      <th>max</th>\n",
       "      <td>7.69</td>\n",
       "      <td>1.43</td>\n",
       "      <td>3.05</td>\n",
       "      <td>4.59</td>\n",
       "      <td>4.59</td>\n",
       "      <td>5.88</td>\n",
       "      <td>12.64</td>\n",
       "      <td>1.33</td>\n",
       "      <td>3.34</td>\n",
       "      <td>2.00</td>\n",
       "      <td>...</td>\n",
       "      <td>0.37</td>\n",
       "      <td>0.50</td>\n",
       "      <td>2.72</td>\n",
       "      <td>3.77</td>\n",
       "      <td>1.29</td>\n",
       "      <td>1.37</td>\n",
       "      <td>3.11</td>\n",
       "      <td>2.02</td>\n",
       "      <td>2.44</td>\n",
       "      <td>0.50</td>\n",
       "    </tr>\n",
       "  </tbody>\n",
       "</table>\n",
       "<p>8 rows × 23 columns</p>\n",
       "</div>"
      ],
      "text/plain": [
       "           bp      sg      al      su     bgr      bu      sc     sod     pot  \\\n",
       "count  320.00  320.00  320.00  320.00  320.00  320.00  320.00  320.00  320.00   \n",
       "mean     0.00    0.00    0.00    0.00   -0.00   -0.00    0.00   -0.00   -0.00   \n",
       "std      1.00    1.00    1.00    1.00    1.00    1.00    1.00    1.00    1.00   \n",
       "min     -1.93   -2.31   -0.71   -0.37   -1.64   -1.20   -0.46  -13.77   -2.90   \n",
       "25%     -0.45   -0.44   -0.71   -0.37   -0.58   -0.62   -0.35   -0.23   -0.65   \n",
       "50%      0.29    0.01   -0.71   -0.37   -0.32   -0.26   -0.28    0.03    0.34   \n",
       "75%      0.29    0.50    0.79   -0.37    0.11    0.09    0.01    0.39    0.60   \n",
       "max      7.69    1.43    3.05    4.59    4.59    5.88   12.64    1.33    3.34   \n",
       "\n",
       "         hemo  ...  rbc_normal  pc_normal  pcc_present  ba_present  htn_yes  \\\n",
       "count  320.00  ...      320.00     320.00       320.00      320.00   320.00   \n",
       "mean    -0.00  ...        0.00       0.00        -0.00       -0.00     0.00   \n",
       "std      1.00  ...        1.00       1.00         1.00        1.00     1.00   \n",
       "min     -3.55  ...       -2.72      -1.98        -0.37       -0.27    -0.77   \n",
       "25%     -0.64  ...        0.37       0.50        -0.37       -0.27    -0.77   \n",
       "50%      0.01  ...        0.37       0.50        -0.37       -0.27    -0.77   \n",
       "75%      0.76  ...        0.37       0.50        -0.37       -0.27     1.29   \n",
       "max      2.00  ...        0.37       0.50         2.72        3.77     1.29   \n",
       "\n",
       "       dm_yes  cad_yes  pe_yes  ane_yes   appet  \n",
       "count  320.00   320.00  320.00   320.00  320.00  \n",
       "mean    -0.00    -0.00    0.00     0.00    0.00  \n",
       "std      1.00     1.00    1.00     1.00    1.00  \n",
       "min     -0.73    -0.32   -0.50    -0.41   -1.98  \n",
       "25%     -0.73    -0.32   -0.50    -0.41    0.50  \n",
       "50%     -0.73    -0.32   -0.50    -0.41    0.50  \n",
       "75%      1.37    -0.32   -0.50    -0.41    0.50  \n",
       "max      1.37     3.11    2.02     2.44    0.50  \n",
       "\n",
       "[8 rows x 23 columns]"
      ]
     },
     "execution_count": 120,
     "metadata": {},
     "output_type": "execute_result"
    }
   ],
   "source": [
    "# describe() after standard scaler\n",
    "np.round(X_train_scaled.describe(), 2)"
   ]
  },
  {
   "cell_type": "code",
   "execution_count": null,
   "id": "bfef678d",
   "metadata": {},
   "outputs": [],
   "source": []
  },
  {
   "cell_type": "markdown",
   "id": "b9bf5f79",
   "metadata": {},
   "source": [
    "## 2) MinmaxScaler for normalization"
   ]
  },
  {
   "cell_type": "code",
   "execution_count": 121,
   "id": "34e7311c",
   "metadata": {},
   "outputs": [],
   "source": [
    "from sklearn.preprocessing import MinMaxScaler\n",
    "mm_scaler = MinMaxScaler()\n",
    "\n",
    "X_train_mm_scaled = pd.DataFrame(mm_scaler.fit_transform(X_train_encoded),\n",
    "                                 columns= X_train_encoded.columns)\n",
    "\n",
    "X_test_mm_scaled = pd.DataFrame(mm_scaler.transform(X_test_encoded),\n",
    "                                columns= X_test_encoded.columns)"
   ]
  },
  {
   "cell_type": "code",
   "execution_count": 122,
   "id": "c2e86114",
   "metadata": {
    "scrolled": true
   },
   "outputs": [
    {
     "data": {
      "text/html": [
       "<div>\n",
       "<style scoped>\n",
       "    .dataframe tbody tr th:only-of-type {\n",
       "        vertical-align: middle;\n",
       "    }\n",
       "\n",
       "    .dataframe tbody tr th {\n",
       "        vertical-align: top;\n",
       "    }\n",
       "\n",
       "    .dataframe thead th {\n",
       "        text-align: right;\n",
       "    }\n",
       "</style>\n",
       "<table border=\"1\" class=\"dataframe\">\n",
       "  <thead>\n",
       "    <tr style=\"text-align: right;\">\n",
       "      <th></th>\n",
       "      <th>bp</th>\n",
       "      <th>sg</th>\n",
       "      <th>al</th>\n",
       "      <th>su</th>\n",
       "      <th>bgr</th>\n",
       "      <th>bu</th>\n",
       "      <th>sc</th>\n",
       "      <th>sod</th>\n",
       "      <th>pot</th>\n",
       "      <th>hemo</th>\n",
       "      <th>...</th>\n",
       "      <th>rbc_normal</th>\n",
       "      <th>pc_normal</th>\n",
       "      <th>pcc_present</th>\n",
       "      <th>ba_present</th>\n",
       "      <th>htn_yes</th>\n",
       "      <th>dm_yes</th>\n",
       "      <th>cad_yes</th>\n",
       "      <th>pe_yes</th>\n",
       "      <th>ane_yes</th>\n",
       "      <th>appet</th>\n",
       "    </tr>\n",
       "  </thead>\n",
       "  <tbody>\n",
       "    <tr>\n",
       "      <th>count</th>\n",
       "      <td>320.00</td>\n",
       "      <td>320.00</td>\n",
       "      <td>320.00</td>\n",
       "      <td>320.00</td>\n",
       "      <td>320.00</td>\n",
       "      <td>320.00</td>\n",
       "      <td>320.00</td>\n",
       "      <td>320.00</td>\n",
       "      <td>320.00</td>\n",
       "      <td>320.00</td>\n",
       "      <td>...</td>\n",
       "      <td>320.00</td>\n",
       "      <td>320.0</td>\n",
       "      <td>320.00</td>\n",
       "      <td>320.00</td>\n",
       "      <td>320.00</td>\n",
       "      <td>320.00</td>\n",
       "      <td>320.00</td>\n",
       "      <td>320.0</td>\n",
       "      <td>320.00</td>\n",
       "      <td>320.0</td>\n",
       "    </tr>\n",
       "    <tr>\n",
       "      <th>mean</th>\n",
       "      <td>0.20</td>\n",
       "      <td>0.62</td>\n",
       "      <td>0.19</td>\n",
       "      <td>0.08</td>\n",
       "      <td>0.26</td>\n",
       "      <td>0.17</td>\n",
       "      <td>0.03</td>\n",
       "      <td>0.91</td>\n",
       "      <td>0.46</td>\n",
       "      <td>0.64</td>\n",
       "      <td>...</td>\n",
       "      <td>0.88</td>\n",
       "      <td>0.8</td>\n",
       "      <td>0.12</td>\n",
       "      <td>0.07</td>\n",
       "      <td>0.38</td>\n",
       "      <td>0.35</td>\n",
       "      <td>0.09</td>\n",
       "      <td>0.2</td>\n",
       "      <td>0.14</td>\n",
       "      <td>0.8</td>\n",
       "    </tr>\n",
       "    <tr>\n",
       "      <th>std</th>\n",
       "      <td>0.10</td>\n",
       "      <td>0.27</td>\n",
       "      <td>0.27</td>\n",
       "      <td>0.20</td>\n",
       "      <td>0.16</td>\n",
       "      <td>0.14</td>\n",
       "      <td>0.08</td>\n",
       "      <td>0.07</td>\n",
       "      <td>0.16</td>\n",
       "      <td>0.18</td>\n",
       "      <td>...</td>\n",
       "      <td>0.32</td>\n",
       "      <td>0.4</td>\n",
       "      <td>0.32</td>\n",
       "      <td>0.25</td>\n",
       "      <td>0.48</td>\n",
       "      <td>0.48</td>\n",
       "      <td>0.29</td>\n",
       "      <td>0.4</td>\n",
       "      <td>0.35</td>\n",
       "      <td>0.4</td>\n",
       "    </tr>\n",
       "    <tr>\n",
       "      <th>min</th>\n",
       "      <td>0.00</td>\n",
       "      <td>0.00</td>\n",
       "      <td>0.00</td>\n",
       "      <td>0.00</td>\n",
       "      <td>0.00</td>\n",
       "      <td>0.00</td>\n",
       "      <td>0.00</td>\n",
       "      <td>0.00</td>\n",
       "      <td>0.00</td>\n",
       "      <td>0.00</td>\n",
       "      <td>...</td>\n",
       "      <td>0.00</td>\n",
       "      <td>0.0</td>\n",
       "      <td>0.00</td>\n",
       "      <td>0.00</td>\n",
       "      <td>0.00</td>\n",
       "      <td>0.00</td>\n",
       "      <td>0.00</td>\n",
       "      <td>0.0</td>\n",
       "      <td>0.00</td>\n",
       "      <td>0.0</td>\n",
       "    </tr>\n",
       "    <tr>\n",
       "      <th>25%</th>\n",
       "      <td>0.15</td>\n",
       "      <td>0.50</td>\n",
       "      <td>0.00</td>\n",
       "      <td>0.00</td>\n",
       "      <td>0.17</td>\n",
       "      <td>0.08</td>\n",
       "      <td>0.01</td>\n",
       "      <td>0.90</td>\n",
       "      <td>0.36</td>\n",
       "      <td>0.52</td>\n",
       "      <td>...</td>\n",
       "      <td>1.00</td>\n",
       "      <td>1.0</td>\n",
       "      <td>0.00</td>\n",
       "      <td>0.00</td>\n",
       "      <td>0.00</td>\n",
       "      <td>0.00</td>\n",
       "      <td>0.00</td>\n",
       "      <td>0.0</td>\n",
       "      <td>0.00</td>\n",
       "      <td>1.0</td>\n",
       "    </tr>\n",
       "    <tr>\n",
       "      <th>50%</th>\n",
       "      <td>0.23</td>\n",
       "      <td>0.62</td>\n",
       "      <td>0.00</td>\n",
       "      <td>0.00</td>\n",
       "      <td>0.21</td>\n",
       "      <td>0.13</td>\n",
       "      <td>0.01</td>\n",
       "      <td>0.91</td>\n",
       "      <td>0.52</td>\n",
       "      <td>0.64</td>\n",
       "      <td>...</td>\n",
       "      <td>1.00</td>\n",
       "      <td>1.0</td>\n",
       "      <td>0.00</td>\n",
       "      <td>0.00</td>\n",
       "      <td>0.00</td>\n",
       "      <td>0.00</td>\n",
       "      <td>0.00</td>\n",
       "      <td>0.0</td>\n",
       "      <td>0.00</td>\n",
       "      <td>1.0</td>\n",
       "    </tr>\n",
       "    <tr>\n",
       "      <th>75%</th>\n",
       "      <td>0.23</td>\n",
       "      <td>0.75</td>\n",
       "      <td>0.40</td>\n",
       "      <td>0.00</td>\n",
       "      <td>0.28</td>\n",
       "      <td>0.18</td>\n",
       "      <td>0.04</td>\n",
       "      <td>0.94</td>\n",
       "      <td>0.56</td>\n",
       "      <td>0.78</td>\n",
       "      <td>...</td>\n",
       "      <td>1.00</td>\n",
       "      <td>1.0</td>\n",
       "      <td>0.00</td>\n",
       "      <td>0.00</td>\n",
       "      <td>1.00</td>\n",
       "      <td>1.00</td>\n",
       "      <td>0.00</td>\n",
       "      <td>0.0</td>\n",
       "      <td>0.00</td>\n",
       "      <td>1.0</td>\n",
       "    </tr>\n",
       "    <tr>\n",
       "      <th>max</th>\n",
       "      <td>1.00</td>\n",
       "      <td>1.00</td>\n",
       "      <td>1.00</td>\n",
       "      <td>1.00</td>\n",
       "      <td>1.00</td>\n",
       "      <td>1.00</td>\n",
       "      <td>1.00</td>\n",
       "      <td>1.00</td>\n",
       "      <td>1.00</td>\n",
       "      <td>1.00</td>\n",
       "      <td>...</td>\n",
       "      <td>1.00</td>\n",
       "      <td>1.0</td>\n",
       "      <td>1.00</td>\n",
       "      <td>1.00</td>\n",
       "      <td>1.00</td>\n",
       "      <td>1.00</td>\n",
       "      <td>1.00</td>\n",
       "      <td>1.0</td>\n",
       "      <td>1.00</td>\n",
       "      <td>1.0</td>\n",
       "    </tr>\n",
       "  </tbody>\n",
       "</table>\n",
       "<p>8 rows × 23 columns</p>\n",
       "</div>"
      ],
      "text/plain": [
       "           bp      sg      al      su     bgr      bu      sc     sod     pot  \\\n",
       "count  320.00  320.00  320.00  320.00  320.00  320.00  320.00  320.00  320.00   \n",
       "mean     0.20    0.62    0.19    0.08    0.26    0.17    0.03    0.91    0.46   \n",
       "std      0.10    0.27    0.27    0.20    0.16    0.14    0.08    0.07    0.16   \n",
       "min      0.00    0.00    0.00    0.00    0.00    0.00    0.00    0.00    0.00   \n",
       "25%      0.15    0.50    0.00    0.00    0.17    0.08    0.01    0.90    0.36   \n",
       "50%      0.23    0.62    0.00    0.00    0.21    0.13    0.01    0.91    0.52   \n",
       "75%      0.23    0.75    0.40    0.00    0.28    0.18    0.04    0.94    0.56   \n",
       "max      1.00    1.00    1.00    1.00    1.00    1.00    1.00    1.00    1.00   \n",
       "\n",
       "         hemo  ...  rbc_normal  pc_normal  pcc_present  ba_present  htn_yes  \\\n",
       "count  320.00  ...      320.00      320.0       320.00      320.00   320.00   \n",
       "mean     0.64  ...        0.88        0.8         0.12        0.07     0.38   \n",
       "std      0.18  ...        0.32        0.4         0.32        0.25     0.48   \n",
       "min      0.00  ...        0.00        0.0         0.00        0.00     0.00   \n",
       "25%      0.52  ...        1.00        1.0         0.00        0.00     0.00   \n",
       "50%      0.64  ...        1.00        1.0         0.00        0.00     0.00   \n",
       "75%      0.78  ...        1.00        1.0         0.00        0.00     1.00   \n",
       "max      1.00  ...        1.00        1.0         1.00        1.00     1.00   \n",
       "\n",
       "       dm_yes  cad_yes  pe_yes  ane_yes  appet  \n",
       "count  320.00   320.00   320.0   320.00  320.0  \n",
       "mean     0.35     0.09     0.2     0.14    0.8  \n",
       "std      0.48     0.29     0.4     0.35    0.4  \n",
       "min      0.00     0.00     0.0     0.00    0.0  \n",
       "25%      0.00     0.00     0.0     0.00    1.0  \n",
       "50%      0.00     0.00     0.0     0.00    1.0  \n",
       "75%      1.00     0.00     0.0     0.00    1.0  \n",
       "max      1.00     1.00     1.0     1.00    1.0  \n",
       "\n",
       "[8 rows x 23 columns]"
      ]
     },
     "execution_count": 122,
     "metadata": {},
     "output_type": "execute_result"
    }
   ],
   "source": [
    "# describe after minmaxscaler\n",
    "np.round(X_train_mm_scaled.describe(),2)\n",
    "\n",
    "# we will get minimum 0 and maximum 1 means data scale will be bbetween 0 and 1"
   ]
  },
  {
   "cell_type": "markdown",
   "id": "2c29ceef",
   "metadata": {},
   "source": [
    "## 3) RobustScaler"
   ]
  },
  {
   "cell_type": "code",
   "execution_count": 123,
   "id": "62b4b8ab",
   "metadata": {},
   "outputs": [],
   "source": [
    "from sklearn.preprocessing import RobustScaler\n",
    "rb_scaler = RobustScaler()\n",
    "\n",
    "X_train_rb_scaled = pd.DataFrame(rb_scaler.fit_transform(X_train_encoded), \n",
    "                                 columns=X_train_encoded.columns)\n",
    "\n",
    "X_test_rb_scaled = pd.DataFrame(rb_scaler.transform(X_test_encoded),\n",
    "                                columns= X_test_encoded.columns)"
   ]
  },
  {
   "cell_type": "code",
   "execution_count": 124,
   "id": "dceaa199",
   "metadata": {},
   "outputs": [
    {
     "data": {
      "text/html": [
       "<div>\n",
       "<style scoped>\n",
       "    .dataframe tbody tr th:only-of-type {\n",
       "        vertical-align: middle;\n",
       "    }\n",
       "\n",
       "    .dataframe tbody tr th {\n",
       "        vertical-align: top;\n",
       "    }\n",
       "\n",
       "    .dataframe thead th {\n",
       "        text-align: right;\n",
       "    }\n",
       "</style>\n",
       "<table border=\"1\" class=\"dataframe\">\n",
       "  <thead>\n",
       "    <tr style=\"text-align: right;\">\n",
       "      <th></th>\n",
       "      <th>bp</th>\n",
       "      <th>sg</th>\n",
       "      <th>al</th>\n",
       "      <th>su</th>\n",
       "      <th>bgr</th>\n",
       "      <th>bu</th>\n",
       "      <th>sc</th>\n",
       "      <th>sod</th>\n",
       "      <th>pot</th>\n",
       "      <th>hemo</th>\n",
       "      <th>...</th>\n",
       "      <th>rbc_normal</th>\n",
       "      <th>pc_normal</th>\n",
       "      <th>pcc_present</th>\n",
       "      <th>ba_present</th>\n",
       "      <th>htn_yes</th>\n",
       "      <th>dm_yes</th>\n",
       "      <th>cad_yes</th>\n",
       "      <th>pe_yes</th>\n",
       "      <th>ane_yes</th>\n",
       "      <th>appet</th>\n",
       "    </tr>\n",
       "  </thead>\n",
       "  <tbody>\n",
       "    <tr>\n",
       "      <th>count</th>\n",
       "      <td>320.00</td>\n",
       "      <td>320.00</td>\n",
       "      <td>320.00</td>\n",
       "      <td>320.00</td>\n",
       "      <td>320.00</td>\n",
       "      <td>320.00</td>\n",
       "      <td>320.00</td>\n",
       "      <td>320.00</td>\n",
       "      <td>320.00</td>\n",
       "      <td>320.00</td>\n",
       "      <td>...</td>\n",
       "      <td>320.00</td>\n",
       "      <td>320.0</td>\n",
       "      <td>320.00</td>\n",
       "      <td>320.00</td>\n",
       "      <td>320.00</td>\n",
       "      <td>320.00</td>\n",
       "      <td>320.00</td>\n",
       "      <td>320.0</td>\n",
       "      <td>320.00</td>\n",
       "      <td>320.0</td>\n",
       "    </tr>\n",
       "    <tr>\n",
       "      <th>mean</th>\n",
       "      <td>-0.40</td>\n",
       "      <td>-0.01</td>\n",
       "      <td>0.47</td>\n",
       "      <td>0.38</td>\n",
       "      <td>0.47</td>\n",
       "      <td>0.37</td>\n",
       "      <td>0.79</td>\n",
       "      <td>-0.05</td>\n",
       "      <td>-0.27</td>\n",
       "      <td>-0.01</td>\n",
       "      <td>...</td>\n",
       "      <td>-0.12</td>\n",
       "      <td>-0.2</td>\n",
       "      <td>0.12</td>\n",
       "      <td>0.07</td>\n",
       "      <td>0.38</td>\n",
       "      <td>0.35</td>\n",
       "      <td>0.09</td>\n",
       "      <td>0.2</td>\n",
       "      <td>0.14</td>\n",
       "      <td>-0.2</td>\n",
       "    </tr>\n",
       "    <tr>\n",
       "      <th>std</th>\n",
       "      <td>1.35</td>\n",
       "      <td>1.07</td>\n",
       "      <td>0.67</td>\n",
       "      <td>1.01</td>\n",
       "      <td>1.45</td>\n",
       "      <td>1.41</td>\n",
       "      <td>2.79</td>\n",
       "      <td>1.61</td>\n",
       "      <td>0.80</td>\n",
       "      <td>0.72</td>\n",
       "      <td>...</td>\n",
       "      <td>0.32</td>\n",
       "      <td>0.4</td>\n",
       "      <td>0.32</td>\n",
       "      <td>0.25</td>\n",
       "      <td>0.48</td>\n",
       "      <td>0.48</td>\n",
       "      <td>0.29</td>\n",
       "      <td>0.4</td>\n",
       "      <td>0.35</td>\n",
       "      <td>0.4</td>\n",
       "    </tr>\n",
       "    <tr>\n",
       "      <th>min</th>\n",
       "      <td>-3.00</td>\n",
       "      <td>-2.48</td>\n",
       "      <td>0.00</td>\n",
       "      <td>0.00</td>\n",
       "      <td>-1.91</td>\n",
       "      <td>-1.32</td>\n",
       "      <td>-0.48</td>\n",
       "      <td>-22.17</td>\n",
       "      <td>-2.58</td>\n",
       "      <td>-2.55</td>\n",
       "      <td>...</td>\n",
       "      <td>-1.00</td>\n",
       "      <td>-1.0</td>\n",
       "      <td>0.00</td>\n",
       "      <td>0.00</td>\n",
       "      <td>0.00</td>\n",
       "      <td>0.00</td>\n",
       "      <td>0.00</td>\n",
       "      <td>0.0</td>\n",
       "      <td>0.00</td>\n",
       "      <td>-1.0</td>\n",
       "    </tr>\n",
       "    <tr>\n",
       "      <th>25%</th>\n",
       "      <td>-1.00</td>\n",
       "      <td>-0.48</td>\n",
       "      <td>0.00</td>\n",
       "      <td>0.00</td>\n",
       "      <td>-0.37</td>\n",
       "      <td>-0.50</td>\n",
       "      <td>-0.19</td>\n",
       "      <td>-0.42</td>\n",
       "      <td>-0.79</td>\n",
       "      <td>-0.47</td>\n",
       "      <td>...</td>\n",
       "      <td>0.00</td>\n",
       "      <td>0.0</td>\n",
       "      <td>0.00</td>\n",
       "      <td>0.00</td>\n",
       "      <td>0.00</td>\n",
       "      <td>0.00</td>\n",
       "      <td>0.00</td>\n",
       "      <td>0.0</td>\n",
       "      <td>0.00</td>\n",
       "      <td>0.0</td>\n",
       "    </tr>\n",
       "    <tr>\n",
       "      <th>50%</th>\n",
       "      <td>0.00</td>\n",
       "      <td>0.00</td>\n",
       "      <td>0.00</td>\n",
       "      <td>0.00</td>\n",
       "      <td>0.00</td>\n",
       "      <td>0.00</td>\n",
       "      <td>0.00</td>\n",
       "      <td>0.00</td>\n",
       "      <td>0.00</td>\n",
       "      <td>0.00</td>\n",
       "      <td>...</td>\n",
       "      <td>0.00</td>\n",
       "      <td>0.0</td>\n",
       "      <td>0.00</td>\n",
       "      <td>0.00</td>\n",
       "      <td>0.00</td>\n",
       "      <td>0.00</td>\n",
       "      <td>0.00</td>\n",
       "      <td>0.0</td>\n",
       "      <td>0.00</td>\n",
       "      <td>0.0</td>\n",
       "    </tr>\n",
       "    <tr>\n",
       "      <th>75%</th>\n",
       "      <td>0.00</td>\n",
       "      <td>0.52</td>\n",
       "      <td>1.00</td>\n",
       "      <td>0.00</td>\n",
       "      <td>0.63</td>\n",
       "      <td>0.50</td>\n",
       "      <td>0.81</td>\n",
       "      <td>0.58</td>\n",
       "      <td>0.21</td>\n",
       "      <td>0.53</td>\n",
       "      <td>...</td>\n",
       "      <td>0.00</td>\n",
       "      <td>0.0</td>\n",
       "      <td>0.00</td>\n",
       "      <td>0.00</td>\n",
       "      <td>1.00</td>\n",
       "      <td>1.00</td>\n",
       "      <td>0.00</td>\n",
       "      <td>0.0</td>\n",
       "      <td>0.00</td>\n",
       "      <td>0.0</td>\n",
       "    </tr>\n",
       "    <tr>\n",
       "      <th>max</th>\n",
       "      <td>10.00</td>\n",
       "      <td>1.52</td>\n",
       "      <td>2.50</td>\n",
       "      <td>5.00</td>\n",
       "      <td>7.13</td>\n",
       "      <td>8.62</td>\n",
       "      <td>36.00</td>\n",
       "      <td>2.08</td>\n",
       "      <td>2.39</td>\n",
       "      <td>1.43</td>\n",
       "      <td>...</td>\n",
       "      <td>0.00</td>\n",
       "      <td>0.0</td>\n",
       "      <td>1.00</td>\n",
       "      <td>1.00</td>\n",
       "      <td>1.00</td>\n",
       "      <td>1.00</td>\n",
       "      <td>1.00</td>\n",
       "      <td>1.0</td>\n",
       "      <td>1.00</td>\n",
       "      <td>0.0</td>\n",
       "    </tr>\n",
       "  </tbody>\n",
       "</table>\n",
       "<p>8 rows × 23 columns</p>\n",
       "</div>"
      ],
      "text/plain": [
       "           bp      sg      al      su     bgr      bu      sc     sod     pot  \\\n",
       "count  320.00  320.00  320.00  320.00  320.00  320.00  320.00  320.00  320.00   \n",
       "mean    -0.40   -0.01    0.47    0.38    0.47    0.37    0.79   -0.05   -0.27   \n",
       "std      1.35    1.07    0.67    1.01    1.45    1.41    2.79    1.61    0.80   \n",
       "min     -3.00   -2.48    0.00    0.00   -1.91   -1.32   -0.48  -22.17   -2.58   \n",
       "25%     -1.00   -0.48    0.00    0.00   -0.37   -0.50   -0.19   -0.42   -0.79   \n",
       "50%      0.00    0.00    0.00    0.00    0.00    0.00    0.00    0.00    0.00   \n",
       "75%      0.00    0.52    1.00    0.00    0.63    0.50    0.81    0.58    0.21   \n",
       "max     10.00    1.52    2.50    5.00    7.13    8.62   36.00    2.08    2.39   \n",
       "\n",
       "         hemo  ...  rbc_normal  pc_normal  pcc_present  ba_present  htn_yes  \\\n",
       "count  320.00  ...      320.00      320.0       320.00      320.00   320.00   \n",
       "mean    -0.01  ...       -0.12       -0.2         0.12        0.07     0.38   \n",
       "std      0.72  ...        0.32        0.4         0.32        0.25     0.48   \n",
       "min     -2.55  ...       -1.00       -1.0         0.00        0.00     0.00   \n",
       "25%     -0.47  ...        0.00        0.0         0.00        0.00     0.00   \n",
       "50%      0.00  ...        0.00        0.0         0.00        0.00     0.00   \n",
       "75%      0.53  ...        0.00        0.0         0.00        0.00     1.00   \n",
       "max      1.43  ...        0.00        0.0         1.00        1.00     1.00   \n",
       "\n",
       "       dm_yes  cad_yes  pe_yes  ane_yes  appet  \n",
       "count  320.00   320.00   320.0   320.00  320.0  \n",
       "mean     0.35     0.09     0.2     0.14   -0.2  \n",
       "std      0.48     0.29     0.4     0.35    0.4  \n",
       "min      0.00     0.00     0.0     0.00   -1.0  \n",
       "25%      0.00     0.00     0.0     0.00    0.0  \n",
       "50%      0.00     0.00     0.0     0.00    0.0  \n",
       "75%      1.00     0.00     0.0     0.00    0.0  \n",
       "max      1.00     1.00     1.0     1.00    0.0  \n",
       "\n",
       "[8 rows x 23 columns]"
      ]
     },
     "execution_count": 124,
     "metadata": {},
     "output_type": "execute_result"
    }
   ],
   "source": [
    "# describe after robust scaler\n",
    "np.round(X_train_rb_scaled.describe(), 2)"
   ]
  },
  {
   "cell_type": "markdown",
   "id": "7852f9ba",
   "metadata": {},
   "source": [
    "# Machine Learning model creation"
   ]
  },
  {
   "cell_type": "markdown",
   "id": "df3580bc",
   "metadata": {},
   "source": [
    "# 1) logistic Regression"
   ]
  },
  {
   "cell_type": "code",
   "execution_count": 125,
   "id": "91d76bc4",
   "metadata": {},
   "outputs": [],
   "source": [
    "from sklearn.linear_model import LogisticRegression\n",
    "from sklearn.metrics import confusion_matrix, accuracy_score\n",
    "\n",
    "# on standard scaled \n",
    "lg_std = LogisticRegression()\n",
    "lg_std.fit(X_train_scaled, y_train_encoded)\n",
    "y_pred_lg_std  = lg_std.predict(X_test_scaled) \n",
    "lg_std_cm = confusion_matrix(y_test_encoded, y_pred_lg_std)\n",
    "lg_std_accuracy = accuracy_score(y_test_encoded, y_pred_lg_std)\n",
    "\n",
    "# on MinMaxscaled data\n",
    "lg_mm = LogisticRegression()\n",
    "lg_mm.fit(X_train_mm_scaled, y_train_encoded)\n",
    "y_pred_lg_mm  = lg_mm.predict(X_test_scaled) \n",
    "lg_mm_cm = confusion_matrix(y_test_encoded, y_pred_lg_mm)\n",
    "lg_mm_accuracy = accuracy_score(y_test_encoded, y_pred_lg_mm)\n",
    "\n",
    "\n",
    "\n",
    "# on Robust Scaled data\n",
    "lg_rb = LogisticRegression()\n",
    "lg_rb.fit(X_train_rb_scaled, y_train_encoded)\n",
    "y_pred_lg_rb  = lg_rb.predict(X_test_scaled) \n",
    "lg_rb_cm = confusion_matrix(y_test_encoded, y_pred_lg_rb)\n",
    "lg_rb_accuracy = accuracy_score(y_test_encoded, y_pred_lg_rb)\n",
    "\n"
   ]
  },
  {
   "cell_type": "markdown",
   "id": "2c6988cc",
   "metadata": {},
   "source": [
    "#### score for logistic regression on each scaled data"
   ]
  },
  {
   "cell_type": "code",
   "execution_count": 126,
   "id": "c7d4a8e0",
   "metadata": {
    "scrolled": true
   },
   "outputs": [
    {
     "name": "stdout",
     "output_type": "stream",
     "text": [
      "Logistic Regression with Standard scaler: \n",
      "[[46  1]\n",
      " [ 0 33]]\n",
      "accuracy score for standard scaled logistic regression :  0.9875\n",
      "--------\n",
      "Logistic Regression with MinMax scaler: \n",
      "[[46  1]\n",
      " [ 0 33]]\n",
      "accuracy score for MinMax scaled logistic regression :  0.9875\n",
      "------\n",
      "Logistic Regression with robust scaler: \n",
      "[[37 10]\n",
      " [ 0 33]]\n",
      "accuracy score for robust scaled logistic regression :  0.875\n"
     ]
    }
   ],
   "source": [
    "# for standard sclaed data\n",
    "print('Logistic Regression with Standard scaler: ')\n",
    "print(lg_std_cm)\n",
    "print('accuracy score for standard scaled logistic regression : ', lg_std_accuracy)\n",
    "print('--------')    \n",
    " \n",
    "# for minmax sclaed data\n",
    "print('Logistic Regression with MinMax scaler: ')\n",
    "print(lg_mm_cm)\n",
    "print('accuracy score for MinMax scaled logistic regression : ', lg_mm_accuracy)\n",
    "print('------')\n",
    "\n",
    "# for robust sclaed data\n",
    "print('Logistic Regression with robust scaler: ')\n",
    "print(lg_rb_cm)\n",
    "print('accuracy score for robust scaled logistic regression : ', lg_rb_accuracy)"
   ]
  },
  {
   "cell_type": "markdown",
   "id": "6534ab20",
   "metadata": {},
   "source": [
    "## 2) Support vector machine"
   ]
  },
  {
   "cell_type": "code",
   "execution_count": 127,
   "id": "a87cde73",
   "metadata": {},
   "outputs": [],
   "source": [
    "from sklearn.svm import SVC\n",
    "from sklearn.metrics import confusion_matrix, accuracy_score\n",
    "\n",
    "# on standard scaled \n",
    "svm_std = SVC()\n",
    "svm_std.fit(X_train_scaled, y_train_encoded)\n",
    "y_pred_svm_std  = svm_std.predict(X_test_scaled) \n",
    "svm_std_cm = confusion_matrix(y_test_encoded, y_pred_svm_std)\n",
    "svm_std_accuracy = accuracy_score(y_test_encoded, y_pred_svm_std)\n",
    "\n",
    "# on MinMaxscaled data\n",
    "svm_mm = SVC()\n",
    "svm_mm.fit(X_train_mm_scaled, y_train_encoded)\n",
    "y_pred_svm_mm  = svm_mm.predict(X_test_scaled) \n",
    "svm_mm_cm = confusion_matrix(y_test_encoded, y_pred_svm_mm)\n",
    "svm_mm_accuracy = accuracy_score(y_test_encoded, y_pred_svm_mm)\n",
    "\n",
    "\n",
    "\n",
    "# on Robust Scaled data\n",
    "svm_rb = SVC()\n",
    "svm_rb.fit(X_train_rb_scaled, y_train_encoded)\n",
    "y_pred_svm_rb  = svm_rb.predict(X_test_scaled) \n",
    "svm_rb_cm = confusion_matrix(y_test_encoded, y_pred_svm_rb)\n",
    "svm_rb_accuracy = accuracy_score(y_test_encoded, y_pred_svm_rb)\n",
    "\n"
   ]
  },
  {
   "cell_type": "code",
   "execution_count": 128,
   "id": "ba5dcf6a",
   "metadata": {
    "scrolled": false
   },
   "outputs": [
    {
     "name": "stdout",
     "output_type": "stream",
     "text": [
      "Support vector machine with Standard scaler: \n",
      "[[46  1]\n",
      " [ 0 33]]\n",
      "accuracy score for standard scaled Support vector machine :  0.9875\n",
      "--------\n",
      "Support vector machine with MinMax scaler: \n",
      "[[47  0]\n",
      " [33  0]]\n",
      "accuracy score for MinMax scaled Support vector machine :  0.5875\n",
      "------\n",
      "Support vector machine with robust scaler: \n",
      "[[42  5]\n",
      " [ 0 33]]\n",
      "accuracy score for robust scaled Support vector machine :  0.9375\n"
     ]
    }
   ],
   "source": [
    "# for standard sclaed data\n",
    "print('Support vector machine with Standard scaler: ')\n",
    "print(svm_std_cm)\n",
    "print('accuracy score for standard scaled Support vector machine : ', svm_std_accuracy)\n",
    "print('--------')    \n",
    " \n",
    "# for minmax sclaed data\n",
    "print('Support vector machine with MinMax scaler: ')\n",
    "print(svm_mm_cm)\n",
    "print('accuracy score for MinMax scaled Support vector machine : ', svm_mm_accuracy)\n",
    "print('------')\n",
    "\n",
    "# for robust sclaed data\n",
    "print('Support vector machine with robust scaler: ')\n",
    "print(svm_rb_cm)\n",
    "print('accuracy score for robust scaled Support vector machine : ', svm_rb_accuracy)"
   ]
  },
  {
   "cell_type": "markdown",
   "id": "df56bf63",
   "metadata": {},
   "source": [
    "## 3) Decision Tree Classifier"
   ]
  },
  {
   "cell_type": "code",
   "execution_count": 129,
   "id": "b54880d2",
   "metadata": {},
   "outputs": [],
   "source": [
    "from sklearn.tree import DecisionTreeClassifier\n",
    "from sklearn.metrics import confusion_matrix, accuracy_score\n",
    "\n",
    "# on standard scaled \n",
    "dt_std = DecisionTreeClassifier()\n",
    "dt_std.fit(X_train_scaled, y_train_encoded)\n",
    "y_pred_dt_std  = dt_std.predict(X_test_scaled) \n",
    "dt_std_cm = confusion_matrix(y_test_encoded, y_pred_dt_std)\n",
    "dt_std_accuracy = accuracy_score(y_test_encoded, y_pred_dt_std)\n",
    "\n",
    "# on MinMaxscaled data\n",
    "dt_mm = DecisionTreeClassifier()\n",
    "dt_mm.fit(X_train_mm_scaled, y_train_encoded)\n",
    "y_pred_dt_mm  = dt_mm.predict(X_test_scaled) \n",
    "dt_mm_cm = confusion_matrix(y_test_encoded, y_pred_dt_mm)\n",
    "dt_mm_accuracy = accuracy_score(y_test_encoded, y_pred_dt_mm)\n",
    "\n",
    "\n",
    "\n",
    "# on Robust Scaled data\n",
    "dt_rb = DecisionTreeClassifier()\n",
    "dt_rb.fit(X_train_rb_scaled, y_train_encoded)\n",
    "y_pred_dt_rb  = dt_rb.predict(X_test_scaled) \n",
    "dt_rb_cm = confusion_matrix(y_test_encoded, y_pred_dt_rb)\n",
    "dt_rb_accuracy = accuracy_score(y_test_encoded, y_pred_dt_rb)\n",
    "\n",
    "\n"
   ]
  },
  {
   "cell_type": "code",
   "execution_count": 130,
   "id": "dc3b53f6",
   "metadata": {
    "scrolled": true
   },
   "outputs": [
    {
     "name": "stdout",
     "output_type": "stream",
     "text": [
      "Decision Tree classifier with Standard scaler: \n",
      "[[46  1]\n",
      " [ 1 32]]\n",
      "accuracy score for standard scaled Decision Tree classifier :  0.975\n",
      "--------\n",
      "Decision Tree classifier with MinMax scaler: \n",
      "[[47  0]\n",
      " [17 16]]\n",
      "accuracy score for MinMax scaled Decision Tree classifier :  0.7875\n",
      "------\n",
      "Decision Tree classifier with robust scaler: \n",
      "[[45  2]\n",
      " [ 0 33]]\n",
      "accuracy score for robust scaled Decision Tree classifier :  0.975\n"
     ]
    }
   ],
   "source": [
    "# for standard sclaed data\n",
    "print('Decision Tree classifier with Standard scaler: ')\n",
    "print(dt_std_cm)\n",
    "print('accuracy score for standard scaled Decision Tree classifier : ', dt_std_accuracy)\n",
    "print('--------')    \n",
    " \n",
    "# for minmax sclaed data\n",
    "print('Decision Tree classifier with MinMax scaler: ')\n",
    "print(dt_mm_cm)\n",
    "print('accuracy score for MinMax scaled Decision Tree classifier : ', dt_mm_accuracy)\n",
    "print('------')\n",
    "\n",
    "# for robust sclaed data\n",
    "print('Decision Tree classifier with robust scaler: ')\n",
    "print(dt_rb_cm)\n",
    "print('accuracy score for robust scaled Decision Tree classifier : ', dt_rb_accuracy)\n",
    "\n"
   ]
  },
  {
   "cell_type": "code",
   "execution_count": 131,
   "id": "f25caa36",
   "metadata": {},
   "outputs": [
    {
     "data": {
      "text/html": [
       "<div>\n",
       "<style scoped>\n",
       "    .dataframe tbody tr th:only-of-type {\n",
       "        vertical-align: middle;\n",
       "    }\n",
       "\n",
       "    .dataframe tbody tr th {\n",
       "        vertical-align: top;\n",
       "    }\n",
       "\n",
       "    .dataframe thead th {\n",
       "        text-align: right;\n",
       "    }\n",
       "</style>\n",
       "<table border=\"1\" class=\"dataframe\">\n",
       "  <thead>\n",
       "    <tr style=\"text-align: right;\">\n",
       "      <th></th>\n",
       "      <th>ML models</th>\n",
       "      <th>Standard_sclaled</th>\n",
       "      <th>MinMax-Scaled</th>\n",
       "      <th>Robust-Scaled</th>\n",
       "    </tr>\n",
       "  </thead>\n",
       "  <tbody>\n",
       "    <tr>\n",
       "      <th>0</th>\n",
       "      <td>Lodistic Regression</td>\n",
       "      <td>0.9875</td>\n",
       "      <td>0.9875</td>\n",
       "      <td>0.8750</td>\n",
       "    </tr>\n",
       "    <tr>\n",
       "      <th>1</th>\n",
       "      <td>SVM</td>\n",
       "      <td>0.9875</td>\n",
       "      <td>0.5875</td>\n",
       "      <td>0.9375</td>\n",
       "    </tr>\n",
       "    <tr>\n",
       "      <th>2</th>\n",
       "      <td>Decision Tree</td>\n",
       "      <td>0.9750</td>\n",
       "      <td>0.7875</td>\n",
       "      <td>0.9750</td>\n",
       "    </tr>\n",
       "  </tbody>\n",
       "</table>\n",
       "</div>"
      ],
      "text/plain": [
       "             ML models  Standard_sclaled  MinMax-Scaled  Robust-Scaled\n",
       "0  Lodistic Regression            0.9875         0.9875         0.8750\n",
       "1                  SVM            0.9875         0.5875         0.9375\n",
       "2        Decision Tree            0.9750         0.7875         0.9750"
      ]
     },
     "execution_count": 131,
     "metadata": {},
     "output_type": "execute_result"
    }
   ],
   "source": [
    "# create score dataframe for ml models with each scaled data\n",
    "scores = {'ML models' : ['Lodistic Regression', 'SVM', 'Decision Tree'],\n",
    "        'Standard_sclaled': [lg_std_accuracy, svm_std_accuracy, dt_std_accuracy],\n",
    "        'MinMax-Scaled' : [lg_mm_accuracy, svm_mm_accuracy, dt_mm_accuracy],\n",
    "        'Robust-Scaled' : [lg_rb_accuracy, svm_rb_accuracy, dt_rb_accuracy]\n",
    "        }\n",
    "\n",
    "\n",
    "score_df = pd.DataFrame(scores)\n",
    "score_df"
   ]
  },
  {
   "cell_type": "markdown",
   "id": "cd2c8881",
   "metadata": {},
   "source": [
    "# Conclusion on this data : \n",
    " - I have tried to clean this dataset, I hope I have done it on right way.\n",
    " - and also I have create some machine learning model and test their accuracy on this data with different scaling. \n",
    " - I got reselt for which model we can choose with which scaling for best result.\n",
    " - We can use \n",
    "   - `Logistic regression` with `Standard scaled data` and `MinMax scaled data`\n",
    "   - `Support vector machine` with only `standard scaling data` which gives best result.\n",
    "   \n",
    " - Please give advice something if  weather I made mistakes..\n"
   ]
  },
  {
   "cell_type": "markdown",
   "id": "0a8bcd76",
   "metadata": {},
   "source": [
    "### ------- Thank You ------"
   ]
  }
 ],
 "metadata": {
  "kernelspec": {
   "display_name": "Python 3 (ipykernel)",
   "language": "python",
   "name": "python3"
  },
  "language_info": {
   "codemirror_mode": {
    "name": "ipython",
    "version": 3
   },
   "file_extension": ".py",
   "mimetype": "text/x-python",
   "name": "python",
   "nbconvert_exporter": "python",
   "pygments_lexer": "ipython3",
   "version": "3.9.7"
  }
 },
 "nbformat": 4,
 "nbformat_minor": 5
}
